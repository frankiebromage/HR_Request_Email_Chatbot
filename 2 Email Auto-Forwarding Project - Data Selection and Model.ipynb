{
 "cells": [
  {
   "cell_type": "markdown",
   "id": "95c2a3d8",
   "metadata": {},
   "source": [
    "# 2. Email Auto-forwarding Project - Data Selection and Model\n",
    "Using the enron email dataset\n",
    "Frankie Bromage\n"
   ]
  },
  {
   "cell_type": "markdown",
   "id": "30487e26",
   "metadata": {},
   "source": [
    "<h2> Introduction </h2>"
   ]
  },
  {
   "cell_type": "markdown",
   "id": "7273a751",
   "metadata": {},
   "source": [
    "- In my own experience, spending time re-routing emails to the correct person is not only mindless and time-consuming for the person forwarding the emails, but also increases the time it takes for the correct person to receive the email. It also increases the probability that emails will get missed and requests are over-looked.\n",
    "- In this project I aim to build a program that takes emails as inputs direclty from an outlook application and forwards them to the appropriate person based on past forwarding behaviour.\n",
    "- To do this, I use Natural Language Processing to convert the text into a bag of words and train a neural network model to classify the emails.\n",
    "- To simulate a real-world situation and avoid using personal data, I am using emails forwarded by one employee with the enron email dataset, a public dataset of 500,000 emails.\n",
    "- I use 2019 code from kaggle user DFOLY1 to pre-process the enron email data set. Accessed from: \"https://www.kaggle.com/code/dfoly1/k-means-clustering-from-scratch\".\n",
    "- The model is based on a chat-bot model used in a 2020 video by NeuralNine which can be found here: \"https://www.youtube.com/watch?v=1lwddP0KUEg\"."
   ]
  },
  {
   "cell_type": "markdown",
   "id": "c6219b82",
   "metadata": {},
   "source": [
    "<h3> This Notebook </h3>"
   ]
  },
  {
   "cell_type": "markdown",
   "id": "7ef2e9a7",
   "metadata": {},
   "source": [
    "In the previous notebook I cleaned up the data from the enron email dataset. In this notebook I will:\n",
    "- Select the data pertinent to the problem I am tackling.\n",
    "- Split the data into train and test.\n",
    "- Train a neural network model to classify the data.\n",
    "- Compare the neural network with the accuracy of simpler models.\n",
    "- Save the model for use in an auto-forwarding application"
   ]
  },
  {
   "cell_type": "markdown",
   "id": "84803318",
   "metadata": {},
   "source": [
    "<h2> Library Imports </h2>"
   ]
  },
  {
   "cell_type": "code",
   "execution_count": 1,
   "id": "4a9b2d2c",
   "metadata": {},
   "outputs": [
    {
     "name": "stderr",
     "output_type": "stream",
     "text": [
      "C:\\Users\\frankiecheng\\Anaconda3\\lib\\site-packages\\scipy\\__init__.py:146: UserWarning: A NumPy version >=1.16.5 and <1.23.0 is required for this version of SciPy (detected version 1.24.2\n",
      "  warnings.warn(f\"A NumPy version >={np_minversion} and <{np_maxversion}\"\n"
     ]
    }
   ],
   "source": [
    "import csv\n",
    "\n",
    "import random\n",
    "import string\n",
    "from string import Template\n",
    "import os, sys, email,re\n",
    "import numpy as np \n",
    "import pandas as pd\n",
    "\n",
    "# Plotting\n",
    "import matplotlib.pyplot as plt\n",
    "%matplotlib inline\n",
    "plt.style.use('fivethirtyeight')\n",
    "\n",
    "from sklearn.model_selection import train_test_split\n",
    "\n",
    "import json\n",
    "import pickle\n",
    "import tensorflow as tf\n",
    "\n",
    "import nltk\n",
    "from nltk.stem import WordNetLemmatizer\n",
    "from nltk.tokenize import word_tokenize\n",
    "\n",
    "\n",
    "from sklearn.tree import DecisionTreeClassifier\n",
    "from sklearn.neighbors import KNeighborsClassifier\n",
    "from sklearn.metrics import accuracy_score\n",
    "\n",
    "\n",
    "\n",
    "\n"
   ]
  },
  {
   "cell_type": "markdown",
   "id": "3d43d2ae",
   "metadata": {},
   "source": [
    "Import cleaned data from previous notebook"
   ]
  },
  {
   "cell_type": "code",
   "execution_count": 8,
   "id": "aecaf084",
   "metadata": {},
   "outputs": [],
   "source": [
    "emails_df = pd.read_csv('enron_clean.csv')"
   ]
  },
  {
   "cell_type": "markdown",
   "id": "5d9c3a2e",
   "metadata": {},
   "source": [
    "<h4> Selecting Simulation Data <h4>"
   ]
  },
  {
   "cell_type": "markdown",
   "id": "1bd6ef11",
   "metadata": {},
   "source": [
    "I want to select emails from someone who forwards many of their emails to simulate my own situation."
   ]
  },
  {
   "cell_type": "code",
   "execution_count": 9,
   "id": "d4ea599d",
   "metadata": {
    "scrolled": false
   },
   "outputs": [
    {
     "data": {
      "text/plain": [
       "From\n",
       "vince.kaminski@enron.com    4299\n",
       "kay.mann@enron.com          1516\n",
       "darron.giron@enron.com      1336\n",
       "chris.germany@enron.com      914\n",
       "judy.hernandez@enron.com     786\n",
       "                            ... \n",
       "mark.haedicke@enron.com        1\n",
       "robin.kittel@enron.com         1\n",
       "david.grevelle@enron.com       1\n",
       "robert.quick@enron.com         1\n",
       "stacy.dickson@enron.com        1\n",
       "Length: 628, dtype: int64"
      ]
     },
     "execution_count": 9,
     "metadata": {},
     "output_type": "execute_result"
    }
   ],
   "source": [
    "#Find employees who forward the most emails.\n",
    "emails_df.loc[emails_df['body'].str.startswith('---------------------- Forwarded by')].value_counts('From')"
   ]
  },
  {
   "cell_type": "markdown",
   "id": "ef192dfa",
   "metadata": {},
   "source": [
    "Employees Vince Kaminski and Kay Mann seem to be the employees who forward the emails the most in the dataset, so I focus my analysis on these two."
   ]
  },
  {
   "cell_type": "code",
   "execution_count": 10,
   "id": "0882c9fc",
   "metadata": {},
   "outputs": [],
   "source": [
    "vince_kay_all = emails_df.loc[(emails_df['From'] == 'kay.mann@enron.com')|(emails_df['From'] == 'vince.kaminski@enron.com')]"
   ]
  },
  {
   "cell_type": "code",
   "execution_count": 11,
   "id": "448dd839",
   "metadata": {},
   "outputs": [],
   "source": [
    "kay_only_df = vince_kay_all.loc[(vince_kay_all['From'] == 'kay.mann@enron.com')]"
   ]
  },
  {
   "cell_type": "markdown",
   "id": "aa730ae3",
   "metadata": {},
   "source": [
    "I have a look at who Vince and Kay are forwarding their emails to, to see if there are a few individuals that they forward many emails to"
   ]
  },
  {
   "cell_type": "code",
   "execution_count": 12,
   "id": "69683a48",
   "metadata": {},
   "outputs": [],
   "source": [
    "vince_fwd_df = vince_kay_all.loc[(vince_kay_all['From'] == 'vince.kaminski@enron.com')&(vince_kay_all['body'].str.startswith('---------------------- Forwarded by'))]"
   ]
  },
  {
   "cell_type": "code",
   "execution_count": 13,
   "id": "358655b5",
   "metadata": {
    "scrolled": false
   },
   "outputs": [
    {
     "data": {
      "text/plain": [
       "To\n",
       "vkaminski@aol.com             3720\n",
       "shirley.crenshaw@enron.com     112\n",
       "vince.kaminski@enron.com        72\n",
       "vincek@leland.stanford.edu      48\n",
       "stinson.gibner@enron.com        44\n",
       "grant.masson@enron.com          28\n",
       "mike.roberts@enron.com          24\n",
       "anita.dupont@enron.com          24\n",
       "ludkam@aol.com                  21\n",
       "kenneth.parkhill@enron.com      16\n",
       "dtype: int64"
      ]
     },
     "execution_count": 13,
     "metadata": {},
     "output_type": "execute_result"
    }
   ],
   "source": [
    "vince_fwd_df.value_counts('To').head(10)"
   ]
  },
  {
   "cell_type": "markdown",
   "id": "418aeeda",
   "metadata": {},
   "source": [
    "Vince Kaminski appears to forward many emails to his personal email address, suggesting that he had an auto-forwarding service switched on. As this situation does not well mimic the one that I am looking into, I exclude him from the project and focus on Kay Mann's emails."
   ]
  },
  {
   "cell_type": "markdown",
   "id": "b319acba",
   "metadata": {},
   "source": [
    "I investigate to see if Kay Mann repeatedly forwards emails to the same people. If she does, the program I create will be useful to her and she will be a good example to use."
   ]
  },
  {
   "cell_type": "code",
   "execution_count": 14,
   "id": "4bc4f8cd",
   "metadata": {},
   "outputs": [],
   "source": [
    "#Create a dataframe of only the emails from Kay that are forwarded to others.\n",
    "kay_fwd_df = kay_only_df.loc[kay_only_df['body'].str.startswith('---------------------- Forwarded by')]"
   ]
  },
  {
   "cell_type": "code",
   "execution_count": 15,
   "id": "f1abb7ae",
   "metadata": {
    "scrolled": true
   },
   "outputs": [
    {
     "data": {
      "text/plain": [
       "To\n",
       "nmann@erac.com                                                                                                                                                                                                           132\n",
       "suzanne.adams@enron.com                                                                                                                                                                                                  104\n",
       "carlos.sole@enron.com                                                                                                                                                                                                     96\n",
       "kathleen.carnahan@enron.com                                                                                                                                                                                               77\n",
       "roseann.engeldorf@enron.com                                                                                                                                                                                               52\n",
       "                                                                                                                                                                                                                        ... \n",
       "laura.luce@enron.com                                                                                                                                                                                                       4\n",
       "kent.shoemaker@ae.ge.com, lee.johnson@ss.ps.ge.com                                                                                                                                                                         4\n",
       "ann.white@enron.com, carlos.sole@enron.com, barbara.gray@enron.com                                                                                                                                                         4\n",
       "wmonjoy@brunini.com                                                                                                                                                                                                        4\n",
       "barbara.gray@enron.com, peggy.banczak@enron.com, heather.kroll@enron.com, \\n\\tanne.koehler@enron.com, lisa.bills@enron.com, \\n\\troseann.engeldorf@enron.com, christi.nicolay@enron.com, \\n\\tlisa.mellencamp@enron.com      2\n",
       "Length: 147, dtype: int64"
      ]
     },
     "execution_count": 15,
     "metadata": {},
     "output_type": "execute_result"
    }
   ],
   "source": [
    "kay_fwd_df.value_counts('To')"
   ]
  },
  {
   "cell_type": "markdown",
   "id": "d3a08742",
   "metadata": {},
   "source": [
    "It appears that Kay does forward a significant number of emails to several of her colleagues."
   ]
  },
  {
   "cell_type": "code",
   "execution_count": 16,
   "id": "11059227",
   "metadata": {},
   "outputs": [],
   "source": [
    "#Save the dataframe with only kay's forwarded emails. I will use these in the analysis\n",
    "kay_fwd_df.to_csv(\"kay_fwd_emails.csv\")"
   ]
  },
  {
   "cell_type": "markdown",
   "id": "dc658f0d",
   "metadata": {},
   "source": [
    "I investigated to see if emails forwarded by Kay could be matched with emails recieved by her in the dataset. In real life, we would have information from received emails before they were forwarded"
   ]
  },
  {
   "cell_type": "code",
   "execution_count": 17,
   "id": "8761aabe",
   "metadata": {},
   "outputs": [],
   "source": [
    "kay_rcd = emails_df.loc[(emails_df['To'] == 'kay.mann@enron.com')]"
   ]
  },
  {
   "cell_type": "code",
   "execution_count": 18,
   "id": "e7b45e2e",
   "metadata": {},
   "outputs": [
    {
     "data": {
      "text/plain": [
       "3085"
      ]
     },
     "execution_count": 18,
     "metadata": {},
     "output_type": "execute_result"
    }
   ],
   "source": [
    "len(kay_rcd)"
   ]
  },
  {
   "cell_type": "code",
   "execution_count": 19,
   "id": "7fd7622e",
   "metadata": {},
   "outputs": [
    {
     "data": {
      "text/plain": [
       "'Kay,\\n\\nWill deliver to you shortly.\\n\\nSusan \\n\\n -----Original Message-----\\nFrom: \\tMann, Kay  \\nSent:\\tMonday, January 28, 2002 1:55 PM\\nTo:\\tBailey, Susan\\nSubject:\\tMidland Cogeneration Venture termination\\n\\nCould I get a copy of the Midland Cogeneration Venture Limited Partnership termination letter?\\n\\nThanks,\\n\\nKay'"
      ]
     },
     "execution_count": 19,
     "metadata": {},
     "output_type": "execute_result"
    }
   ],
   "source": [
    "kay_rcd['body'].values[0]"
   ]
  },
  {
   "cell_type": "code",
   "execution_count": 20,
   "id": "4426e330",
   "metadata": {
    "scrolled": true
   },
   "outputs": [
    {
     "data": {
      "text/plain": [
       "\"Duke Energy Field Services has provided a copy of all the referenced agreements to me.  The only problem is that not one agreement has been executed by Centana (aka CIPCO) or ENA.  During my last conversation with Greg Swidensky at Duke, Greg said they needed to know whether ENA was going to keep the contracts or not.  This leads me to believe that Centana thinks that the agreements are active whether executed or not.  What's your legal opinion?  \\n\\nOnce again, I believe that the rates under these deals look pretty good and there may be some interest by third-parties in picking up these contracts.\\n\\nRuth\""
      ]
     },
     "execution_count": 20,
     "metadata": {},
     "output_type": "execute_result"
    }
   ],
   "source": [
    "kay_rcd['body'].values[5]"
   ]
  },
  {
   "cell_type": "code",
   "execution_count": 21,
   "id": "f7e36121",
   "metadata": {},
   "outputs": [
    {
     "data": {
      "text/plain": [
       "\"---------------------- Forwarded by Kay Mann/Corp/Enron on 04/04/2001 08:26 \\nAM ---------------------------\\nFrom: Carlos Sole@ENRON on 04/03/2001 11:09 PM\\nTo: Lorie Leigh/HOU/ECT@ECT\\ncc: Ben F Jacoby/HOU/ECT@ECT, Bill Fox/ENRON_DEVELOPMENT@ENRON_DEVELOPMENT, \\nBrett R Wiggs/SA/Enron@Enron@ECT, Carlos Sole/NA/Enron@Enron@ECT, Darrell \\nStovall/NA/Enron@Enron@ECT, Kay Mann/Corp/Enron@Enron@ECT, Lisa \\nBills/Enron@EnronXGate@ECT, Marianne M Arake/SA/Enron@Enron@ECT, Mike \\nColeman/ENRON_DEVELOPMENT@ENRON_DEVELOPMENT, Roseann \\nEngeldorf/Enron@EnronXGate@ECT, Shelby Malkemes/Corp/Enron@ENRON@ECT \\n\\nSubject: Re: REMINDER - CONFERENCE CALL - Wednesday - MHI Turbine Contract  \\n\\nI have a conflicting call at that time tomorrow, thus, I will not be able to \\nparticipate.  Nevertheless, the one issue that I would suggest that be \\ndiscussed is Mike Coleman's technical review of how the contract will need to \\nbe revised. \\n\\nCarlos Sole'\\nSenior Counsel\\nEnron North America Corp.\\n1400 Smith Street\\nHouston, Texas 77002-7361\\n\\n(713) 345-8191 (phone)\\n713 646-3393 (fax)\\n\\n\\n\\n\\tLorie Leigh@ECT\\n\\t04/03/2001 05:01 PM\\n\\t\\t \\n\\t\\t To: Carlos Sole/NA/Enron@Enron, Roseann Engeldorf/Enron@EnronXGate, Lisa \\nBills/Enron@EnronXGate, Kay Mann/Corp/Enron@Enron, Brett R \\nWiggs/SA/Enron@Enron, Ben F Jacoby/HOU/ECT@ECT, Mike \\nColeman/ENRON_DEVELOPMENT@ENRON_DEVELOPMENT, Darrell Stovall/NA/Enron@Enron, \\nBill Fox/ENRON_DEVELOPMENT@ENRON_DEVELOPMENT\\n\\t\\t cc: Shelby Malkemes/Corp/Enron@ENRON, Marianne M Arake/SA/Enron@Enron\\n\\t\\t Subject: REMINDER - CONFERENCE CALL - Wednesday - MHI Turbine Contract\\n\\n\\n\\nConference Plus will be hosting this call:\\n\\nthe date:  Wednesday, April 3rd, 2001\\nthe number:  1-800-991-9019\\nthe passcode: 6470331#\\nthe time:  10:00 AM - 12:00 PM CST\\nthe place:  EB 3143B\\nthe subject:  MHI Turbine Contract\\n \\nIf you have any problems or questions, please feel free to call me at \\n713-853-1696.\\n\\nThank you,\\nLorie Leigh\\n\\n\\n\\n\\n\\n\\n\\n\\n\\n\\n\\n\\n\\n\\n\\n\\n\\n\\n\\n\\n\\n\""
      ]
     },
     "execution_count": 21,
     "metadata": {},
     "output_type": "execute_result"
    }
   ],
   "source": [
    "kay_fwd_df['body'].values[1]"
   ]
  },
  {
   "cell_type": "code",
   "execution_count": 22,
   "id": "edfb1a46",
   "metadata": {},
   "outputs": [
    {
     "data": {
      "text/html": [
       "<div>\n",
       "<style scoped>\n",
       "    .dataframe tbody tr th:only-of-type {\n",
       "        vertical-align: middle;\n",
       "    }\n",
       "\n",
       "    .dataframe tbody tr th {\n",
       "        vertical-align: top;\n",
       "    }\n",
       "\n",
       "    .dataframe thead th {\n",
       "        text-align: right;\n",
       "    }\n",
       "</style>\n",
       "<table border=\"1\" class=\"dataframe\">\n",
       "  <thead>\n",
       "    <tr style=\"text-align: right;\">\n",
       "      <th></th>\n",
       "      <th>Unnamed: 0</th>\n",
       "      <th>From</th>\n",
       "      <th>To</th>\n",
       "      <th>Subject</th>\n",
       "      <th>body</th>\n",
       "    </tr>\n",
       "  </thead>\n",
       "  <tbody>\n",
       "  </tbody>\n",
       "</table>\n",
       "</div>"
      ],
      "text/plain": [
       "Empty DataFrame\n",
       "Columns: [Unnamed: 0, From, To, Subject, body]\n",
       "Index: []"
      ]
     },
     "execution_count": 22,
     "metadata": {},
     "output_type": "execute_result"
    }
   ],
   "source": [
    "#some forwarded messages don't match up with received messages.\n",
    "kay_rcd.loc[kay_rcd['body'].str.contains('MHI Turbine Contract')]"
   ]
  },
  {
   "cell_type": "code",
   "execution_count": 23,
   "id": "e875e935",
   "metadata": {},
   "outputs": [
    {
     "data": {
      "text/html": [
       "<div>\n",
       "<style scoped>\n",
       "    .dataframe tbody tr th:only-of-type {\n",
       "        vertical-align: middle;\n",
       "    }\n",
       "\n",
       "    .dataframe tbody tr th {\n",
       "        vertical-align: top;\n",
       "    }\n",
       "\n",
       "    .dataframe thead th {\n",
       "        text-align: right;\n",
       "    }\n",
       "</style>\n",
       "<table border=\"1\" class=\"dataframe\">\n",
       "  <thead>\n",
       "    <tr style=\"text-align: right;\">\n",
       "      <th></th>\n",
       "      <th>Unnamed: 0</th>\n",
       "      <th>From</th>\n",
       "      <th>To</th>\n",
       "      <th>Subject</th>\n",
       "      <th>body</th>\n",
       "    </tr>\n",
       "  </thead>\n",
       "  <tbody>\n",
       "    <tr>\n",
       "      <th>308510</th>\n",
       "      <td>308510</td>\n",
       "      <td>ben.jacoby@enron.com</td>\n",
       "      <td>kay.mann@enron.com</td>\n",
       "      <td>Re: GE Turbines</td>\n",
       "      <td>Kay:\\n\\nFYI, I was contacted by this guy who c...</td>\n",
       "    </tr>\n",
       "    <tr>\n",
       "      <th>309468</th>\n",
       "      <td>309468</td>\n",
       "      <td>ben.jacoby@enron.com</td>\n",
       "      <td>kay.mann@enron.com</td>\n",
       "      <td>RE: GE Turbines</td>\n",
       "      <td>Thanks.\\n\\n -----Original Message-----\\nFrom: ...</td>\n",
       "    </tr>\n",
       "    <tr>\n",
       "      <th>313936</th>\n",
       "      <td>313936</td>\n",
       "      <td>ben.jacoby@enron.com</td>\n",
       "      <td>kay.mann@enron.com</td>\n",
       "      <td>Re: GE Turbines</td>\n",
       "      <td>Kay:\\n\\nFYI, I was contacted by this guy who c...</td>\n",
       "    </tr>\n",
       "    <tr>\n",
       "      <th>314781</th>\n",
       "      <td>314781</td>\n",
       "      <td>ben.jacoby@enron.com</td>\n",
       "      <td>kay.mann@enron.com</td>\n",
       "      <td>RE: GE Turbines</td>\n",
       "      <td>Thanks.\\n\\n -----Original Message-----\\nFrom: ...</td>\n",
       "    </tr>\n",
       "    <tr>\n",
       "      <th>316986</th>\n",
       "      <td>316986</td>\n",
       "      <td>ben.jacoby@enron.com</td>\n",
       "      <td>kay.mann@enron.com</td>\n",
       "      <td>RE: GE Turbines</td>\n",
       "      <td>Thanks.\\n\\n -----Original Message-----\\nFrom: ...</td>\n",
       "    </tr>\n",
       "    <tr>\n",
       "      <th>317415</th>\n",
       "      <td>317415</td>\n",
       "      <td>ben.jacoby@enron.com</td>\n",
       "      <td>kay.mann@enron.com</td>\n",
       "      <td>Re: GE Turbines</td>\n",
       "      <td>Kay:\\n\\nFYI, I was contacted by this guy who c...</td>\n",
       "    </tr>\n",
       "  </tbody>\n",
       "</table>\n",
       "</div>"
      ],
      "text/plain": [
       "        Unnamed: 0                  From                  To          Subject  \\\n",
       "308510      308510  ben.jacoby@enron.com  kay.mann@enron.com  Re: GE Turbines   \n",
       "309468      309468  ben.jacoby@enron.com  kay.mann@enron.com  RE: GE Turbines   \n",
       "313936      313936  ben.jacoby@enron.com  kay.mann@enron.com  Re: GE Turbines   \n",
       "314781      314781  ben.jacoby@enron.com  kay.mann@enron.com  RE: GE Turbines   \n",
       "316986      316986  ben.jacoby@enron.com  kay.mann@enron.com  RE: GE Turbines   \n",
       "317415      317415  ben.jacoby@enron.com  kay.mann@enron.com  Re: GE Turbines   \n",
       "\n",
       "                                                     body  \n",
       "308510  Kay:\\n\\nFYI, I was contacted by this guy who c...  \n",
       "309468  Thanks.\\n\\n -----Original Message-----\\nFrom: ...  \n",
       "313936  Kay:\\n\\nFYI, I was contacted by this guy who c...  \n",
       "314781  Thanks.\\n\\n -----Original Message-----\\nFrom: ...  \n",
       "316986  Thanks.\\n\\n -----Original Message-----\\nFrom: ...  \n",
       "317415  Kay:\\n\\nFYI, I was contacted by this guy who c...  "
      ]
     },
     "execution_count": 23,
     "metadata": {},
     "output_type": "execute_result"
    }
   ],
   "source": [
    "#Some related emails can be found, but others can not.\n",
    "kay_rcd.loc[kay_rcd['body'].str.contains('GE Turbines')]"
   ]
  },
  {
   "cell_type": "markdown",
   "id": "4901cf23",
   "metadata": {},
   "source": [
    "I found that many of the emails forwarded by Kay could not be matched to emails received by her, so instead I focused on only the emails she forwarded as my dataset. I decided to remove the headers to simulate the emails being received before forwarding.\n",
    "For my portfolio, I would like to spend more time cleaning up the headers of the emails and use these also in processing as they contain important information and could improve the final model."
   ]
  },
  {
   "cell_type": "markdown",
   "id": "5f4d0076",
   "metadata": {},
   "source": [
    "I will use only the subject and body of the original emails (later forwarded by kay) to train the model"
   ]
  },
  {
   "cell_type": "code",
   "execution_count": 24,
   "id": "ad0f4b8a",
   "metadata": {
    "scrolled": true
   },
   "outputs": [
    {
     "data": {
      "text/plain": [
       "\"---------------------- Forwarded by Kay Mann/Corp/Enron on 04/04/2001 08:26 \\nAM ---------------------------\\nFrom: Carlos Sole@ENRON on 04/03/2001 11:09 PM\\nTo: Lorie Leigh/HOU/ECT@ECT\\ncc: Ben F Jacoby/HOU/ECT@ECT, Bill Fox/ENRON_DEVELOPMENT@ENRON_DEVELOPMENT, \\nBrett R Wiggs/SA/Enron@Enron@ECT, Carlos Sole/NA/Enron@Enron@ECT, Darrell \\nStovall/NA/Enron@Enron@ECT, Kay Mann/Corp/Enron@Enron@ECT, Lisa \\nBills/Enron@EnronXGate@ECT, Marianne M Arake/SA/Enron@Enron@ECT, Mike \\nColeman/ENRON_DEVELOPMENT@ENRON_DEVELOPMENT, Roseann \\nEngeldorf/Enron@EnronXGate@ECT, Shelby Malkemes/Corp/Enron@ENRON@ECT \\n\\nSubject: Re: REMINDER - CONFERENCE CALL - Wednesday - MHI Turbine Contract  \\n\\nI have a conflicting call at that time tomorrow, thus, I will not be able to \\nparticipate.  Nevertheless, the one issue that I would suggest that be \\ndiscussed is Mike Coleman's technical review of how the contract will need to \\nbe revised. \\n\\nCarlos Sole'\\nSenior Counsel\\nEnron North America Corp.\\n1400 Smith Street\\nHouston, Texas 77002-7361\\n\\n(713) 345-8191 (phone)\\n713 646-3393 (fax)\\n\\n\\n\\n\\tLorie Leigh@ECT\\n\\t04/03/2001 05:01 PM\\n\\t\\t \\n\\t\\t To: Carlos Sole/NA/Enron@Enron, Roseann Engeldorf/Enron@EnronXGate, Lisa \\nBills/Enron@EnronXGate, Kay Mann/Corp/Enron@Enron, Brett R \\nWiggs/SA/Enron@Enron, Ben F Jacoby/HOU/ECT@ECT, Mike \\nColeman/ENRON_DEVELOPMENT@ENRON_DEVELOPMENT, Darrell Stovall/NA/Enron@Enron, \\nBill Fox/ENRON_DEVELOPMENT@ENRON_DEVELOPMENT\\n\\t\\t cc: Shelby Malkemes/Corp/Enron@ENRON, Marianne M Arake/SA/Enron@Enron\\n\\t\\t Subject: REMINDER - CONFERENCE CALL - Wednesday - MHI Turbine Contract\\n\\n\\n\\nConference Plus will be hosting this call:\\n\\nthe date:  Wednesday, April 3rd, 2001\\nthe number:  1-800-991-9019\\nthe passcode: 6470331#\\nthe time:  10:00 AM - 12:00 PM CST\\nthe place:  EB 3143B\\nthe subject:  MHI Turbine Contract\\n \\nIf you have any problems or questions, please feel free to call me at \\n713-853-1696.\\n\\nThank you,\\nLorie Leigh\\n\\n\\n\\n\\n\\n\\n\\n\\n\\n\\n\\n\\n\\n\\n\\n\\n\\n\\n\\n\\n\\n\""
      ]
     },
     "execution_count": 24,
     "metadata": {},
     "output_type": "execute_result"
    }
   ],
   "source": [
    "kay_fwd_df['body'].values[1]"
   ]
  },
  {
   "cell_type": "code",
   "execution_count": 25,
   "id": "dfa6c7fa",
   "metadata": {},
   "outputs": [
    {
     "data": {
      "text/plain": [
       "'---------------------- Forwarded by Kay Mann/Corp/Enron on 04/04/2001 08:24 \\nAM ---------------------------\\n\\n\\n\"Pepe-Robbins, Suzanne M.\" <suzannepepe@paulhastings.com> on 04/04/2001 \\n05:27:31 AM\\nTo: \"Carolyn Campbell (E-mail)\" <ccampbell@kslaw.com>, \"Kay. Mann (E-mail)\" \\n<kay.mann@enron.com>, \"Isabel PARKER (E-mail)\" \\n<isabel.parker@freshfields.com>, \"Adrian BOUTEL (E-mail)\" \\n<adrian.boutel@freshfields.com>, \"\\'rhett.jackson@enron.com\\'\" \\n<rhett.jackson@enron.com>\\ncc: \"Lang, Gregory F.\" <gregorylang@paulhastings.com> \\n\\nSubject: Salmon Energy LLC Agreement\\n\\n\\n\\n\"paulhastings.com\" made the following annotations on 04/04/01 06:27:38\\n------------------------------------------------------------------------------\\nNEW E-MAIL ADDRESSES AT PAUL, HASTINGS, JANOFSKY & WALKER LLP\\n\\nWe have changed our e-mail address.  Our new domain name is\\npaulhastings.com.  In most cases, our address is composed of\\nconventional first name and last name plus @paulhastings.com.  Here are\\ntwo examples: janesmith@paulhastings.com and danjones@paulhastings.com.\\nIf you have any questions, please contact us at noc@paulhastings.com.\\n\\n==============================================================================\\n\"The information transmitted is intended only for the person or entity\\nto which it is addressed and may contain confidential and/or privileged\\nmaterial. Any review, retransmission, dissemination or other use of, or\\ntaking of any action in reliance upon, this information by persons or\\nentities other than the intended recipient is prohibited. If you\\nreceived this in error, please contact the sender and delete the\\nmaterial from all computers.\"\\n\\n==============================================================================\\n\\n\\nAttached is revised  llc agreement, marked to show changes.? Please feel free \\nto call me with  any questions.\\n?\\nSuzanne\\nPaul, Hastings,  Janofsky & Walker, LLP\\n(203)  961-7432\\n - Salmon Energy LLC Agreement_vRED.DOC\\n'"
      ]
     },
     "execution_count": 25,
     "metadata": {},
     "output_type": "execute_result"
    }
   ],
   "source": [
    "kay_fwd_df['body'].values[2]"
   ]
  },
  {
   "cell_type": "code",
   "execution_count": 26,
   "id": "1d7f844a",
   "metadata": {},
   "outputs": [
    {
     "data": {
      "text/plain": [
       "'---------------------- Forwarded by Kay Mann/Corp/Enron on 04/02/2001 11:15 \\nAM ---------------------------\\n\\n\\n\"DeBerry, Jeremiah A.\" <JeremiahDeberry@paulhastings.com> on 04/02/2001 \\n11:14:08 AM\\nTo: \"\\'Kay.Mann@Enron.com\\'\" <Kay.Mann@Enron.com>, \"\\'JKeffer@KSlaw.com\\'\" \\n<JKeffer@KSlaw.com>\\ncc: \"\\'Michael.Young@NorthWestern.com\\'\" <Michael.Young@NorthWestern.com>, \\n\"Kahn, Marguerite R.\" <MargueriteKahn@paulhastings.com> \\n\\nSubject: Turbine Purchase - Letter Agreement\\n\\n\\n\\n\"paulhastings.com\" made the following annotations on 04/02/01 12:14:16\\n------------------------------------------------------------------------------\\nNEW E-MAIL ADDRESSES AT PAUL, HASTINGS, JANOFSKY & WALKER LLP\\n\\nWe have changed our e-mail address.  Our new domain name is\\npaulhastings.com.  In most cases, our address is composed of\\nconventional first name and last name plus @paulhastings.com.  Here are\\ntwo examples: janesmith@paulhastings.com and danjones@paulhastings.com.\\nIf you have any questions, please contact us at noc@paulhastings.com.\\n\\n==============================================================================\\n\"The information transmitted is intended only for the person or entity\\nto which it is addressed and may contain confidential and/or privileged\\nmaterial. Any review, retransmission, dissemination or other use of, or\\ntaking of any action in reliance upon, this information by persons or\\nentities other than the intended recipient is prohibited. If you\\nreceived this in error, please contact the sender and delete the\\nmaterial from all computers.\"\\n\\n==============================================================================\\n\\n\\nIn connection with  the above referenced matter, attached for your review \\nare?clean and  blacklined copies of the Letter Agreement.? The blacklined \\ncopy has been  marked to indicate changes made to the initial draft provided \\nby  Enron.\\n?\\nPlease note that the  attached draft of the Letter Agreement has not been \\nreviewed by NorthWestern,  and therefore remains subject, in all respects, to \\nNorthWestern\\'s review and  comments.? \\n?\\nPlease contact me  with any questions or comments.\\n************************************************\\nJeremiah A. DeBerry, Esq.\\nPaul Hastings Janofsky & Walker  LLP\\n399 Park Avenue\\nNew York, New York 10022\\nPhone: (212) 318-6458\\nFax:???? (212)  319-4090\\n?\\n?\\n - Clean Copy -  LETTER AGREEMENT.wpd\\n - BLACKLINE -  LETTER AGREEMENT.wpd\\n'"
      ]
     },
     "execution_count": 26,
     "metadata": {},
     "output_type": "execute_result"
    }
   ],
   "source": [
    "kay_fwd_df['body'].values[5]"
   ]
  },
  {
   "cell_type": "markdown",
   "id": "11f066a9",
   "metadata": {},
   "source": [
    "I found that all the emails forwarded by kay had a header, that I will remove."
   ]
  },
  {
   "cell_type": "code",
   "execution_count": 27,
   "id": "c8a27280",
   "metadata": {},
   "outputs": [],
   "source": [
    "fwd_tag = '---------------------- Forwarded by Kay Mann/Corp/Enron on 04/02/2001 11:15 \\nAM ---------------------------'"
   ]
  },
  {
   "cell_type": "code",
   "execution_count": 28,
   "id": "f5a8dc42",
   "metadata": {},
   "outputs": [
    {
     "data": {
      "text/plain": [
       "107"
      ]
     },
     "execution_count": 28,
     "metadata": {},
     "output_type": "execute_result"
    }
   ],
   "source": [
    "len(fwd_tag)"
   ]
  },
  {
   "cell_type": "code",
   "execution_count": 29,
   "id": "749d3105",
   "metadata": {},
   "outputs": [
    {
     "data": {
      "text/plain": [
       "\"From:  Chris Booth                           03/30/2001 02:24 PM\\n\\t\\n\\nTo: Kay Mann/Corp/Enron@Enron\\ncc: Ben Jacoby \\n\\nSubject: Exclusivity Agreement\\n\\nKay,\\n\\nWhat are your feeling about Montana Power's counter?  My comment would be to \\nadd a clause saying that MPC would have x (5?) many days to respond to ENA \\nonce notified that the turbine is again available for sale.\\n\\nChris\\n\\n4.   If during the Term, MPC determines it does not desire to proceed with\\nthe purchase of the Turbine, MPC shall promptly notify ENA in writing, and\\nthis Agreement shall automatically terminate upon the earlier of the date of\\nENA's receipt of such notice or the expiration of the Term, without any\\nfurther liability of either Party to the other hereunder.  If, during the\\nTerm, ENA determines in good faith that it is unable to negotiate for the\\nsale of the Turbine due to circumstances relating to the generator, it shall\\nnotify MPC and refund the Consideration; provided, however, that if ENA\\noffers the Turbine for sale within 14 days of the termination in connection \\nwith the foregoing, then MPC shall be entitled to an additional exclusivity \\nperiod of 10  business days to negotiate a definitive agreement in accordance \\nwith the terms of this agreement. (or something like that)\""
      ]
     },
     "execution_count": 29,
     "metadata": {},
     "output_type": "execute_result"
    }
   ],
   "source": [
    "#strip out the first 107 characters to remove the forward header\n",
    "kay_fwd_df['body'].values[10][108:].strip()"
   ]
  },
  {
   "cell_type": "code",
   "execution_count": 30,
   "id": "c5050a45",
   "metadata": {},
   "outputs": [
    {
     "name": "stderr",
     "output_type": "stream",
     "text": [
      "C:\\Users\\frankiecheng\\AppData\\Local\\Temp\\ipykernel_9384\\3750847692.py:2: SettingWithCopyWarning: \n",
      "A value is trying to be set on a copy of a slice from a DataFrame.\n",
      "Try using .loc[row_indexer,col_indexer] = value instead\n",
      "\n",
      "See the caveats in the documentation: https://pandas.pydata.org/pandas-docs/stable/user_guide/indexing.html#returning-a-view-versus-a-copy\n",
      "  kay_fwd_df['body_strp'] = [kay_fwd_df['body'].values[x][108:].strip() for x in range(len(kay_fwd_df))]\n"
     ]
    }
   ],
   "source": [
    "#add a new column to my dataframe with the body without the forward header.\n",
    "kay_fwd_df['body_strp'] = [kay_fwd_df['body'].values[x][108:].strip() for x in range(len(kay_fwd_df))]"
   ]
  },
  {
   "cell_type": "code",
   "execution_count": 31,
   "id": "e94cc0b7",
   "metadata": {},
   "outputs": [
    {
     "data": {
      "text/html": [
       "<div>\n",
       "<style scoped>\n",
       "    .dataframe tbody tr th:only-of-type {\n",
       "        vertical-align: middle;\n",
       "    }\n",
       "\n",
       "    .dataframe tbody tr th {\n",
       "        vertical-align: top;\n",
       "    }\n",
       "\n",
       "    .dataframe thead th {\n",
       "        text-align: right;\n",
       "    }\n",
       "</style>\n",
       "<table border=\"1\" class=\"dataframe\">\n",
       "  <thead>\n",
       "    <tr style=\"text-align: right;\">\n",
       "      <th></th>\n",
       "      <th>Unnamed: 0</th>\n",
       "      <th>From</th>\n",
       "      <th>To</th>\n",
       "      <th>Subject</th>\n",
       "      <th>body</th>\n",
       "      <th>body_strp</th>\n",
       "    </tr>\n",
       "  </thead>\n",
       "  <tbody>\n",
       "    <tr>\n",
       "      <th>299386</th>\n",
       "      <td>299386</td>\n",
       "      <td>kay.mann@enron.com</td>\n",
       "      <td>herman.manis@enron.com, lisa.bills@enron.com</td>\n",
       "      <td>ENA/Delta Documents Second Revision 4/3/01</td>\n",
       "      <td>---------------------- Forwarded by Kay Mann/C...</td>\n",
       "      <td>\"Campbell, Carolyn\" &lt;CCampbell@KSLAW.com&gt; on 0...</td>\n",
       "    </tr>\n",
       "    <tr>\n",
       "      <th>299392</th>\n",
       "      <td>299392</td>\n",
       "      <td>kay.mann@enron.com</td>\n",
       "      <td>john.schwartzenburg@enron.com</td>\n",
       "      <td>Re: REMINDER - CONFERENCE CALL - Wednesday - M...</td>\n",
       "      <td>---------------------- Forwarded by Kay Mann/C...</td>\n",
       "      <td>From: Carlos Sole@ENRON on 04/03/2001 11:09 PM...</td>\n",
       "    </tr>\n",
       "    <tr>\n",
       "      <th>299393</th>\n",
       "      <td>299393</td>\n",
       "      <td>kay.mann@enron.com</td>\n",
       "      <td>stephen.thome@enron.com</td>\n",
       "      <td>Salmon Energy LLC Agreement</td>\n",
       "      <td>---------------------- Forwarded by Kay Mann/C...</td>\n",
       "      <td>\"Pepe-Robbins, Suzanne M.\" &lt;suzannepepe@paulha...</td>\n",
       "    </tr>\n",
       "    <tr>\n",
       "      <th>299401</th>\n",
       "      <td>299401</td>\n",
       "      <td>kay.mann@enron.com</td>\n",
       "      <td>jeffrey.hodge@enron.com</td>\n",
       "      <td>enovate, LLC</td>\n",
       "      <td>---------------------- Forwarded by Kay Mann/C...</td>\n",
       "      <td>From: Travis McCullough@ECT on 04/03/2001 12:5...</td>\n",
       "    </tr>\n",
       "    <tr>\n",
       "      <th>299418</th>\n",
       "      <td>299418</td>\n",
       "      <td>kay.mann@enron.com</td>\n",
       "      <td>pthompson@akllp.com</td>\n",
       "      <td>RE: Salmon Energy Turbine Agreement</td>\n",
       "      <td>---------------------- Forwarded by Kay Mann/C...</td>\n",
       "      <td>lee.johnson@ps.ge.com on 04/02/2001 05:56:11 P...</td>\n",
       "    </tr>\n",
       "  </tbody>\n",
       "</table>\n",
       "</div>"
      ],
      "text/plain": [
       "        Unnamed: 0                From  \\\n",
       "299386      299386  kay.mann@enron.com   \n",
       "299392      299392  kay.mann@enron.com   \n",
       "299393      299393  kay.mann@enron.com   \n",
       "299401      299401  kay.mann@enron.com   \n",
       "299418      299418  kay.mann@enron.com   \n",
       "\n",
       "                                                  To  \\\n",
       "299386  herman.manis@enron.com, lisa.bills@enron.com   \n",
       "299392                 john.schwartzenburg@enron.com   \n",
       "299393                       stephen.thome@enron.com   \n",
       "299401                       jeffrey.hodge@enron.com   \n",
       "299418                           pthompson@akllp.com   \n",
       "\n",
       "                                                  Subject  \\\n",
       "299386         ENA/Delta Documents Second Revision 4/3/01   \n",
       "299392  Re: REMINDER - CONFERENCE CALL - Wednesday - M...   \n",
       "299393                        Salmon Energy LLC Agreement   \n",
       "299401                                       enovate, LLC   \n",
       "299418                RE: Salmon Energy Turbine Agreement   \n",
       "\n",
       "                                                     body  \\\n",
       "299386  ---------------------- Forwarded by Kay Mann/C...   \n",
       "299392  ---------------------- Forwarded by Kay Mann/C...   \n",
       "299393  ---------------------- Forwarded by Kay Mann/C...   \n",
       "299401  ---------------------- Forwarded by Kay Mann/C...   \n",
       "299418  ---------------------- Forwarded by Kay Mann/C...   \n",
       "\n",
       "                                                body_strp  \n",
       "299386  \"Campbell, Carolyn\" <CCampbell@KSLAW.com> on 0...  \n",
       "299392  From: Carlos Sole@ENRON on 04/03/2001 11:09 PM...  \n",
       "299393  \"Pepe-Robbins, Suzanne M.\" <suzannepepe@paulha...  \n",
       "299401  From: Travis McCullough@ECT on 04/03/2001 12:5...  \n",
       "299418  lee.johnson@ps.ge.com on 04/02/2001 05:56:11 P...  "
      ]
     },
     "execution_count": 31,
     "metadata": {},
     "output_type": "execute_result"
    }
   ],
   "source": [
    "kay_fwd_df.head()"
   ]
  },
  {
   "cell_type": "code",
   "execution_count": 32,
   "id": "01abcadb",
   "metadata": {
    "scrolled": true
   },
   "outputs": [
    {
     "data": {
      "text/plain": [
       "'\"Campbell, Carolyn\" <CCampbell@KSLAW.com> on 04/03/2001 03:05:58 PM\\nTo: \"\\'gregorylang@paulhastings.com\\'\" <gregorylang@paulhastings.com>, \\n\"\\'rvicens@deltapower.com\\'\" <rvicens@deltapower.com>, \\n\"\\'iparker@freshfields.com\\'\" <iparker@freshfields.com>\\ncc: \"\\'kay.mann@enron.com\\'\" <kay.mann@enron.com>, \"\\'stephen.thome@enron.com\\'\" \\n<stephen.thome@enron.com>, \"Keffer, John\" <JKeffer@KSLAW.com> \\n\\nSubject: ENA/Delta Documents Second Revision 4/3/01\\n\\n\\n <<Letter Agmt Enron Turbines Delta Power.DOC>>  <<Guaranty by ABC for Enron\\nSalmon LLC.DOC>>\\n\\n\\n\\nGentlemen:\\n\\nWe have enclosed revised drafts of the following documents;\\n\\n1.  Letter Agreement between ENA and PPL, marked to reflect revisions from\\nthe prior draft of today\\'s date; and\\n2.  Guaranty Agreement from Delta in favor of ENA, marked to reflect\\nrevisions from the prior draft of today\\'s date.\\n\\nWe would request that all parties confirm the accuracy of the bracketed\\namounts set forth in the letter agreement.  If the foregoing documents are\\nsatisfactory, please advise in order that we may remove brackets, insert\\ndates and forward clean copies for your signature.  We await comments from\\nyou with respect to tax provisions in the LLC Agreement.  Thank you.\\n\\nCarolyn M. Campbell\\nKing & Spalding\\n713-276-7307 (phone)\\n713-751-3280 (fax)\\nccampbell@kslaw.com <mailto:ccampbell@kslaw.com>\\n\\nEnclosures: 133641vR11/10\\n  137007vR4/3\\n\\n\\n\\n                    Confidentiality Notice\\nThis message is being sent by or on behalf of a lawyer.  It is intended \\nexclusively for the individual or entity to which it is addressed.  This \\ncommunication may contain information that is proprietary, privileged or \\nconfidential or otherwise legally exempt from disclosure.  If you are not the \\nnamed addressee, you are not authorized to read, print, retain, copy or \\ndisseminate this message or any part of it.  If you have received this \\nmessage in error, please notify the sender immediately by e-mail and delete \\nall copies of the message.\\n\\n\\n - Letter Agmt Enron Turbines Delta Power.DOC\\n - Guaranty by ABC for Enron Salmon LLC.DOC'"
      ]
     },
     "execution_count": 32,
     "metadata": {},
     "output_type": "execute_result"
    }
   ],
   "source": [
    "kay_fwd_df['body_strp'].values[0]"
   ]
  },
  {
   "cell_type": "markdown",
   "id": "4a014802",
   "metadata": {},
   "source": [
    "I will also remove the headers of the received email. These are separated by the string \"Subject:\""
   ]
  },
  {
   "cell_type": "code",
   "execution_count": 33,
   "id": "c4beab2a",
   "metadata": {},
   "outputs": [
    {
     "name": "stderr",
     "output_type": "stream",
     "text": [
      "C:\\Users\\frankiecheng\\AppData\\Local\\Temp\\ipykernel_9384\\2356970643.py:2: SettingWithCopyWarning: \n",
      "A value is trying to be set on a copy of a slice from a DataFrame.\n",
      "Try using .loc[row_indexer,col_indexer] = value instead\n",
      "\n",
      "See the caveats in the documentation: https://pandas.pydata.org/pandas-docs/stable/user_guide/indexing.html#returning-a-view-versus-a-copy\n",
      "  kay_fwd_df[['headers', 'og_body']] = kay_fwd_df.body_strp.str.split(\"Subject: \", n=1, expand = True)\n",
      "C:\\Users\\frankiecheng\\AppData\\Local\\Temp\\ipykernel_9384\\2356970643.py:2: SettingWithCopyWarning: \n",
      "A value is trying to be set on a copy of a slice from a DataFrame.\n",
      "Try using .loc[row_indexer,col_indexer] = value instead\n",
      "\n",
      "See the caveats in the documentation: https://pandas.pydata.org/pandas-docs/stable/user_guide/indexing.html#returning-a-view-versus-a-copy\n",
      "  kay_fwd_df[['headers', 'og_body']] = kay_fwd_df.body_strp.str.split(\"Subject: \", n=1, expand = True)\n"
     ]
    }
   ],
   "source": [
    "#add new columns to dataframe splittin the body of the email.\n",
    "kay_fwd_df[['headers', 'og_body']] = kay_fwd_df.body_strp.str.split(\"Subject: \", n=1, expand = True)"
   ]
  },
  {
   "cell_type": "code",
   "execution_count": 34,
   "id": "11c664b8",
   "metadata": {},
   "outputs": [
    {
     "data": {
      "text/plain": [
       "\"Re: REMINDER - CONFERENCE CALL - Wednesday - MHI Turbine Contract  \\n\\nI have a conflicting call at that time tomorrow, thus, I will not be able to \\nparticipate.  Nevertheless, the one issue that I would suggest that be \\ndiscussed is Mike Coleman's technical review of how the contract will need to \\nbe revised. \\n\\nCarlos Sole'\\nSenior Counsel\\nEnron North America Corp.\\n1400 Smith Street\\nHouston, Texas 77002-7361\\n\\n(713) 345-8191 (phone)\\n713 646-3393 (fax)\\n\\n\\n\\n\\tLorie Leigh@ECT\\n\\t04/03/2001 05:01 PM\\n\\t\\t \\n\\t\\t To: Carlos Sole/NA/Enron@Enron, Roseann Engeldorf/Enron@EnronXGate, Lisa \\nBills/Enron@EnronXGate, Kay Mann/Corp/Enron@Enron, Brett R \\nWiggs/SA/Enron@Enron, Ben F Jacoby/HOU/ECT@ECT, Mike \\nColeman/ENRON_DEVELOPMENT@ENRON_DEVELOPMENT, Darrell Stovall/NA/Enron@Enron, \\nBill Fox/ENRON_DEVELOPMENT@ENRON_DEVELOPMENT\\n\\t\\t cc: Shelby Malkemes/Corp/Enron@ENRON, Marianne M Arake/SA/Enron@Enron\\n\\t\\t Subject: REMINDER - CONFERENCE CALL - Wednesday - MHI Turbine Contract\\n\\n\\n\\nConference Plus will be hosting this call:\\n\\nthe date:  Wednesday, April 3rd, 2001\\nthe number:  1-800-991-9019\\nthe passcode: 6470331#\\nthe time:  10:00 AM - 12:00 PM CST\\nthe place:  EB 3143B\\nthe subject:  MHI Turbine Contract\\n \\nIf you have any problems or questions, please feel free to call me at \\n713-853-1696.\\n\\nThank you,\\nLorie Leigh\""
      ]
     },
     "execution_count": 34,
     "metadata": {},
     "output_type": "execute_result"
    }
   ],
   "source": [
    "kay_fwd_df['og_body'].values[1]"
   ]
  },
  {
   "cell_type": "code",
   "execution_count": 35,
   "id": "7a690cc7",
   "metadata": {},
   "outputs": [],
   "source": [
    "kay_fwd_df.to_csv('kay_fwd_emails_strp.csv')"
   ]
  },
  {
   "cell_type": "code",
   "execution_count": 36,
   "id": "57629cfa",
   "metadata": {
    "scrolled": true
   },
   "outputs": [
    {
     "data": {
      "text/html": [
       "<div>\n",
       "<style scoped>\n",
       "    .dataframe tbody tr th:only-of-type {\n",
       "        vertical-align: middle;\n",
       "    }\n",
       "\n",
       "    .dataframe tbody tr th {\n",
       "        vertical-align: top;\n",
       "    }\n",
       "\n",
       "    .dataframe thead th {\n",
       "        text-align: right;\n",
       "    }\n",
       "</style>\n",
       "<table border=\"1\" class=\"dataframe\">\n",
       "  <thead>\n",
       "    <tr style=\"text-align: right;\">\n",
       "      <th></th>\n",
       "      <th>Unnamed: 0</th>\n",
       "      <th>From</th>\n",
       "      <th>To</th>\n",
       "      <th>Subject</th>\n",
       "      <th>body</th>\n",
       "      <th>body_strp</th>\n",
       "      <th>headers</th>\n",
       "      <th>og_body</th>\n",
       "    </tr>\n",
       "  </thead>\n",
       "  <tbody>\n",
       "    <tr>\n",
       "      <th>299386</th>\n",
       "      <td>299386</td>\n",
       "      <td>kay.mann@enron.com</td>\n",
       "      <td>herman.manis@enron.com, lisa.bills@enron.com</td>\n",
       "      <td>ENA/Delta Documents Second Revision 4/3/01</td>\n",
       "      <td>---------------------- Forwarded by Kay Mann/C...</td>\n",
       "      <td>\"Campbell, Carolyn\" &lt;CCampbell@KSLAW.com&gt; on 0...</td>\n",
       "      <td>\"Campbell, Carolyn\" &lt;CCampbell@KSLAW.com&gt; on 0...</td>\n",
       "      <td>ENA/Delta Documents Second Revision 4/3/01\\n\\n...</td>\n",
       "    </tr>\n",
       "    <tr>\n",
       "      <th>299392</th>\n",
       "      <td>299392</td>\n",
       "      <td>kay.mann@enron.com</td>\n",
       "      <td>john.schwartzenburg@enron.com</td>\n",
       "      <td>Re: REMINDER - CONFERENCE CALL - Wednesday - M...</td>\n",
       "      <td>---------------------- Forwarded by Kay Mann/C...</td>\n",
       "      <td>From: Carlos Sole@ENRON on 04/03/2001 11:09 PM...</td>\n",
       "      <td>From: Carlos Sole@ENRON on 04/03/2001 11:09 PM...</td>\n",
       "      <td>Re: REMINDER - CONFERENCE CALL - Wednesday - M...</td>\n",
       "    </tr>\n",
       "    <tr>\n",
       "      <th>299393</th>\n",
       "      <td>299393</td>\n",
       "      <td>kay.mann@enron.com</td>\n",
       "      <td>stephen.thome@enron.com</td>\n",
       "      <td>Salmon Energy LLC Agreement</td>\n",
       "      <td>---------------------- Forwarded by Kay Mann/C...</td>\n",
       "      <td>\"Pepe-Robbins, Suzanne M.\" &lt;suzannepepe@paulha...</td>\n",
       "      <td>\"Pepe-Robbins, Suzanne M.\" &lt;suzannepepe@paulha...</td>\n",
       "      <td>Salmon Energy LLC Agreement\\n\\n\\n\\n\"paulhastin...</td>\n",
       "    </tr>\n",
       "    <tr>\n",
       "      <th>299401</th>\n",
       "      <td>299401</td>\n",
       "      <td>kay.mann@enron.com</td>\n",
       "      <td>jeffrey.hodge@enron.com</td>\n",
       "      <td>enovate, LLC</td>\n",
       "      <td>---------------------- Forwarded by Kay Mann/C...</td>\n",
       "      <td>From: Travis McCullough@ECT on 04/03/2001 12:5...</td>\n",
       "      <td>From: Travis McCullough@ECT on 04/03/2001 12:5...</td>\n",
       "      <td>enovate, LLC\\n\\nGregg:\\n\\nHere is a very brief...</td>\n",
       "    </tr>\n",
       "    <tr>\n",
       "      <th>299418</th>\n",
       "      <td>299418</td>\n",
       "      <td>kay.mann@enron.com</td>\n",
       "      <td>pthompson@akllp.com</td>\n",
       "      <td>RE: Salmon Energy Turbine Agreement</td>\n",
       "      <td>---------------------- Forwarded by Kay Mann/C...</td>\n",
       "      <td>lee.johnson@ps.ge.com on 04/02/2001 05:56:11 P...</td>\n",
       "      <td>lee.johnson@ps.ge.com on 04/02/2001 05:56:11 P...</td>\n",
       "      <td>RE: Salmon Energy Turbine Agreement\\n\\nKay,\\n\\...</td>\n",
       "    </tr>\n",
       "  </tbody>\n",
       "</table>\n",
       "</div>"
      ],
      "text/plain": [
       "        Unnamed: 0                From  \\\n",
       "299386      299386  kay.mann@enron.com   \n",
       "299392      299392  kay.mann@enron.com   \n",
       "299393      299393  kay.mann@enron.com   \n",
       "299401      299401  kay.mann@enron.com   \n",
       "299418      299418  kay.mann@enron.com   \n",
       "\n",
       "                                                  To  \\\n",
       "299386  herman.manis@enron.com, lisa.bills@enron.com   \n",
       "299392                 john.schwartzenburg@enron.com   \n",
       "299393                       stephen.thome@enron.com   \n",
       "299401                       jeffrey.hodge@enron.com   \n",
       "299418                           pthompson@akllp.com   \n",
       "\n",
       "                                                  Subject  \\\n",
       "299386         ENA/Delta Documents Second Revision 4/3/01   \n",
       "299392  Re: REMINDER - CONFERENCE CALL - Wednesday - M...   \n",
       "299393                        Salmon Energy LLC Agreement   \n",
       "299401                                       enovate, LLC   \n",
       "299418                RE: Salmon Energy Turbine Agreement   \n",
       "\n",
       "                                                     body  \\\n",
       "299386  ---------------------- Forwarded by Kay Mann/C...   \n",
       "299392  ---------------------- Forwarded by Kay Mann/C...   \n",
       "299393  ---------------------- Forwarded by Kay Mann/C...   \n",
       "299401  ---------------------- Forwarded by Kay Mann/C...   \n",
       "299418  ---------------------- Forwarded by Kay Mann/C...   \n",
       "\n",
       "                                                body_strp  \\\n",
       "299386  \"Campbell, Carolyn\" <CCampbell@KSLAW.com> on 0...   \n",
       "299392  From: Carlos Sole@ENRON on 04/03/2001 11:09 PM...   \n",
       "299393  \"Pepe-Robbins, Suzanne M.\" <suzannepepe@paulha...   \n",
       "299401  From: Travis McCullough@ECT on 04/03/2001 12:5...   \n",
       "299418  lee.johnson@ps.ge.com on 04/02/2001 05:56:11 P...   \n",
       "\n",
       "                                                  headers  \\\n",
       "299386  \"Campbell, Carolyn\" <CCampbell@KSLAW.com> on 0...   \n",
       "299392  From: Carlos Sole@ENRON on 04/03/2001 11:09 PM...   \n",
       "299393  \"Pepe-Robbins, Suzanne M.\" <suzannepepe@paulha...   \n",
       "299401  From: Travis McCullough@ECT on 04/03/2001 12:5...   \n",
       "299418  lee.johnson@ps.ge.com on 04/02/2001 05:56:11 P...   \n",
       "\n",
       "                                                  og_body  \n",
       "299386  ENA/Delta Documents Second Revision 4/3/01\\n\\n...  \n",
       "299392  Re: REMINDER - CONFERENCE CALL - Wednesday - M...  \n",
       "299393  Salmon Energy LLC Agreement\\n\\n\\n\\n\"paulhastin...  \n",
       "299401  enovate, LLC\\n\\nGregg:\\n\\nHere is a very brief...  \n",
       "299418  RE: Salmon Energy Turbine Agreement\\n\\nKay,\\n\\...  "
      ]
     },
     "execution_count": 36,
     "metadata": {},
     "output_type": "execute_result"
    }
   ],
   "source": [
    "kay_fwd_df.head()"
   ]
  },
  {
   "cell_type": "markdown",
   "id": "9c277639",
   "metadata": {},
   "source": [
    "<h3> Define Target <h3>"
   ]
  },
  {
   "cell_type": "markdown",
   "id": "d6367cea",
   "metadata": {},
   "source": [
    "I decide to use the top 4 recipients of Kay's forwarded emails as my target labels. This means that the target has 5 classes, the 4 top recipients and every other recipient."
   ]
  },
  {
   "cell_type": "code",
   "execution_count": 37,
   "id": "de018a7c",
   "metadata": {},
   "outputs": [
    {
     "data": {
      "text/plain": [
       "To\n",
       "nmann@erac.com                 132\n",
       "suzanne.adams@enron.com        104\n",
       "carlos.sole@enron.com           96\n",
       "kathleen.carnahan@enron.com     77\n",
       "roseann.engeldorf@enron.com     52\n",
       "dtype: int64"
      ]
     },
     "execution_count": 37,
     "metadata": {},
     "output_type": "execute_result"
    }
   ],
   "source": [
    "kay_fwd_df.value_counts('To').head()"
   ]
  },
  {
   "cell_type": "code",
   "execution_count": 38,
   "id": "5a540007",
   "metadata": {},
   "outputs": [],
   "source": [
    "most_fwds_df = pd.DataFrame(kay_fwd_df.value_counts('To')).reset_index()"
   ]
  },
  {
   "cell_type": "code",
   "execution_count": 39,
   "id": "be5782a9",
   "metadata": {},
   "outputs": [
    {
     "data": {
      "text/html": [
       "<div>\n",
       "<style scoped>\n",
       "    .dataframe tbody tr th:only-of-type {\n",
       "        vertical-align: middle;\n",
       "    }\n",
       "\n",
       "    .dataframe tbody tr th {\n",
       "        vertical-align: top;\n",
       "    }\n",
       "\n",
       "    .dataframe thead th {\n",
       "        text-align: right;\n",
       "    }\n",
       "</style>\n",
       "<table border=\"1\" class=\"dataframe\">\n",
       "  <thead>\n",
       "    <tr style=\"text-align: right;\">\n",
       "      <th></th>\n",
       "      <th>To</th>\n",
       "      <th>0</th>\n",
       "    </tr>\n",
       "  </thead>\n",
       "  <tbody>\n",
       "    <tr>\n",
       "      <th>0</th>\n",
       "      <td>nmann@erac.com</td>\n",
       "      <td>132</td>\n",
       "    </tr>\n",
       "    <tr>\n",
       "      <th>1</th>\n",
       "      <td>suzanne.adams@enron.com</td>\n",
       "      <td>104</td>\n",
       "    </tr>\n",
       "    <tr>\n",
       "      <th>2</th>\n",
       "      <td>carlos.sole@enron.com</td>\n",
       "      <td>96</td>\n",
       "    </tr>\n",
       "    <tr>\n",
       "      <th>3</th>\n",
       "      <td>kathleen.carnahan@enron.com</td>\n",
       "      <td>77</td>\n",
       "    </tr>\n",
       "    <tr>\n",
       "      <th>4</th>\n",
       "      <td>roseann.engeldorf@enron.com</td>\n",
       "      <td>52</td>\n",
       "    </tr>\n",
       "    <tr>\n",
       "      <th>...</th>\n",
       "      <td>...</td>\n",
       "      <td>...</td>\n",
       "    </tr>\n",
       "    <tr>\n",
       "      <th>142</th>\n",
       "      <td>laura.luce@enron.com</td>\n",
       "      <td>4</td>\n",
       "    </tr>\n",
       "    <tr>\n",
       "      <th>143</th>\n",
       "      <td>kent.shoemaker@ae.ge.com, lee.johnson@ss.ps.ge...</td>\n",
       "      <td>4</td>\n",
       "    </tr>\n",
       "    <tr>\n",
       "      <th>144</th>\n",
       "      <td>ann.white@enron.com, carlos.sole@enron.com, ba...</td>\n",
       "      <td>4</td>\n",
       "    </tr>\n",
       "    <tr>\n",
       "      <th>145</th>\n",
       "      <td>wmonjoy@brunini.com</td>\n",
       "      <td>4</td>\n",
       "    </tr>\n",
       "    <tr>\n",
       "      <th>146</th>\n",
       "      <td>barbara.gray@enron.com, peggy.banczak@enron.co...</td>\n",
       "      <td>2</td>\n",
       "    </tr>\n",
       "  </tbody>\n",
       "</table>\n",
       "<p>147 rows × 2 columns</p>\n",
       "</div>"
      ],
      "text/plain": [
       "                                                    To    0\n",
       "0                                       nmann@erac.com  132\n",
       "1                              suzanne.adams@enron.com  104\n",
       "2                                carlos.sole@enron.com   96\n",
       "3                          kathleen.carnahan@enron.com   77\n",
       "4                          roseann.engeldorf@enron.com   52\n",
       "..                                                 ...  ...\n",
       "142                               laura.luce@enron.com    4\n",
       "143  kent.shoemaker@ae.ge.com, lee.johnson@ss.ps.ge...    4\n",
       "144  ann.white@enron.com, carlos.sole@enron.com, ba...    4\n",
       "145                                wmonjoy@brunini.com    4\n",
       "146  barbara.gray@enron.com, peggy.banczak@enron.co...    2\n",
       "\n",
       "[147 rows x 2 columns]"
      ]
     },
     "execution_count": 39,
     "metadata": {},
     "output_type": "execute_result"
    }
   ],
   "source": [
    "most_fwds_df"
   ]
  },
  {
   "cell_type": "code",
   "execution_count": 40,
   "id": "abd141c0",
   "metadata": {
    "scrolled": true
   },
   "outputs": [
    {
     "data": {
      "text/plain": [
       "'suzanne.adams@enron.com'"
      ]
     },
     "execution_count": 40,
     "metadata": {},
     "output_type": "execute_result"
    }
   ],
   "source": [
    "most_fwds_df.iloc[1,0]"
   ]
  },
  {
   "cell_type": "code",
   "execution_count": 41,
   "id": "983bff19",
   "metadata": {},
   "outputs": [],
   "source": [
    "label1 = most_fwds_df.iloc[0,0]\n",
    "label2 = most_fwds_df.iloc[1,0]\n",
    "label3 = most_fwds_df.iloc[2,0]\n",
    "label4 = most_fwds_df.iloc[3,0]"
   ]
  },
  {
   "cell_type": "code",
   "execution_count": 42,
   "id": "5cf5877d",
   "metadata": {},
   "outputs": [],
   "source": [
    "target_map = {label1:1, label2:2, label3:3, label4:4}"
   ]
  },
  {
   "cell_type": "code",
   "execution_count": 43,
   "id": "908a4c8d",
   "metadata": {},
   "outputs": [
    {
     "data": {
      "text/plain": [
       "{'nmann@erac.com': 1,\n",
       " 'suzanne.adams@enron.com': 2,\n",
       " 'carlos.sole@enron.com': 3,\n",
       " 'kathleen.carnahan@enron.com': 4}"
      ]
     },
     "execution_count": 43,
     "metadata": {},
     "output_type": "execute_result"
    }
   ],
   "source": [
    "#Create a target map to map the top 4 emails to values\n",
    "target_map"
   ]
  },
  {
   "cell_type": "code",
   "execution_count": 44,
   "id": "d49c337e",
   "metadata": {},
   "outputs": [],
   "source": [
    "#save the target emails to use in the application later\n",
    "with open('target_map.pkl', 'wb') as f:\n",
    "    pickle.dump(target_map, f)"
   ]
  },
  {
   "cell_type": "code",
   "execution_count": 45,
   "id": "1a38c0d4",
   "metadata": {},
   "outputs": [
    {
     "name": "stderr",
     "output_type": "stream",
     "text": [
      "C:\\Users\\frankiecheng\\AppData\\Local\\Temp\\ipykernel_9384\\754315749.py:2: SettingWithCopyWarning: \n",
      "A value is trying to be set on a copy of a slice from a DataFrame.\n",
      "Try using .loc[row_indexer,col_indexer] = value instead\n",
      "\n",
      "See the caveats in the documentation: https://pandas.pydata.org/pandas-docs/stable/user_guide/indexing.html#returning-a-view-versus-a-copy\n",
      "  kay_fwd_df['Target'] = kay_fwd_df['To'].map(target_map)\n"
     ]
    }
   ],
   "source": [
    "#create a target column in my dataframe\n",
    "kay_fwd_df['Target'] = kay_fwd_df['To'].map(target_map)"
   ]
  },
  {
   "cell_type": "code",
   "execution_count": 46,
   "id": "04983ed4",
   "metadata": {},
   "outputs": [
    {
     "name": "stderr",
     "output_type": "stream",
     "text": [
      "C:\\Users\\frankiecheng\\AppData\\Local\\Temp\\ipykernel_9384\\3896675663.py:2: SettingWithCopyWarning: \n",
      "A value is trying to be set on a copy of a slice from a DataFrame.\n",
      "Try using .loc[row_indexer,col_indexer] = value instead\n",
      "\n",
      "See the caveats in the documentation: https://pandas.pydata.org/pandas-docs/stable/user_guide/indexing.html#returning-a-view-versus-a-copy\n",
      "  kay_fwd_df['Target'] = kay_fwd_df['Target'].fillna(0)\n"
     ]
    }
   ],
   "source": [
    "#Every email that does not go to the top 4 recipients will be in the same class (0)\n",
    "kay_fwd_df['Target'] = kay_fwd_df['Target'].fillna(0)"
   ]
  },
  {
   "cell_type": "code",
   "execution_count": 47,
   "id": "4fcd3b7b",
   "metadata": {},
   "outputs": [],
   "source": [
    "#df = kay_fwd_df[['To','Subject','body_strp','Target']]"
   ]
  },
  {
   "cell_type": "code",
   "execution_count": 48,
   "id": "5a7a59fb",
   "metadata": {},
   "outputs": [],
   "source": [
    "#Drop unnessesary columns\n",
    "df = kay_fwd_df[['To','Subject','og_body','Target']]"
   ]
  },
  {
   "cell_type": "code",
   "execution_count": 49,
   "id": "4768985c",
   "metadata": {},
   "outputs": [
    {
     "data": {
      "image/png": "[encoded data removed]",
      "text/plain": [
       "<Figure size 432x288 with 1 Axes>"
      ]
     },
     "metadata": {},
     "output_type": "display_data"
    }
   ],
   "source": [
    "#Check the distribution of the target variable\n",
    "df.value_counts('Target').plot(kind = 'pie')\n",
    "plt.title('Number of emails forwarded to each Target Value');"
   ]
  },
  {
   "cell_type": "markdown",
   "id": "d67fcb16",
   "metadata": {},
   "source": [
    "Because the target distribution is not even, I will use stratified sampling when splitting the data into train and test."
   ]
  },
  {
   "cell_type": "code",
   "execution_count": 50,
   "id": "35efd777",
   "metadata": {},
   "outputs": [
    {
     "data": {
      "text/html": [
       "<div>\n",
       "<style scoped>\n",
       "    .dataframe tbody tr th:only-of-type {\n",
       "        vertical-align: middle;\n",
       "    }\n",
       "\n",
       "    .dataframe tbody tr th {\n",
       "        vertical-align: top;\n",
       "    }\n",
       "\n",
       "    .dataframe thead th {\n",
       "        text-align: right;\n",
       "    }\n",
       "</style>\n",
       "<table border=\"1\" class=\"dataframe\">\n",
       "  <thead>\n",
       "    <tr style=\"text-align: right;\">\n",
       "      <th></th>\n",
       "      <th>To</th>\n",
       "      <th>Subject</th>\n",
       "      <th>og_body</th>\n",
       "      <th>Target</th>\n",
       "    </tr>\n",
       "  </thead>\n",
       "  <tbody>\n",
       "    <tr>\n",
       "      <th>299386</th>\n",
       "      <td>herman.manis@enron.com, lisa.bills@enron.com</td>\n",
       "      <td>ENA/Delta Documents Second Revision 4/3/01</td>\n",
       "      <td>ENA/Delta Documents Second Revision 4/3/01\\n\\n...</td>\n",
       "      <td>0.0</td>\n",
       "    </tr>\n",
       "    <tr>\n",
       "      <th>299392</th>\n",
       "      <td>john.schwartzenburg@enron.com</td>\n",
       "      <td>Re: REMINDER - CONFERENCE CALL - Wednesday - M...</td>\n",
       "      <td>Re: REMINDER - CONFERENCE CALL - Wednesday - M...</td>\n",
       "      <td>0.0</td>\n",
       "    </tr>\n",
       "    <tr>\n",
       "      <th>299393</th>\n",
       "      <td>stephen.thome@enron.com</td>\n",
       "      <td>Salmon Energy LLC Agreement</td>\n",
       "      <td>Salmon Energy LLC Agreement\\n\\n\\n\\n\"paulhastin...</td>\n",
       "      <td>0.0</td>\n",
       "    </tr>\n",
       "    <tr>\n",
       "      <th>299401</th>\n",
       "      <td>jeffrey.hodge@enron.com</td>\n",
       "      <td>enovate, LLC</td>\n",
       "      <td>enovate, LLC\\n\\nGregg:\\n\\nHere is a very brief...</td>\n",
       "      <td>0.0</td>\n",
       "    </tr>\n",
       "    <tr>\n",
       "      <th>299418</th>\n",
       "      <td>pthompson@akllp.com</td>\n",
       "      <td>RE: Salmon Energy Turbine Agreement</td>\n",
       "      <td>RE: Salmon Energy Turbine Agreement\\n\\nKay,\\n\\...</td>\n",
       "      <td>0.0</td>\n",
       "    </tr>\n",
       "  </tbody>\n",
       "</table>\n",
       "</div>"
      ],
      "text/plain": [
       "                                                  To  \\\n",
       "299386  herman.manis@enron.com, lisa.bills@enron.com   \n",
       "299392                 john.schwartzenburg@enron.com   \n",
       "299393                       stephen.thome@enron.com   \n",
       "299401                       jeffrey.hodge@enron.com   \n",
       "299418                           pthompson@akllp.com   \n",
       "\n",
       "                                                  Subject  \\\n",
       "299386         ENA/Delta Documents Second Revision 4/3/01   \n",
       "299392  Re: REMINDER - CONFERENCE CALL - Wednesday - M...   \n",
       "299393                        Salmon Energy LLC Agreement   \n",
       "299401                                       enovate, LLC   \n",
       "299418                RE: Salmon Energy Turbine Agreement   \n",
       "\n",
       "                                                  og_body  Target  \n",
       "299386  ENA/Delta Documents Second Revision 4/3/01\\n\\n...     0.0  \n",
       "299392  Re: REMINDER - CONFERENCE CALL - Wednesday - M...     0.0  \n",
       "299393  Salmon Energy LLC Agreement\\n\\n\\n\\n\"paulhastin...     0.0  \n",
       "299401  enovate, LLC\\n\\nGregg:\\n\\nHere is a very brief...     0.0  \n",
       "299418  RE: Salmon Energy Turbine Agreement\\n\\nKay,\\n\\...     0.0  "
      ]
     },
     "execution_count": 50,
     "metadata": {},
     "output_type": "execute_result"
    }
   ],
   "source": [
    "df.head()"
   ]
  },
  {
   "cell_type": "code",
   "execution_count": 51,
   "id": "8ef56fe6",
   "metadata": {},
   "outputs": [],
   "source": [
    "df = df.reset_index().drop(columns = ['index'])"
   ]
  },
  {
   "cell_type": "markdown",
   "id": "47f2dafb",
   "metadata": {},
   "source": [
    "Create Target and Features"
   ]
  },
  {
   "cell_type": "code",
   "execution_count": 52,
   "id": "9e825a3f",
   "metadata": {},
   "outputs": [],
   "source": [
    "df_target = df['Target']"
   ]
  },
  {
   "cell_type": "code",
   "execution_count": 53,
   "id": "fc3e581c",
   "metadata": {},
   "outputs": [],
   "source": [
    "df_features = df.drop(columns = 'Target')"
   ]
  },
  {
   "cell_type": "code",
   "execution_count": 54,
   "id": "537c31ef",
   "metadata": {},
   "outputs": [
    {
     "data": {
      "text/plain": [
       "0    0.0\n",
       "1    0.0\n",
       "2    0.0\n",
       "3    0.0\n",
       "4    0.0\n",
       "Name: Target, dtype: float64"
      ]
     },
     "execution_count": 54,
     "metadata": {},
     "output_type": "execute_result"
    }
   ],
   "source": [
    "df_target.head()"
   ]
  },
  {
   "cell_type": "markdown",
   "id": "48fca8b7",
   "metadata": {},
   "source": [
    "Split Train and Test"
   ]
  },
  {
   "cell_type": "code",
   "execution_count": 55,
   "id": "c1ed49f4",
   "metadata": {},
   "outputs": [],
   "source": [
    "X_train_full, X_test, y_train_full, y_test = train_test_split(df_features, df_target,test_size=0.20, stratify=df_target,random_state=42)"
   ]
  },
  {
   "cell_type": "code",
   "execution_count": 56,
   "id": "344f7784",
   "metadata": {},
   "outputs": [
    {
     "data": {
      "text/plain": [
       "0.0    885\n",
       "1.0    105\n",
       "2.0     83\n",
       "3.0     77\n",
       "4.0     62\n",
       "Name: Target, dtype: int64"
      ]
     },
     "execution_count": 56,
     "metadata": {},
     "output_type": "execute_result"
    }
   ],
   "source": [
    "y_train_full.value_counts()"
   ]
  },
  {
   "cell_type": "code",
   "execution_count": 57,
   "id": "e860a251",
   "metadata": {},
   "outputs": [
    {
     "data": {
      "text/plain": [
       "0.0    222\n",
       "1.0     27\n",
       "2.0     21\n",
       "3.0     19\n",
       "4.0     15\n",
       "Name: Target, dtype: int64"
      ]
     },
     "execution_count": 57,
     "metadata": {},
     "output_type": "execute_result"
    }
   ],
   "source": [
    "y_test.value_counts()"
   ]
  },
  {
   "cell_type": "markdown",
   "id": "7702dac7",
   "metadata": {},
   "source": [
    "Select only the email body to train the model"
   ]
  },
  {
   "cell_type": "code",
   "execution_count": 58,
   "id": "2d0f7954",
   "metadata": {},
   "outputs": [],
   "source": [
    "X_train_full['patterns'] = X_train_full['og_body']"
   ]
  },
  {
   "cell_type": "code",
   "execution_count": 59,
   "id": "4f635d5b",
   "metadata": {},
   "outputs": [],
   "source": [
    "X_test['patterns'] = X_test['og_body']"
   ]
  },
  {
   "cell_type": "code",
   "execution_count": 60,
   "id": "5c6051be",
   "metadata": {},
   "outputs": [],
   "source": [
    "X_test['patterns'].to_csv(\"X_test_ee\")"
   ]
  },
  {
   "cell_type": "code",
   "execution_count": 61,
   "id": "d421633a",
   "metadata": {},
   "outputs": [],
   "source": [
    "y_test.to_csv(\"y_test_ee\")"
   ]
  },
  {
   "cell_type": "code",
   "execution_count": 62,
   "id": "73b61b7c",
   "metadata": {},
   "outputs": [
    {
     "data": {
      "text/html": [
       "<div>\n",
       "<style scoped>\n",
       "    .dataframe tbody tr th:only-of-type {\n",
       "        vertical-align: middle;\n",
       "    }\n",
       "\n",
       "    .dataframe tbody tr th {\n",
       "        vertical-align: top;\n",
       "    }\n",
       "\n",
       "    .dataframe thead th {\n",
       "        text-align: right;\n",
       "    }\n",
       "</style>\n",
       "<table border=\"1\" class=\"dataframe\">\n",
       "  <thead>\n",
       "    <tr style=\"text-align: right;\">\n",
       "      <th></th>\n",
       "      <th>To</th>\n",
       "      <th>Subject</th>\n",
       "      <th>og_body</th>\n",
       "      <th>patterns</th>\n",
       "    </tr>\n",
       "  </thead>\n",
       "  <tbody>\n",
       "    <tr>\n",
       "      <th>117</th>\n",
       "      <td>fred.mitro@enron.com, ben.jacoby@enron.com</td>\n",
       "      <td>Form of Purchase Option Notice</td>\n",
       "      <td>Form of Purchase Option Notice\\n\\nKay,\\nHere i...</td>\n",
       "      <td>Form of Purchase Option Notice\\n\\nKay,\\nHere i...</td>\n",
       "    </tr>\n",
       "    <tr>\n",
       "      <th>961</th>\n",
       "      <td>carlos.sole@enron.com</td>\n",
       "      <td>Closing Checklist</td>\n",
       "      <td>Closing Checklist\\n\\nHaving fun yet?\\n--------...</td>\n",
       "      <td>Closing Checklist\\n\\nHaving fun yet?\\n--------...</td>\n",
       "    </tr>\n",
       "    <tr>\n",
       "      <th>172</th>\n",
       "      <td>ben.jacoby@enron.com, rebecca.walker@enron.com...</td>\n",
       "      <td>Exhibits to the CA Energy Development Agreements</td>\n",
       "      <td>Exhibits to the CA Energy Development Agreemen...</td>\n",
       "      <td>Exhibits to the CA Energy Development Agreemen...</td>\n",
       "    </tr>\n",
       "    <tr>\n",
       "      <th>217</th>\n",
       "      <td>stephen.plauche@enron.com</td>\n",
       "      <td>Agreement Documents</td>\n",
       "      <td>Agreement Documents\\n\\nHeather and Ozzie\\nWe j...</td>\n",
       "      <td>Agreement Documents\\n\\nHeather and Ozzie\\nWe j...</td>\n",
       "    </tr>\n",
       "    <tr>\n",
       "      <th>67</th>\n",
       "      <td>suzanne.adams@enron.com</td>\n",
       "      <td>EECC/ENA meeting - Pre-Meeting</td>\n",
       "      <td>EECC/ENA meeting - Pre-Meeting\\n\\nPlease let m...</td>\n",
       "      <td>EECC/ENA meeting - Pre-Meeting\\n\\nPlease let m...</td>\n",
       "    </tr>\n",
       "  </tbody>\n",
       "</table>\n",
       "</div>"
      ],
      "text/plain": [
       "                                                    To  \\\n",
       "117         fred.mitro@enron.com, ben.jacoby@enron.com   \n",
       "961                              carlos.sole@enron.com   \n",
       "172  ben.jacoby@enron.com, rebecca.walker@enron.com...   \n",
       "217                          stephen.plauche@enron.com   \n",
       "67                             suzanne.adams@enron.com   \n",
       "\n",
       "                                              Subject  \\\n",
       "117                    Form of Purchase Option Notice   \n",
       "961                                 Closing Checklist   \n",
       "172  Exhibits to the CA Energy Development Agreements   \n",
       "217                               Agreement Documents   \n",
       "67                     EECC/ENA meeting - Pre-Meeting   \n",
       "\n",
       "                                               og_body  \\\n",
       "117  Form of Purchase Option Notice\\n\\nKay,\\nHere i...   \n",
       "961  Closing Checklist\\n\\nHaving fun yet?\\n--------...   \n",
       "172  Exhibits to the CA Energy Development Agreemen...   \n",
       "217  Agreement Documents\\n\\nHeather and Ozzie\\nWe j...   \n",
       "67   EECC/ENA meeting - Pre-Meeting\\n\\nPlease let m...   \n",
       "\n",
       "                                              patterns  \n",
       "117  Form of Purchase Option Notice\\n\\nKay,\\nHere i...  \n",
       "961  Closing Checklist\\n\\nHaving fun yet?\\n--------...  \n",
       "172  Exhibits to the CA Energy Development Agreemen...  \n",
       "217  Agreement Documents\\n\\nHeather and Ozzie\\nWe j...  \n",
       "67   EECC/ENA meeting - Pre-Meeting\\n\\nPlease let m...  "
      ]
     },
     "execution_count": 62,
     "metadata": {},
     "output_type": "execute_result"
    }
   ],
   "source": [
    "X_train_full.head()"
   ]
  },
  {
   "cell_type": "code",
   "execution_count": 63,
   "id": "db9b71b6",
   "metadata": {},
   "outputs": [
    {
     "data": {
      "text/plain": [
       "3.0"
      ]
     },
     "execution_count": 63,
     "metadata": {},
     "output_type": "execute_result"
    }
   ],
   "source": [
    "y_train_full.values[1]"
   ]
  },
  {
   "cell_type": "markdown",
   "id": "f4b86b4a",
   "metadata": {},
   "source": [
    "The following code was adapted from NeuralNine, 2020 where it was used to make a chatbot. I create the full word list based on the training set."
   ]
  },
  {
   "cell_type": "code",
   "execution_count": 64,
   "id": "ff3e915a",
   "metadata": {},
   "outputs": [],
   "source": [
    "\n",
    "lemmatizer = WordNetLemmatizer()\n",
    "\n",
    "patterns = X_train_full['patterns']\n",
    "tags = y_train_full\n",
    "words = []\n",
    "classes = []\n",
    "documents = []\n",
    "ignoreLetters = ['?', '!', '.', ',','@','-',':',';','<','>']\n",
    "\n",
    "#first each email is tokenized, and these are added to a word list. \n",
    "#Then a list is made of all the words in the all the emails. \n",
    "#a list is also made of unique target values\n",
    "#the words are then lemmatized and we are left with a file with unique lemmatized words from all the emails\n",
    "for i in range(len(patterns)):\n",
    "    wordList = nltk.word_tokenize(patterns.values[i])\n",
    "    words.extend(wordList)\n",
    "    documents.append((wordList, tags.values[i]))\n",
    "    if tags.values[i] not in classes:\n",
    "        classes.append(tags.values[i])\n",
    "\n",
    "words = [lemmatizer.lemmatize(word) for word in words if word not in ignoreLetters]\n",
    "words = sorted(set(words))\n",
    "\n",
    "classes = sorted(set(classes))\n",
    "\n",
    "#Save full list of words and classes for use in the application\n",
    "pickle.dump(words, open('words.pkl', 'wb'))\n",
    "pickle.dump(classes, open('classes.pkl', 'wb'))"
   ]
  },
  {
   "cell_type": "code",
   "execution_count": 65,
   "id": "0ac0f6bf",
   "metadata": {},
   "outputs": [
    {
     "data": {
      "text/plain": [
       "['#',\n",
       " '$',\n",
       " '%',\n",
       " '&',\n",
       " \"'\",\n",
       " \"''\",\n",
       " \"'02\",\n",
       " \"'Amy\",\n",
       " \"'Brad\",\n",
       " \"'Brenda\",\n",
       " \"'Brian\",\n",
       " \"'Campbell\",\n",
       " \"'Cindy\",\n",
       " \"'Dale.Rasmussen\",\n",
       " \"'Dave\",\n",
       " \"'Hector\",\n",
       " \"'It\",\n",
       " \"'Jim.Gilbert\",\n",
       " \"'Julie\",\n",
       " \"'Kay.Mann\",\n",
       " \"'Kelly\",\n",
       " \"'Kerrie\",\n",
       " \"'Kim\",\n",
       " \"'Lawrence\",\n",
       " \"'Lori\",\n",
       " \"'Mom\",\n",
       " \"'Nancy\",\n",
       " \"'PARKER\",\n",
       " \"'PB\",\n",
       " \"'Phil\",\n",
       " \"'Rebecca\",\n",
       " \"'SUZANNE.ADAMS\",\n",
       " \"'Sandra\",\n",
       " \"'Scott\",\n",
       " \"'Scott.Healy\",\n",
       " \"'Sharon\",\n",
       " \"'Shoemaker\",\n",
       " \"'Stacey\",\n",
       " \"'Susan\",\n",
       " \"'Terri\",\n",
       " \"'The\",\n",
       " \"'Tishy\",\n",
       " \"'VAN\",\n",
       " \"'Valerie\",\n",
       " \"'We\",\n",
       " \"'While\",\n",
       " \"'aivancovich\",\n",
       " \"'ben.f.jacoby\",\n",
       " \"'ccampbell\",\n",
       " \"'chris.booth\",\n",
       " \"'christine\",\n",
       " \"'d\",\n",
       " \"'f_mitro\",\n",
       " \"'fred.mitro\",\n",
       " \"'green\",\n",
       " \"'gregorylang\",\n",
       " \"'heather\",\n",
       " \"'hello\",\n",
       " \"'iparker\",\n",
       " \"'kathleen.carnahan\",\n",
       " \"'kathleen.clark\",\n",
       " \"'kay.mann\",\n",
       " \"'kerry\",\n",
       " \"'lisa.obrien\",\n",
       " \"'ll\",\n",
       " \"'m\",\n",
       " \"'margueritekahn\",\n",
       " \"'michael.d.nanny\",\n",
       " \"'re\",\n",
       " \"'rusty.stevens\",\n",
       " \"'s\",\n",
       " \"'tconstan\",\n",
       " \"'ve\",\n",
       " \"'we\",\n",
       " '(',\n",
       " ')',\n",
       " '*',\n",
       " '++++++CONFIDENTIALITY',\n",
       " '++1',\n",
       " '+44',\n",
       " '+7',\n",
       " '--',\n",
       " '-0400',\n",
       " '-0500',\n",
       " '-0600',\n",
       " '-1.doc',\n",
       " '-5/16',\n",
       " '-=20',\n",
       " '-Ambrose',\n",
       " '-Anonymous',\n",
       " '-Benjamin',\n",
       " '-Brian',\n",
       " '-Capital',\n",
       " '-Catherine',\n",
       " '-Dave',\n",
       " '-Dean',\n",
       " '-Deep',\n",
       " '-Ernest',\n",
       " '-Frank',\n",
       " '-George',\n",
       " '-Henny',\n",
       " '-His',\n",
       " '-Homer',\n",
       " '-Humphrey',\n",
       " '-Kaiser',\n",
       " '-LMSK-2001',\n",
       " '-Lady',\n",
       " '-Liz',\n",
       " '-Matt',\n",
       " '-Original',\n",
       " '-Oscar',\n",
       " '-Stephen',\n",
       " '-W.C.',\n",
       " '-Washington',\n",
       " '-Winston',\n",
       " '-to',\n",
       " '..',\n",
       " '...',\n",
       " '....',\n",
       " '......',\n",
       " '........',\n",
       " '.DOC',\n",
       " '.PDF',\n",
       " '.WPD',\n",
       " '.doc',\n",
       " '.rtf',\n",
       " '/',\n",
       " '//auctions.yahoo.com/',\n",
       " '//biz.yahoo.com/bw/000921/ct_fuelcel.html',\n",
       " '//home.ena.enron.com/pulse/',\n",
       " '//mail.yahoo.com/',\n",
       " '//personal.mail.yahoo.com/',\n",
       " '//photos.yahoo.com/',\n",
       " '//www.individual.com',\n",
       " '//www.individual.com/welcome.shtml',\n",
       " '//www.kidventurecamp.com/camp_enron.htm',\n",
       " '//www.netaddress.com',\n",
       " '//www.piperrudnick.com/',\n",
       " '//www.sulphco.com',\n",
       " '/PRNewswire/',\n",
       " '0',\n",
       " '00',\n",
       " '00.DOC',\n",
       " '005',\n",
       " '005-7024437073',\n",
       " '0057024436937',\n",
       " '01',\n",
       " '01/02/2001',\n",
       " '01/03/2001',\n",
       " '01/04/2001',\n",
       " '01/05/2001',\n",
       " '01/08/2001',\n",
       " '01/10/2001',\n",
       " '01/22/2001',\n",
       " '01/24/2001',\n",
       " '01/25/2001',\n",
       " '01/26/2001',\n",
       " '01/31/2001',\n",
       " '0133P',\n",
       " '01803',\n",
       " '01:06:56',\n",
       " '01:11:37',\n",
       " '01:12',\n",
       " '01:12:54',\n",
       " '01:30',\n",
       " '01:31',\n",
       " '01:34',\n",
       " '01:38',\n",
       " '01:40',\n",
       " '01:42:58',\n",
       " '01:46:03',\n",
       " '01:48',\n",
       " '01:49',\n",
       " '01:50',\n",
       " '01:51',\n",
       " '01:53',\n",
       " '01:54',\n",
       " '01:55',\n",
       " '01:56:42',\n",
       " '01:57',\n",
       " '01:59',\n",
       " '02',\n",
       " '02/01/2001',\n",
       " '02/06/2001',\n",
       " '02/12/2001',\n",
       " '02/13/2001',\n",
       " '02/14/2001',\n",
       " '02/16/2001',\n",
       " '02/19/2001',\n",
       " '02/21/2001',\n",
       " '02/23/2001',\n",
       " '02/26/2001',\n",
       " '02/28/2001',\n",
       " '0252P',\n",
       " '02:03',\n",
       " '02:04:35',\n",
       " '02:06',\n",
       " '02:12',\n",
       " '02:12:27',\n",
       " '02:13',\n",
       " '02:14',\n",
       " '02:15',\n",
       " '02:16',\n",
       " '02:17',\n",
       " '02:18',\n",
       " '02:19',\n",
       " '02:25',\n",
       " '02:27',\n",
       " '02:29',\n",
       " '02:33',\n",
       " '02:33:04',\n",
       " '02:35:20',\n",
       " '02:41',\n",
       " '02:42:23',\n",
       " '02:47',\n",
       " '02:50',\n",
       " '02:52:14',\n",
       " '02:53',\n",
       " '02:54',\n",
       " '02:57:57',\n",
       " '02FEB',\n",
       " '03',\n",
       " '03/04/2001',\n",
       " '03/05/2001',\n",
       " '03/06/2001',\n",
       " '03/07/2001',\n",
       " '03/14/2001',\n",
       " '03/15/2001',\n",
       " '03/16/2001',\n",
       " '03/26/2001',\n",
       " '03/30/2001',\n",
       " '03/31/01',\n",
       " '032',\n",
       " '03:00',\n",
       " '03:00:50',\n",
       " '03:04',\n",
       " '03:05',\n",
       " '03:11:13',\n",
       " '03:12',\n",
       " '03:22',\n",
       " '03:27',\n",
       " '03:30:43',\n",
       " '03:37',\n",
       " '03:38',\n",
       " '03:41',\n",
       " '03:41:06',\n",
       " '03:44',\n",
       " '03:45',\n",
       " '03:50:53',\n",
       " '03:51',\n",
       " '03:54',\n",
       " '03:55',\n",
       " '03:57',\n",
       " '03:58',\n",
       " '03B',\n",
       " '03E',\n",
       " '04',\n",
       " '04/01/2001',\n",
       " '04/02/01',\n",
       " '04/02/2001',\n",
       " '04/03/2001',\n",
       " '04/04/01',\n",
       " '04/05/2001',\n",
       " '04/06/2001',\n",
       " '04/09/01',\n",
       " '04/09/2001',\n",
       " '04/17/2001',\n",
       " '04/18/2001',\n",
       " '04/19/01',\n",
       " '04/19/2001',\n",
       " '04/23/2001',\n",
       " '04/25/01',\n",
       " '04/25/2001',\n",
       " '04:09:26',\n",
       " '04:12',\n",
       " '04:17:54',\n",
       " '04:20',\n",
       " '04:21',\n",
       " '04:30',\n",
       " '04:31',\n",
       " '04:33',\n",
       " '04:36',\n",
       " '04:42:40',\n",
       " '04:44',\n",
       " '04:45',\n",
       " '04:51',\n",
       " '04:54',\n",
       " '04:56:21',\n",
       " '04:57',\n",
       " '04:58',\n",
       " '04JUN',\n",
       " '05',\n",
       " '05/01/2001',\n",
       " '05/16/2001',\n",
       " '05/17/2001',\n",
       " '05/18/2000',\n",
       " '05:00',\n",
       " '05:01',\n",
       " '05:03',\n",
       " '05:07:09',\n",
       " '05:10:38',\n",
       " '05:10:41',\n",
       " '05:15:51',\n",
       " '05:15:58',\n",
       " '05:18',\n",
       " '05:19',\n",
       " '05:23',\n",
       " '05:25:00',\n",
       " '05:28',\n",
       " '05:32',\n",
       " '05:34',\n",
       " '05:35',\n",
       " '05:36',\n",
       " '05:37:50',\n",
       " '05:37:59',\n",
       " '05:38',\n",
       " '05:42PM',\n",
       " '05:48',\n",
       " '05:49',\n",
       " '05:53',\n",
       " '05:55',\n",
       " '05:59:10',\n",
       " '06',\n",
       " '06/01/2001',\n",
       " '06/05/2001',\n",
       " '06/07/2001',\n",
       " '06/08',\n",
       " '06/08/2000',\n",
       " '06/12/2000',\n",
       " '06/24/99',\n",
       " '06/29/2000',\n",
       " '06103',\n",
       " '06810',\n",
       " '06901',\n",
       " '06:00',\n",
       " '06:01',\n",
       " '06:03',\n",
       " '06:05',\n",
       " '06:22',\n",
       " '06:27:38',\n",
       " '06:30',\n",
       " '06:34',\n",
       " '06:35:27',\n",
       " '06:57',\n",
       " '07',\n",
       " '07/05/2000',\n",
       " '07/12/99',\n",
       " '07/19/99',\n",
       " '07/20/99',\n",
       " '07/21/2000',\n",
       " '07/21/99',\n",
       " '07/24/2000',\n",
       " '07/25/2000',\n",
       " '07:12',\n",
       " '07:16',\n",
       " '07:23:02',\n",
       " '07:24',\n",
       " '07:42',\n",
       " '07:44',\n",
       " '07:46',\n",
       " '07:55',\n",
       " '07:59',\n",
       " '07AUG',\n",
       " '08',\n",
       " '08/09/2000',\n",
       " '08/11/2000',\n",
       " '08/28/2000',\n",
       " '08/29/2000',\n",
       " '08/30/2000',\n",
       " '08:06:19',\n",
       " '08:06:43',\n",
       " '08:13',\n",
       " '08:16',\n",
       " '08:22:29',\n",
       " '08:24:16',\n",
       " '08:30',\n",
       " '08:35',\n",
       " '08:36',\n",
       " '08:38:52',\n",
       " '08:41',\n",
       " '08:43',\n",
       " '08:47',\n",
       " '08:47AM',\n",
       " '08:51',\n",
       " '08:53',\n",
       " '08:59',\n",
       " '08OCT',\n",
       " '09',\n",
       " '09/02/99',\n",
       " '09/06/2000',\n",
       " '09/15/00',\n",
       " '09/15/2000',\n",
       " '09/17/2000',\n",
       " '09/18/2000',\n",
       " '09/19/2000',\n",
       " '09/25/2000',\n",
       " '09/27/2000',\n",
       " '09/28/2000',\n",
       " '09:00',\n",
       " '09:00:30',\n",
       " '09:01',\n",
       " '09:06',\n",
       " '09:07:25',\n",
       " '09:08',\n",
       " '09:09',\n",
       " '09:11',\n",
       " '09:12',\n",
       " '09:13:40',\n",
       " '09:14',\n",
       " '09:15',\n",
       " '09:17',\n",
       " '09:19',\n",
       " '09:27',\n",
       " '09:29',\n",
       " '09:31',\n",
       " '09:35',\n",
       " '09:38',\n",
       " '09:39',\n",
       " '09:40',\n",
       " '09:42',\n",
       " '09:44',\n",
       " '09:47:11',\n",
       " '09:50:45',\n",
       " '09:51',\n",
       " '09:52',\n",
       " '09:57:52',\n",
       " '09AUG',\n",
       " '09D',\n",
       " '09JAN',\n",
       " '09MAY',\n",
       " '1',\n",
       " '1,080',\n",
       " '1,200',\n",
       " '1,230',\n",
       " '1,445,000',\n",
       " '1,478',\n",
       " '1-212',\n",
       " '1-800-991-9019',\n",
       " '1-800-998-2462',\n",
       " '1-866-590-1311',\n",
       " '1-877-475-9234',\n",
       " '1-888-232-3866',\n",
       " '1-888-285-4585',\n",
       " '1-888-422-7116',\n",
       " '1.',\n",
       " '1.0',\n",
       " '1.25',\n",
       " '1.27',\n",
       " '1.3',\n",
       " '1.4',\n",
       " '1.41',\n",
       " '1.48',\n",
       " '1.5',\n",
       " '1.572',\n",
       " '1.6',\n",
       " '1.70',\n",
       " '1.75',\n",
       " '1.8',\n",
       " '1.800.991.9019',\n",
       " '1.800.998.2462',\n",
       " '1.86',\n",
       " '1.DOC',\n",
       " '1.b',\n",
       " '1/15/01',\n",
       " '1/29/2001',\n",
       " '1/3',\n",
       " '1/4',\n",
       " '1/Jun/00',\n",
       " '10',\n",
       " '10,000',\n",
       " '10-year-old',\n",
       " '10.1',\n",
       " '10.2.1',\n",
       " '10.2.3',\n",
       " '10.4',\n",
       " '10.7',\n",
       " '10.a',\n",
       " '10/03/2000',\n",
       " '10/04/2000',\n",
       " '10/05/2000',\n",
       " '10/06/2000',\n",
       " '10/09/2000',\n",
       " '10/10/2000',\n",
       " '10/12/2000',\n",
       " '10/19/2000',\n",
       " '10/27/00',\n",
       " '10/31/01',\n",
       " '100',\n",
       " '100-500',\n",
       " '1000',\n",
       " '10005-1413',\n",
       " '10019',\n",
       " '10021',\n",
       " '10022',\n",
       " '1008628398',\n",
       " '1008660779',\n",
       " '1020.75',\n",
       " '105',\n",
       " '1050A',\n",
       " '1053A',\n",
       " '1055',\n",
       " '10:00',\n",
       " '10:03',\n",
       " '10:05',\n",
       " '10:06',\n",
       " '10:08',\n",
       " '10:09',\n",
       " '10:11',\n",
       " '10:12',\n",
       " '10:14',\n",
       " '10:16',\n",
       " '10:19',\n",
       " '10:20',\n",
       " '10:21',\n",
       " '10:26',\n",
       " '10:30',\n",
       " '10:30am',\n",
       " '10:31',\n",
       " '10:32:29',\n",
       " '10:37',\n",
       " '10:39',\n",
       " '10:40',\n",
       " '10:42',\n",
       " '10:43',\n",
       " '10:45',\n",
       " '10:46:01',\n",
       " '10:47',\n",
       " '10:48',\n",
       " '10:50:20',\n",
       " '10:50:49',\n",
       " '10:53',\n",
       " '10:54',\n",
       " '10:55',\n",
       " '10:56',\n",
       " '10:58',\n",
       " '10=20',\n",
       " '10AM',\n",
       " '10E',\n",
       " '11',\n",
       " '11.00',\n",
       " '11.a',\n",
       " '11/01/2000',\n",
       " '11/02/2000',\n",
       " '11/06/2000',\n",
       " '11/09/2000',\n",
       " '11/1/00',\n",
       " '11/10/2000',\n",
       " '11/13/2000',\n",
       " '11/15/2000',\n",
       " '11/16/2000',\n",
       " '11/17/00',\n",
       " '11/21/2000',\n",
       " '11/22/00',\n",
       " '11/22/00.DOC',\n",
       " '11/22/2000',\n",
       " '11/27/2000',\n",
       " '11/29/2000',\n",
       " '11/30',\n",
       " '11/30/00',\n",
       " '11/30/2000',\n",
       " '1100',\n",
       " '110300',\n",
       " '1115A',\n",
       " '1130A',\n",
       " '1141A',\n",
       " '1152A',\n",
       " '1156A',\n",
       " '11:00',\n",
       " '11:00am',\n",
       " '11:01',\n",
       " '11:06:58',\n",
       " '11:09',\n",
       " '11:10',\n",
       " '11:10:01',\n",
       " '11:12',\n",
       " '11:14:45',\n",
       " '11:15',\n",
       " '11:15:47',\n",
       " '11:16',\n",
       " '11:18',\n",
       " '11:19',\n",
       " '11:20',\n",
       " '11:20:08',\n",
       " '11:22',\n",
       " '11:28',\n",
       " '11:29',\n",
       " '11:30',\n",
       " '11:32',\n",
       " '11:37:43',\n",
       " '11:39',\n",
       " '11:42:49',\n",
       " '11:44:47',\n",
       " '11:45',\n",
       " '11:46',\n",
       " '11:48',\n",
       " '11:51',\n",
       " '11:55',\n",
       " '11AM',\n",
       " '11C',\n",
       " '11OCT',\n",
       " '12',\n",
       " '12-18',\n",
       " '12/01/00',\n",
       " '12/04/2000',\n",
       " '12/06/2000',\n",
       " '12/07/2000',\n",
       " '12/08/2000',\n",
       " '12/11/2000',\n",
       " '12/12/2000',\n",
       " '12/13/00.DOC',\n",
       " '12/13/2000',\n",
       " '12/14/00',\n",
       " '12/14/2000',\n",
       " '12/15/2000',\n",
       " '12/18/2000',\n",
       " '12/19/2000',\n",
       " '12/20/00',\n",
       " '12/21/2000',\n",
       " '12/22/2000',\n",
       " '12/27/2000',\n",
       " '12/28/2000',\n",
       " '12/29/00',\n",
       " '12/29/2000',\n",
       " '12/5/00.DOC',\n",
       " '12016.15',\n",
       " '120400.DOC',\n",
       " '120P',\n",
       " '121970',\n",
       " '12345',\n",
       " '1249',\n",
       " '125',\n",
       " '125k',\n",
       " '128540v9',\n",
       " '128541vR14/13',\n",
       " '128764v1',\n",
       " '128780v1',\n",
       " '128781v1',\n",
       " '128782v1',\n",
       " '129088vR6/5',\n",
       " '129099vR5/4',\n",
       " '129280v3',\n",
       " '129280v4',\n",
       " '129344v1',\n",
       " '12:00',\n",
       " '12:02',\n",
       " '12:04',\n",
       " '12:06',\n",
       " '12:13',\n",
       " '12:14:16',\n",
       " '12:17',\n",
       " '12:18',\n",
       " '12:22',\n",
       " '12:24',\n",
       " '12:24:18',\n",
       " '12:26',\n",
       " '12:27',\n",
       " '12:28',\n",
       " '12:29:24',\n",
       " '12:30',\n",
       " '12:33',\n",
       " '12:34',\n",
       " '12:36:28',\n",
       " '12:40',\n",
       " '12:42',\n",
       " '12:42:55',\n",
       " '12:45',\n",
       " '12:48',\n",
       " '12:49',\n",
       " '12:55',\n",
       " '12:56',\n",
       " '12:59',\n",
       " '12C',\n",
       " '12MM',\n",
       " '12OCT',\n",
       " '12th',\n",
       " '13',\n",
       " '13/11/2000',\n",
       " '13/16',\n",
       " '130',\n",
       " '131',\n",
       " '131359v1',\n",
       " '1325',\n",
       " '133,000',\n",
       " '133641v12',\n",
       " '133641vR11/10',\n",
       " '133641vR12/11',\n",
       " '136641vR7/6',\n",
       " '136P',\n",
       " '137007vR4/3',\n",
       " '137032v6',\n",
       " '137032vR6/5',\n",
       " '137061v3',\n",
       " '139328v1',\n",
       " '139328v3',\n",
       " '139328vR2/1',\n",
       " '139328vR3/2',\n",
       " '13OCT',\n",
       " '14',\n",
       " '14-July',\n",
       " '1400',\n",
       " '140106v1',\n",
       " '140106v2',\n",
       " '140109v1',\n",
       " '140366v4',\n",
       " '140424v1',\n",
       " '142.66',\n",
       " '145',\n",
       " '1450',\n",
       " '1460',\n",
       " '1461',\n",
       " '14:04:30',\n",
       " '14:22:27',\n",
       " '14:27:38',\n",
       " '14jul00',\n",
       " '15',\n",
       " '15,000',\n",
       " '15.1.2',\n",
       " '15.2',\n",
       " '150',\n",
       " '150.14',\n",
       " '157P',\n",
       " '15:22:48',\n",
       " '15:22:52',\n",
       " '15th',\n",
       " '16',\n",
       " '16,100,000',\n",
       " '16-July',\n",
       " '160',\n",
       " '161.00',\n",
       " '16:18:14',\n",
       " '16C',\n",
       " '16MM+',\n",
       " '16th',\n",
       " '16th-AM',\n",
       " '16th-PM',\n",
       " '17',\n",
       " '17.4.1',\n",
       " '17.4.4',\n",
       " '1700',\n",
       " '176eLNoeE1195M22',\n",
       " '1795.34',\n",
       " '17F',\n",
       " '17JAN',\n",
       " '17OCT',\n",
       " '18',\n",
       " '180',\n",
       " '180-megawatt',\n",
       " '1801',\n",
       " '1837',\n",
       " '187.81',\n",
       " '1888.36',\n",
       " '18:59:28',\n",
       " '18JAN',\n",
       " '18_Comparison',\n",
       " '18aug00',\n",
       " '19',\n",
       " '19-20',\n",
       " '191',\n",
       " '1933',\n",
       " '1934',\n",
       " '1938.00',\n",
       " '1960s',\n",
       " '1961',\n",
       " '1966',\n",
       " '1976',\n",
       " '1990',\n",
       " '199329',\n",
       " '1995',\n",
       " '1996',\n",
       " '1998',\n",
       " '1999',\n",
       " '1999-2000',\n",
       " '1999=',\n",
       " '19OCT',\n",
       " '1:00',\n",
       " '1:10',\n",
       " '1:30',\n",
       " '1:30pm',\n",
       " '1:35',\n",
       " '1:45',\n",
       " '1:56',\n",
       " '1:58',\n",
       " '1:59',\n",
       " '1=',\n",
       " '1A',\n",
       " '1B',\n",
       " '1C',\n",
       " '1st',\n",
       " '1st/2nd',\n",
       " '2',\n",
       " '2,000',\n",
       " '2,299',\n",
       " '2-14.doc',\n",
       " '2-3',\n",
       " '2-4',\n",
       " '2-R7.doc',\n",
       " '2.',\n",
       " '2.3',\n",
       " '2.5',\n",
       " '2.7',\n",
       " '2.DOC',\n",
       " '2.doc',\n",
       " '2/ABB',\n",
       " '20',\n",
       " '20/7/99',\n",
       " '200',\n",
       " '2000',\n",
       " '2000.',\n",
       " '20006-1872',\n",
       " '20007',\n",
       " '2000MW',\n",
       " '2001',\n",
       " '2001.',\n",
       " '2001=20',\n",
       " '2002',\n",
       " '200am',\n",
       " '201-938-4604',\n",
       " '202',\n",
       " '202-342-0444',\n",
       " '202-828-5800',\n",
       " '202-828-5862',\n",
       " '202-857-2122',\n",
       " '202-944-2076',\n",
       " '203',\n",
       " '203-243-5681',\n",
       " '203-359-3031',\n",
       " '203-794-0600',\n",
       " '203-798-2709',\n",
       " '203.359.3031',\n",
       " '203.674.7646',\n",
       " '203.674.7723',\n",
       " '203.961.7446',\n",
       " '203.961.7523',\n",
       " '203/825-6000',\n",
       " '2038.50',\n",
       " '205',\n",
       " '20:27',\n",
       " '20:45:40',\n",
       " '20MM',\n",
       " '20th',\n",
       " '21',\n",
       " '212',\n",
       " '212-530-5209',\n",
       " '212-822-5209',\n",
       " '215',\n",
       " '215P',\n",
       " '217',\n",
       " '21:43:48',\n",
       " '21:57:48',\n",
       " '21E',\n",
       " '21ST',\n",
       " '21jul00',\n",
       " '21st',\n",
       " '22',\n",
       " '220-4436',\n",
       " '221-1524',\n",
       " '2222',\n",
       " '22nd',\n",
       " '23',\n",
       " '23-24',\n",
       " '235',\n",
       " '235-7602',\n",
       " '23607',\n",
       " '238-7273',\n",
       " '239243.WPD',\n",
       " '239299.WPD',\n",
       " '23:09:27',\n",
       " '23JAN',\n",
       " '23jul00',\n",
       " '23rd',\n",
       " '24',\n",
       " '24.7',\n",
       " '245-4707',\n",
       " '2480',\n",
       " '2498.52',\n",
       " '24jul00',\n",
       " '25',\n",
       " '25,000',\n",
       " '25,101,733',\n",
       " '25,101,733.00',\n",
       " '25-28',\n",
       " '25.1',\n",
       " '25.3',\n",
       " '255',\n",
       " '257P',\n",
       " '25JAN',\n",
       " '25PPM',\n",
       " '25k',\n",
       " '25mm',\n",
       " '25th',\n",
       " '26',\n",
       " '261740',\n",
       " '27',\n",
       " '270-3652',\n",
       " '2718',\n",
       " '274',\n",
       " '277',\n",
       " '27A',\n",
       " '27MM',\n",
       " '28',\n",
       " '28.3',\n",
       " '280',\n",
       " '2800',\n",
       " '281',\n",
       " '281-604-5237',\n",
       " '281-604-5240',\n",
       " '287.00',\n",
       " '28th',\n",
       " '29',\n",
       " '2923',\n",
       " '297-5146',\n",
       " '297-5147',\n",
       " '297-5148',\n",
       " '297-5149',\n",
       " '297-5150',\n",
       " '2:00',\n",
       " '2:00pm',\n",
       " '2:02',\n",
       " '2:23',\n",
       " '2:30',\n",
       " '2:30pm',\n",
       " '2:31',\n",
       " '2:33',\n",
       " '2:39',\n",
       " '2:40',\n",
       " '2:43',\n",
       " '2:51',\n",
       " '2:58',\n",
       " '2:59',\n",
       " '2A',\n",
       " '2FEB',\n",
       " '2R6K13',\n",
       " '2R6L18',\n",
       " '2R6LRED.DOC',\n",
       " '2RCS01',\n",
       " '2RD',\n",
       " '2RD801',\n",
       " '2RD901',\n",
       " '2RLS10',\n",
       " '2RLSRED.DOC',\n",
       " '2RM309',\n",
       " '2RM3RED.DOC',\n",
       " '2RR403',\n",
       " '2RR404',\n",
       " '2RSW04',\n",
       " '2TCV01',\n",
       " '2XFLRED.DOC',\n",
       " '2Z',\n",
       " '2nd',\n",
       " '2r6kRED.DOC',\n",
       " '3',\n",
       " '3,000',\n",
       " '3-',\n",
       " '3-0420',\n",
       " '3-0497',\n",
       " '3-3526',\n",
       " '3-9-00',\n",
       " '3-9548',\n",
       " '3-9842',\n",
       " '3.',\n",
       " '3.0',\n",
       " '3.1',\n",
       " '3.2.1',\n",
       " '3.2.2',\n",
       " '3.2.3',\n",
       " '3.2MM',\n",
       " '3.6',\n",
       " '3.7',\n",
       " '3.DOC',\n",
       " '3.doc',\n",
       " '3/10/01',\n",
       " '3/16/01',\n",
       " '3/7',\n",
       " '30',\n",
       " '30-35',\n",
       " '30-45',\n",
       " '30.3',\n",
       " '30/May/00',\n",
       " '300',\n",
       " '300,000',\n",
       " '3000',\n",
       " '3029',\n",
       " '303',\n",
       " '304279',\n",
       " '305.00',\n",
       " '307',\n",
       " '30C_01',\n",
       " '30th',\n",
       " '31',\n",
       " '3101ka',\n",
       " '310P',\n",
       " '3113954334',\n",
       " '312',\n",
       " '312-240-3924',\n",
       " '312-269-4160',\n",
       " '312-368-2152',\n",
       " '312-368-2175',\n",
       " '312-630-6347',\n",
       " '312-782-8585',\n",
       " '312/541-1225',\n",
       " ...]"
      ]
     },
     "execution_count": 65,
     "metadata": {},
     "output_type": "execute_result"
    }
   ],
   "source": [
    "words"
   ]
  },
  {
   "cell_type": "code",
   "execution_count": 66,
   "id": "bf805985",
   "metadata": {},
   "outputs": [],
   "source": [
    "#In this part we create a bag of words for each email and add them to the training set. \n",
    "#The result is an array where each row is an email encoded into a bag of words, with columns being each word and values either being 1 or 0\n",
    "training = []\n",
    "outputEmpty = [0] * len(classes)\n",
    "\n",
    "for document in documents:\n",
    "    bag = []\n",
    "    wordPatterns = document[0]\n",
    "    wordPatterns = [lemmatizer.lemmatize(word.lower()) for word in wordPatterns]\n",
    "    for word in words:\n",
    "        bag.append(1) if word in wordPatterns else bag.append(0)\n",
    "#Creates an output row for the target\n",
    "    outputRow = list(outputEmpty)\n",
    "    outputRow[classes.index(document[1])] = 1\n",
    "    training.append(bag + outputRow)\n",
    "\n",
    "random.shuffle(training)\n",
    "training = np.array(training)\n",
    "\n",
    "trainX = training[:, :len(words)]\n",
    "trainY = training[:, len(words):]"
   ]
  },
  {
   "cell_type": "markdown",
   "id": "22140966",
   "metadata": {},
   "source": [
    "To test the model, I created a test set that fits into the same array created to train the models (see above). In other words: each message in the test set is turned into a bag of words based on the words present in the training set.\n",
    "- The test set created below will be used to assess simpler classification models (decision tree and K-nearest Neighbors)\n",
    "- To test the Neural Network model created by NeuralNine, 2020 I will use the predict_class function that they created for the chat bot."
   ]
  },
  {
   "cell_type": "code",
   "execution_count": 67,
   "id": "b5fe2c81",
   "metadata": {},
   "outputs": [],
   "source": [
    "test = []\n",
    "outputEmpty = [0] * len(classes)\n",
    "patterns_test = X_test['patterns']\n",
    "tags = y_test\n",
    "\n",
    "documents_test = []\n",
    "ignoreLetters = ['?', '!', '.', ',','@','-',':',';','<','>']\n",
    "\n",
    "for i in range(len(patterns_test)):\n",
    "    wordList = nltk.word_tokenize(patterns_test.values[i])\n",
    "    \n",
    "    documents_test.append((wordList, tags.values[i]))\n",
    "\n",
    "for document in documents_test:\n",
    "    bag = []\n",
    "    wordPatterns = document[0]\n",
    "    wordPatterns = [lemmatizer.lemmatize(word.lower()) for word in wordPatterns]\n",
    "    for word in words:\n",
    "        bag.append(1) if word in wordPatterns else bag.append(0)\n",
    "#Creates an output row for the target\n",
    "    outputRow = list(outputEmpty)\n",
    "    outputRow[classes.index(document[1])] = 1\n",
    "    test.append(bag + outputRow)\n",
    "\n",
    "random.shuffle(test)\n",
    "test = np.array(test)\n",
    "\n",
    "testX = test[:, :len(words)]\n",
    "testY = test[:, len(words):]"
   ]
  },
  {
   "cell_type": "code",
   "execution_count": 68,
   "id": "32b69035",
   "metadata": {},
   "outputs": [
    {
     "data": {
      "text/plain": [
       "(1212, 10303)"
      ]
     },
     "execution_count": 68,
     "metadata": {},
     "output_type": "execute_result"
    }
   ],
   "source": [
    "trainX.shape"
   ]
  },
  {
   "cell_type": "code",
   "execution_count": 69,
   "id": "9947995f",
   "metadata": {},
   "outputs": [
    {
     "data": {
      "text/plain": [
       "(1212, 5)"
      ]
     },
     "execution_count": 69,
     "metadata": {},
     "output_type": "execute_result"
    }
   ],
   "source": [
    "trainY.shape"
   ]
  },
  {
   "cell_type": "code",
   "execution_count": 70,
   "id": "9d79f98d",
   "metadata": {},
   "outputs": [
    {
     "data": {
      "text/plain": [
       "(304, 10303)"
      ]
     },
     "execution_count": 70,
     "metadata": {},
     "output_type": "execute_result"
    }
   ],
   "source": [
    "testX.shape"
   ]
  },
  {
   "cell_type": "code",
   "execution_count": 71,
   "id": "a48a2941",
   "metadata": {},
   "outputs": [
    {
     "data": {
      "text/plain": [
       "(304, 5)"
      ]
     },
     "execution_count": 71,
     "metadata": {},
     "output_type": "execute_result"
    }
   ],
   "source": [
    "testY.shape"
   ]
  },
  {
   "cell_type": "code",
   "execution_count": null,
   "id": "e851976b",
   "metadata": {},
   "outputs": [],
   "source": []
  },
  {
   "cell_type": "code",
   "execution_count": 72,
   "id": "43a04b78",
   "metadata": {
    "scrolled": true
   },
   "outputs": [],
   "source": [
    "#need to delete the model before retraining\n",
    "#del model "
   ]
  },
  {
   "cell_type": "markdown",
   "id": "2e21e95b",
   "metadata": {},
   "source": [
    "The model architecture below is based on the model for the chatbot retrieved from NeuralNine, 2020:"
   ]
  },
  {
   "cell_type": "code",
   "execution_count": 73,
   "id": "306ac602",
   "metadata": {},
   "outputs": [
    {
     "name": "stdout",
     "output_type": "stream",
     "text": [
      "Epoch 1/200\n",
      "243/243 [==============================] - 6s 19ms/step - loss: 0.9553 - accuracy: 0.7236\n",
      "Epoch 2/200\n",
      "243/243 [==============================] - 5s 20ms/step - loss: 0.6812 - accuracy: 0.7599\n",
      "Epoch 3/200\n",
      "243/243 [==============================] - 4s 18ms/step - loss: 0.4794 - accuracy: 0.8391\n",
      "Epoch 4/200\n",
      "243/243 [==============================] - 4s 18ms/step - loss: 0.3896 - accuracy: 0.8787\n",
      "Epoch 5/200\n",
      "243/243 [==============================] - 4s 18ms/step - loss: 0.3177 - accuracy: 0.9018\n",
      "Epoch 6/200\n",
      "243/243 [==============================] - 5s 19ms/step - loss: 0.2811 - accuracy: 0.9208\n",
      "Epoch 7/200\n",
      "243/243 [==============================] - 4s 17ms/step - loss: 0.2040 - accuracy: 0.9348\n",
      "Epoch 8/200\n",
      "243/243 [==============================] - 4s 16ms/step - loss: 0.1968 - accuracy: 0.9455\n",
      "Epoch 9/200\n",
      "243/243 [==============================] - 5s 19ms/step - loss: 0.2106 - accuracy: 0.9414\n",
      "Epoch 10/200\n",
      "243/243 [==============================] - 5s 21ms/step - loss: 0.1670 - accuracy: 0.9447\n",
      "Epoch 11/200\n",
      "243/243 [==============================] - 5s 20ms/step - loss: 0.2061 - accuracy: 0.9365\n",
      "Epoch 12/200\n",
      "243/243 [==============================] - 5s 19ms/step - loss: 0.1510 - accuracy: 0.9554\n",
      "Epoch 13/200\n",
      "243/243 [==============================] - 5s 20ms/step - loss: 0.1852 - accuracy: 0.9472\n",
      "Epoch 14/200\n",
      "243/243 [==============================] - 4s 18ms/step - loss: 0.1260 - accuracy: 0.9612\n",
      "Epoch 15/200\n",
      "243/243 [==============================] - 4s 16ms/step - loss: 0.1214 - accuracy: 0.9604\n",
      "Epoch 16/200\n",
      "243/243 [==============================] - 4s 17ms/step - loss: 0.0974 - accuracy: 0.9695\n",
      "Epoch 17/200\n",
      "243/243 [==============================] - 4s 18ms/step - loss: 0.1151 - accuracy: 0.9579\n",
      "Epoch 18/200\n",
      "243/243 [==============================] - 5s 20ms/step - loss: 0.1083 - accuracy: 0.9653\n",
      "Epoch 19/200\n",
      "243/243 [==============================] - 5s 19ms/step - loss: 0.1489 - accuracy: 0.9596\n",
      "Epoch 20/200\n",
      "243/243 [==============================] - 4s 18ms/step - loss: 0.1274 - accuracy: 0.9546\n",
      "Epoch 21/200\n",
      "243/243 [==============================] - 4s 18ms/step - loss: 0.1226 - accuracy: 0.9596\n",
      "Epoch 22/200\n",
      "243/243 [==============================] - 4s 18ms/step - loss: 0.1266 - accuracy: 0.9513\n",
      "Epoch 23/200\n",
      "243/243 [==============================] - 5s 20ms/step - loss: 0.0911 - accuracy: 0.9637\n",
      "Epoch 24/200\n",
      "243/243 [==============================] - 5s 19ms/step - loss: 0.1015 - accuracy: 0.9645\n",
      "Epoch 25/200\n",
      "243/243 [==============================] - 5s 19ms/step - loss: 0.1080 - accuracy: 0.9629\n",
      "Epoch 26/200\n",
      "243/243 [==============================] - 5s 20ms/step - loss: 0.1109 - accuracy: 0.9637\n",
      "Epoch 27/200\n",
      "243/243 [==============================] - 4s 18ms/step - loss: 0.0967 - accuracy: 0.9629\n",
      "Epoch 28/200\n",
      "243/243 [==============================] - 4s 17ms/step - loss: 0.0946 - accuracy: 0.9662\n",
      "Epoch 29/200\n",
      "243/243 [==============================] - 4s 18ms/step - loss: 0.0799 - accuracy: 0.9695\n",
      "Epoch 30/200\n",
      "243/243 [==============================] - 4s 18ms/step - loss: 0.0863 - accuracy: 0.9719\n",
      "Epoch 31/200\n",
      "243/243 [==============================] - 5s 19ms/step - loss: 0.0935 - accuracy: 0.9662\n",
      "Epoch 32/200\n",
      "243/243 [==============================] - 4s 18ms/step - loss: 0.0915 - accuracy: 0.9670\n",
      "Epoch 33/200\n",
      "243/243 [==============================] - 4s 18ms/step - loss: 0.1119 - accuracy: 0.9612\n",
      "Epoch 34/200\n",
      "243/243 [==============================] - 5s 19ms/step - loss: 0.0805 - accuracy: 0.9736\n",
      "Epoch 35/200\n",
      "243/243 [==============================] - 5s 19ms/step - loss: 0.0892 - accuracy: 0.9637\n",
      "Epoch 36/200\n",
      "243/243 [==============================] - 4s 17ms/step - loss: 0.0863 - accuracy: 0.9653\n",
      "Epoch 37/200\n",
      "243/243 [==============================] - 5s 19ms/step - loss: 0.1121 - accuracy: 0.9662\n",
      "Epoch 38/200\n",
      "243/243 [==============================] - 5s 22ms/step - loss: 0.0731 - accuracy: 0.9711\n",
      "Epoch 39/200\n",
      "243/243 [==============================] - 5s 20ms/step - loss: 0.0813 - accuracy: 0.9686\n",
      "Epoch 40/200\n",
      "243/243 [==============================] - 5s 20ms/step - loss: 0.1080 - accuracy: 0.9579\n",
      "Epoch 41/200\n",
      "243/243 [==============================] - 5s 22ms/step - loss: 0.0788 - accuracy: 0.9662\n",
      "Epoch 42/200\n",
      "243/243 [==============================] - 6s 25ms/step - loss: 0.0812 - accuracy: 0.9711\n",
      "Epoch 43/200\n",
      "243/243 [==============================] - 6s 24ms/step - loss: 0.0762 - accuracy: 0.9736\n",
      "Epoch 44/200\n",
      "243/243 [==============================] - 5s 22ms/step - loss: 0.0780 - accuracy: 0.9678\n",
      "Epoch 45/200\n",
      "243/243 [==============================] - 5s 22ms/step - loss: 0.0875 - accuracy: 0.9695\n",
      "Epoch 46/200\n",
      "243/243 [==============================] - 5s 20ms/step - loss: 0.0845 - accuracy: 0.9678\n",
      "Epoch 47/200\n",
      "243/243 [==============================] - 5s 19ms/step - loss: 0.0728 - accuracy: 0.9695\n",
      "Epoch 48/200\n",
      "243/243 [==============================] - 5s 19ms/step - loss: 0.0764 - accuracy: 0.9711\n",
      "Epoch 49/200\n",
      "243/243 [==============================] - 5s 19ms/step - loss: 0.0677 - accuracy: 0.9711\n",
      "Epoch 50/200\n",
      "243/243 [==============================] - 5s 20ms/step - loss: 0.0756 - accuracy: 0.9769\n",
      "Epoch 51/200\n",
      "243/243 [==============================] - 4s 18ms/step - loss: 0.0845 - accuracy: 0.9711\n",
      "Epoch 52/200\n",
      "243/243 [==============================] - 4s 18ms/step - loss: 0.0990 - accuracy: 0.9670\n",
      "Epoch 53/200\n",
      "243/243 [==============================] - 4s 18ms/step - loss: 0.0606 - accuracy: 0.9719\n",
      "Epoch 54/200\n",
      "243/243 [==============================] - 4s 17ms/step - loss: 0.0640 - accuracy: 0.9752\n",
      "Epoch 55/200\n",
      "243/243 [==============================] - 4s 16ms/step - loss: 0.0650 - accuracy: 0.9703\n",
      "Epoch 56/200\n",
      "243/243 [==============================] - 4s 16ms/step - loss: 0.0824 - accuracy: 0.9703\n",
      "Epoch 57/200\n",
      "243/243 [==============================] - 4s 16ms/step - loss: 0.0842 - accuracy: 0.9678\n",
      "Epoch 58/200\n",
      "243/243 [==============================] - 4s 18ms/step - loss: 0.0866 - accuracy: 0.9629\n",
      "Epoch 59/200\n",
      "243/243 [==============================] - 5s 19ms/step - loss: 0.0614 - accuracy: 0.9719\n",
      "Epoch 60/200\n",
      "243/243 [==============================] - 4s 18ms/step - loss: 0.0682 - accuracy: 0.9744\n",
      "Epoch 61/200\n",
      "243/243 [==============================] - 4s 18ms/step - loss: 0.0714 - accuracy: 0.9662\n",
      "Epoch 62/200\n",
      "243/243 [==============================] - 4s 16ms/step - loss: 0.0834 - accuracy: 0.9629\n",
      "Epoch 63/200\n",
      "243/243 [==============================] - 4s 16ms/step - loss: 0.0728 - accuracy: 0.9728\n",
      "Epoch 64/200\n",
      "243/243 [==============================] - 4s 17ms/step - loss: 0.0666 - accuracy: 0.9744\n",
      "Epoch 65/200\n",
      "243/243 [==============================] - 5s 19ms/step - loss: 0.0555 - accuracy: 0.9728\n",
      "Epoch 66/200\n",
      "243/243 [==============================] - 4s 17ms/step - loss: 0.0593 - accuracy: 0.9736\n",
      "Epoch 67/200\n",
      "243/243 [==============================] - 4s 18ms/step - loss: 0.0534 - accuracy: 0.9744\n",
      "Epoch 68/200\n",
      "243/243 [==============================] - 5s 19ms/step - loss: 0.0603 - accuracy: 0.9711\n",
      "Epoch 69/200\n",
      "243/243 [==============================] - 4s 18ms/step - loss: 0.0630 - accuracy: 0.9719\n",
      "Epoch 70/200\n",
      "243/243 [==============================] - 4s 17ms/step - loss: 0.0672 - accuracy: 0.9678\n",
      "Epoch 71/200\n",
      "243/243 [==============================] - 5s 19ms/step - loss: 0.0666 - accuracy: 0.9670\n",
      "Epoch 72/200\n",
      "243/243 [==============================] - 4s 18ms/step - loss: 0.0711 - accuracy: 0.9752\n",
      "Epoch 73/200\n",
      "243/243 [==============================] - 4s 18ms/step - loss: 0.0927 - accuracy: 0.9670\n",
      "Epoch 74/200\n",
      "243/243 [==============================] - 4s 17ms/step - loss: 0.0751 - accuracy: 0.9752\n",
      "Epoch 75/200\n",
      "243/243 [==============================] - 4s 18ms/step - loss: 0.0672 - accuracy: 0.9744\n",
      "Epoch 76/200\n",
      "243/243 [==============================] - 5s 19ms/step - loss: 0.0695 - accuracy: 0.9744\n",
      "Epoch 77/200\n",
      "243/243 [==============================] - 5s 21ms/step - loss: 0.0628 - accuracy: 0.9719\n",
      "Epoch 78/200\n",
      "243/243 [==============================] - 4s 17ms/step - loss: 0.0714 - accuracy: 0.9719\n",
      "Epoch 79/200\n",
      "243/243 [==============================] - 4s 17ms/step - loss: 0.0655 - accuracy: 0.9728\n",
      "Epoch 80/200\n"
     ]
    },
    {
     "name": "stdout",
     "output_type": "stream",
     "text": [
      "243/243 [==============================] - 5s 19ms/step - loss: 0.0596 - accuracy: 0.9744\n",
      "Epoch 81/200\n",
      "243/243 [==============================] - 5s 20ms/step - loss: 0.0640 - accuracy: 0.9703\n",
      "Epoch 82/200\n",
      "243/243 [==============================] - 4s 17ms/step - loss: 0.0617 - accuracy: 0.9752\n",
      "Epoch 83/200\n",
      "243/243 [==============================] - 4s 18ms/step - loss: 0.0663 - accuracy: 0.9711\n",
      "Epoch 84/200\n",
      "243/243 [==============================] - 5s 20ms/step - loss: 0.0743 - accuracy: 0.9662\n",
      "Epoch 85/200\n",
      "243/243 [==============================] - 4s 18ms/step - loss: 0.0622 - accuracy: 0.9752\n",
      "Epoch 86/200\n",
      "243/243 [==============================] - 4s 16ms/step - loss: 0.0866 - accuracy: 0.9744\n",
      "Epoch 87/200\n",
      "243/243 [==============================] - 4s 17ms/step - loss: 0.0653 - accuracy: 0.9711\n",
      "Epoch 88/200\n",
      "243/243 [==============================] - 4s 17ms/step - loss: 0.0583 - accuracy: 0.9711\n",
      "Epoch 89/200\n",
      "243/243 [==============================] - 5s 19ms/step - loss: 0.0503 - accuracy: 0.9794\n",
      "Epoch 90/200\n",
      "243/243 [==============================] - 4s 17ms/step - loss: 0.0606 - accuracy: 0.9736\n",
      "Epoch 91/200\n",
      "243/243 [==============================] - 4s 16ms/step - loss: 0.0749 - accuracy: 0.9645\n",
      "Epoch 92/200\n",
      "243/243 [==============================] - 4s 18ms/step - loss: 0.0634 - accuracy: 0.9711\n",
      "Epoch 93/200\n",
      "243/243 [==============================] - 4s 18ms/step - loss: 0.0692 - accuracy: 0.9719\n",
      "Epoch 94/200\n",
      "243/243 [==============================] - 4s 17ms/step - loss: 0.0703 - accuracy: 0.9678\n",
      "Epoch 95/200\n",
      "243/243 [==============================] - 4s 17ms/step - loss: 0.0669 - accuracy: 0.9678\n",
      "Epoch 96/200\n",
      "243/243 [==============================] - 5s 20ms/step - loss: 0.0808 - accuracy: 0.9703\n",
      "Epoch 97/200\n",
      "243/243 [==============================] - 5s 19ms/step - loss: 0.0557 - accuracy: 0.9752\n",
      "Epoch 98/200\n",
      "243/243 [==============================] - 4s 18ms/step - loss: 0.0495 - accuracy: 0.9744\n",
      "Epoch 99/200\n",
      "243/243 [==============================] - 4s 17ms/step - loss: 0.0633 - accuracy: 0.9719\n",
      "Epoch 100/200\n",
      "243/243 [==============================] - 4s 17ms/step - loss: 0.0595 - accuracy: 0.9736\n",
      "Epoch 101/200\n",
      "243/243 [==============================] - 4s 18ms/step - loss: 0.0579 - accuracy: 0.9711\n",
      "Epoch 102/200\n",
      "243/243 [==============================] - 4s 17ms/step - loss: 0.0566 - accuracy: 0.9719\n",
      "Epoch 103/200\n",
      "243/243 [==============================] - 4s 17ms/step - loss: 0.0622 - accuracy: 0.9686\n",
      "Epoch 104/200\n",
      "243/243 [==============================] - 4s 18ms/step - loss: 0.0552 - accuracy: 0.9752\n",
      "Epoch 105/200\n",
      "243/243 [==============================] - 5s 19ms/step - loss: 0.0542 - accuracy: 0.9719\n",
      "Epoch 106/200\n",
      "243/243 [==============================] - 5s 19ms/step - loss: 0.0441 - accuracy: 0.9761\n",
      "Epoch 107/200\n",
      "243/243 [==============================] - 5s 22ms/step - loss: 0.0569 - accuracy: 0.9728\n",
      "Epoch 108/200\n",
      "243/243 [==============================] - 5s 22ms/step - loss: 0.0492 - accuracy: 0.9736\n",
      "Epoch 109/200\n",
      "243/243 [==============================] - 5s 21ms/step - loss: 0.0562 - accuracy: 0.9703\n",
      "Epoch 110/200\n",
      "243/243 [==============================] - 5s 20ms/step - loss: 0.0531 - accuracy: 0.9736\n",
      "Epoch 111/200\n",
      "243/243 [==============================] - 5s 20ms/step - loss: 0.0742 - accuracy: 0.9719\n",
      "Epoch 112/200\n",
      "243/243 [==============================] - 5s 20ms/step - loss: 0.0696 - accuracy: 0.9752\n",
      "Epoch 113/200\n",
      "243/243 [==============================] - 4s 18ms/step - loss: 0.0552 - accuracy: 0.9736\n",
      "Epoch 114/200\n",
      "243/243 [==============================] - 4s 17ms/step - loss: 0.0686 - accuracy: 0.9719\n",
      "Epoch 115/200\n",
      "243/243 [==============================] - 4s 16ms/step - loss: 0.0587 - accuracy: 0.9695\n",
      "Epoch 116/200\n",
      "243/243 [==============================] - 4s 17ms/step - loss: 0.0594 - accuracy: 0.9686\n",
      "Epoch 117/200\n",
      "243/243 [==============================] - 4s 16ms/step - loss: 0.0573 - accuracy: 0.9711\n",
      "Epoch 118/200\n",
      "243/243 [==============================] - 4s 17ms/step - loss: 0.0566 - accuracy: 0.9728\n",
      "Epoch 119/200\n",
      "243/243 [==============================] - 4s 17ms/step - loss: 0.0551 - accuracy: 0.9736\n",
      "Epoch 120/200\n",
      "243/243 [==============================] - 4s 15ms/step - loss: 0.0506 - accuracy: 0.9736\n",
      "Epoch 121/200\n",
      "243/243 [==============================] - 4s 15ms/step - loss: 0.0561 - accuracy: 0.9728\n",
      "Epoch 122/200\n",
      "243/243 [==============================] - 4s 15ms/step - loss: 0.0594 - accuracy: 0.9711\n",
      "Epoch 123/200\n",
      "243/243 [==============================] - 4s 16ms/step - loss: 0.0704 - accuracy: 0.9695\n",
      "Epoch 124/200\n",
      "243/243 [==============================] - 4s 16ms/step - loss: 0.0639 - accuracy: 0.9769\n",
      "Epoch 125/200\n",
      "243/243 [==============================] - 4s 15ms/step - loss: 0.0599 - accuracy: 0.9736\n",
      "Epoch 126/200\n",
      "243/243 [==============================] - 4s 15ms/step - loss: 0.0485 - accuracy: 0.9769\n",
      "Epoch 127/200\n",
      "243/243 [==============================] - 4s 16ms/step - loss: 0.0713 - accuracy: 0.9769\n",
      "Epoch 128/200\n",
      "243/243 [==============================] - 4s 16ms/step - loss: 0.0845 - accuracy: 0.9744\n",
      "Epoch 129/200\n",
      "243/243 [==============================] - 4s 15ms/step - loss: 0.0652 - accuracy: 0.9686\n",
      "Epoch 130/200\n",
      "243/243 [==============================] - 4s 15ms/step - loss: 0.0680 - accuracy: 0.9695\n",
      "Epoch 131/200\n",
      "243/243 [==============================] - 4s 15ms/step - loss: 0.0626 - accuracy: 0.9695\n",
      "Epoch 132/200\n",
      "243/243 [==============================] - 4s 15ms/step - loss: 0.0660 - accuracy: 0.9719\n",
      "Epoch 133/200\n",
      "243/243 [==============================] - 4s 15ms/step - loss: 0.0611 - accuracy: 0.9695\n",
      "Epoch 134/200\n",
      "243/243 [==============================] - 4s 15ms/step - loss: 0.0691 - accuracy: 0.9719\n",
      "Epoch 135/200\n",
      "243/243 [==============================] - 4s 15ms/step - loss: 0.0717 - accuracy: 0.9711\n",
      "Epoch 136/200\n",
      "243/243 [==============================] - 4s 16ms/step - loss: 0.0738 - accuracy: 0.9769\n",
      "Epoch 137/200\n",
      "243/243 [==============================] - 4s 15ms/step - loss: 0.0672 - accuracy: 0.9695\n",
      "Epoch 138/200\n",
      "243/243 [==============================] - 4s 15ms/step - loss: 0.1168 - accuracy: 0.9653\n",
      "Epoch 139/200\n",
      "243/243 [==============================] - 4s 15ms/step - loss: 0.1580 - accuracy: 0.9571\n",
      "Epoch 140/200\n",
      "243/243 [==============================] - 4s 16ms/step - loss: 0.0790 - accuracy: 0.9629\n",
      "Epoch 141/200\n",
      "243/243 [==============================] - 4s 15ms/step - loss: 0.0950 - accuracy: 0.9637\n",
      "Epoch 142/200\n",
      "243/243 [==============================] - 4s 16ms/step - loss: 0.0699 - accuracy: 0.9678\n",
      "Epoch 143/200\n",
      "243/243 [==============================] - 4s 16ms/step - loss: 0.0634 - accuracy: 0.9752\n",
      "Epoch 144/200\n",
      "243/243 [==============================] - 4s 15ms/step - loss: 0.0675 - accuracy: 0.9670\n",
      "Epoch 145/200\n",
      "243/243 [==============================] - 4s 16ms/step - loss: 0.0737 - accuracy: 0.9678\n",
      "Epoch 146/200\n",
      "243/243 [==============================] - 4s 15ms/step - loss: 0.0659 - accuracy: 0.9728\n",
      "Epoch 147/200\n",
      "243/243 [==============================] - 4s 16ms/step - loss: 0.0707 - accuracy: 0.9670\n",
      "Epoch 148/200\n",
      "243/243 [==============================] - 4s 15ms/step - loss: 0.0619 - accuracy: 0.9752\n",
      "Epoch 149/200\n",
      "243/243 [==============================] - 4s 16ms/step - loss: 0.0726 - accuracy: 0.9645\n",
      "Epoch 150/200\n",
      "243/243 [==============================] - 4s 15ms/step - loss: 0.0625 - accuracy: 0.9711\n",
      "Epoch 151/200\n",
      "243/243 [==============================] - 4s 15ms/step - loss: 0.0650 - accuracy: 0.9711\n",
      "Epoch 152/200\n",
      "243/243 [==============================] - 4s 15ms/step - loss: 0.0882 - accuracy: 0.9604\n",
      "Epoch 153/200\n",
      "243/243 [==============================] - 4s 15ms/step - loss: 0.0653 - accuracy: 0.9736\n",
      "Epoch 154/200\n",
      "243/243 [==============================] - 4s 15ms/step - loss: 0.0625 - accuracy: 0.9711\n",
      "Epoch 155/200\n",
      "243/243 [==============================] - 4s 16ms/step - loss: 0.0829 - accuracy: 0.9662\n",
      "Epoch 156/200\n",
      "243/243 [==============================] - 4s 17ms/step - loss: 0.0693 - accuracy: 0.9670\n",
      "Epoch 157/200\n",
      "243/243 [==============================] - 4s 17ms/step - loss: 0.0688 - accuracy: 0.9678\n",
      "Epoch 158/200\n",
      "243/243 [==============================] - 4s 16ms/step - loss: 0.0544 - accuracy: 0.9736\n",
      "Epoch 159/200\n"
     ]
    },
    {
     "name": "stdout",
     "output_type": "stream",
     "text": [
      "243/243 [==============================] - 4s 15ms/step - loss: 0.0504 - accuracy: 0.9736\n",
      "Epoch 160/200\n",
      "243/243 [==============================] - 4s 15ms/step - loss: 0.0689 - accuracy: 0.9711\n",
      "Epoch 161/200\n",
      "243/243 [==============================] - 4s 15ms/step - loss: 0.0520 - accuracy: 0.9777\n",
      "Epoch 162/200\n",
      "243/243 [==============================] - 4s 15ms/step - loss: 0.0487 - accuracy: 0.9761\n",
      "Epoch 163/200\n",
      "243/243 [==============================] - 4s 16ms/step - loss: 0.0694 - accuracy: 0.9711\n",
      "Epoch 164/200\n",
      "243/243 [==============================] - 4s 18ms/step - loss: 0.0547 - accuracy: 0.9769\n",
      "Epoch 165/200\n",
      "243/243 [==============================] - 4s 16ms/step - loss: 0.0690 - accuracy: 0.9719\n",
      "Epoch 166/200\n",
      "243/243 [==============================] - 4s 16ms/step - loss: 0.0647 - accuracy: 0.9728\n",
      "Epoch 167/200\n",
      "243/243 [==============================] - 4s 15ms/step - loss: 0.0561 - accuracy: 0.9769\n",
      "Epoch 168/200\n",
      "243/243 [==============================] - 4s 15ms/step - loss: 0.0571 - accuracy: 0.9761\n",
      "Epoch 169/200\n",
      "243/243 [==============================] - 4s 17ms/step - loss: 0.0484 - accuracy: 0.9810\n",
      "Epoch 170/200\n",
      "243/243 [==============================] - 4s 16ms/step - loss: 0.0563 - accuracy: 0.9761\n",
      "Epoch 171/200\n",
      "243/243 [==============================] - 4s 15ms/step - loss: 0.0622 - accuracy: 0.9752\n",
      "Epoch 172/200\n",
      "243/243 [==============================] - 4s 15ms/step - loss: 0.0682 - accuracy: 0.9744\n",
      "Epoch 173/200\n",
      "243/243 [==============================] - 4s 16ms/step - loss: 0.0599 - accuracy: 0.9794\n",
      "Epoch 174/200\n",
      "243/243 [==============================] - 4s 16ms/step - loss: 0.0605 - accuracy: 0.9736\n",
      "Epoch 175/200\n",
      "243/243 [==============================] - 4s 15ms/step - loss: 0.0551 - accuracy: 0.9728\n",
      "Epoch 176/200\n",
      "243/243 [==============================] - 4s 16ms/step - loss: 0.0535 - accuracy: 0.9777\n",
      "Epoch 177/200\n",
      "243/243 [==============================] - 4s 15ms/step - loss: 0.0701 - accuracy: 0.9719\n",
      "Epoch 178/200\n",
      "243/243 [==============================] - 4s 16ms/step - loss: 0.0752 - accuracy: 0.9645\n",
      "Epoch 179/200\n",
      "243/243 [==============================] - 4s 15ms/step - loss: 0.0545 - accuracy: 0.9785\n",
      "Epoch 180/200\n",
      "243/243 [==============================] - 4s 15ms/step - loss: 0.0680 - accuracy: 0.9703\n",
      "Epoch 181/200\n",
      "243/243 [==============================] - 4s 16ms/step - loss: 0.0585 - accuracy: 0.9744\n",
      "Epoch 182/200\n",
      "243/243 [==============================] - 4s 16ms/step - loss: 0.0601 - accuracy: 0.9719\n",
      "Epoch 183/200\n",
      "243/243 [==============================] - 4s 16ms/step - loss: 0.0720 - accuracy: 0.9728\n",
      "Epoch 184/200\n",
      "243/243 [==============================] - 4s 16ms/step - loss: 0.0710 - accuracy: 0.9711\n",
      "Epoch 185/200\n",
      "243/243 [==============================] - 4s 16ms/step - loss: 0.0711 - accuracy: 0.9728\n",
      "Epoch 186/200\n",
      "243/243 [==============================] - 4s 16ms/step - loss: 0.0544 - accuracy: 0.9761\n",
      "Epoch 187/200\n",
      "243/243 [==============================] - 4s 16ms/step - loss: 0.0815 - accuracy: 0.9719\n",
      "Epoch 188/200\n",
      "243/243 [==============================] - 4s 16ms/step - loss: 0.0755 - accuracy: 0.9719\n",
      "Epoch 189/200\n",
      "243/243 [==============================] - 4s 16ms/step - loss: 0.0624 - accuracy: 0.9761\n",
      "Epoch 190/200\n",
      "243/243 [==============================] - 4s 15ms/step - loss: 0.0704 - accuracy: 0.9686\n",
      "Epoch 191/200\n",
      "243/243 [==============================] - 4s 16ms/step - loss: 0.0687 - accuracy: 0.9736\n",
      "Epoch 192/200\n",
      "243/243 [==============================] - 4s 15ms/step - loss: 0.0767 - accuracy: 0.9653\n",
      "Epoch 193/200\n",
      "243/243 [==============================] - 4s 16ms/step - loss: 0.0786 - accuracy: 0.9604\n",
      "Epoch 194/200\n",
      "243/243 [==============================] - 4s 18ms/step - loss: 0.0615 - accuracy: 0.9728\n",
      "Epoch 195/200\n",
      "243/243 [==============================] - 4s 16ms/step - loss: 0.0651 - accuracy: 0.9728\n",
      "Epoch 196/200\n",
      "243/243 [==============================] - 4s 17ms/step - loss: 0.0648 - accuracy: 0.9645\n",
      "Epoch 197/200\n",
      "243/243 [==============================] - 5s 19ms/step - loss: 0.0689 - accuracy: 0.9653\n",
      "Epoch 198/200\n",
      "243/243 [==============================] - 4s 17ms/step - loss: 0.0585 - accuracy: 0.9686\n",
      "Epoch 199/200\n",
      "243/243 [==============================] - 4s 17ms/step - loss: 0.0592 - accuracy: 0.9703\n",
      "Epoch 200/200\n",
      "243/243 [==============================] - 4s 17ms/step - loss: 0.0659 - accuracy: 0.9678\n",
      "Done\n"
     ]
    }
   ],
   "source": [
    "model = tf.keras.Sequential()\n",
    "model.add(tf.keras.layers.Dense(128, input_shape=(len(trainX[0]),), activation = 'relu'))\n",
    "model.add(tf.keras.layers.Dropout(0.5))\n",
    "model.add(tf.keras.layers.Dense(64, activation = 'relu'))\n",
    "model.add(tf.keras.layers.Dropout(0.5))\n",
    "model.add(tf.keras.layers.Dense(len(trainY[0]), activation='softmax'))\n",
    "\n",
    "sgd = tf.keras.optimizers.SGD(learning_rate=0.01, momentum=0.9, nesterov=True)\n",
    "model.compile(loss='categorical_crossentropy', optimizer=sgd, metrics=['accuracy'])\n",
    "\n",
    "model.fit(trainX, trainY, epochs=200, batch_size=5, verbose=1)\n",
    "model.save('email_model.h5')\n",
    "print('Done')"
   ]
  },
  {
   "cell_type": "markdown",
   "id": "5b247245",
   "metadata": {},
   "source": [
    "After examining the Accuracy and Loss from the model above I decided by reduce the Epoch's to 35, as this seems to be where the accuracy peaked."
   ]
  },
  {
   "cell_type": "code",
   "execution_count": 74,
   "id": "a5de3904",
   "metadata": {},
   "outputs": [
    {
     "name": "stdout",
     "output_type": "stream",
     "text": [
      "Epoch 1/35\n",
      "243/243 [==============================] - 6s 20ms/step - loss: 0.9717 - accuracy: 0.7203\n",
      "Epoch 2/35\n",
      "243/243 [==============================] - 5s 20ms/step - loss: 0.6747 - accuracy: 0.7789\n",
      "Epoch 3/35\n",
      "243/243 [==============================] - 4s 18ms/step - loss: 0.5586 - accuracy: 0.8366\n",
      "Epoch 4/35\n",
      "243/243 [==============================] - 4s 18ms/step - loss: 0.4697 - accuracy: 0.8366\n",
      "Epoch 5/35\n",
      "243/243 [==============================] - 4s 16ms/step - loss: 0.3900 - accuracy: 0.8828\n",
      "Epoch 6/35\n",
      "243/243 [==============================] - 4s 18ms/step - loss: 0.3474 - accuracy: 0.9018\n",
      "Epoch 7/35\n",
      "243/243 [==============================] - 4s 17ms/step - loss: 0.3511 - accuracy: 0.8960\n",
      "Epoch 8/35\n",
      "243/243 [==============================] - 4s 17ms/step - loss: 0.2708 - accuracy: 0.9167\n",
      "Epoch 9/35\n",
      "243/243 [==============================] - 4s 17ms/step - loss: 0.2486 - accuracy: 0.9191\n",
      "Epoch 10/35\n",
      "243/243 [==============================] - 5s 22ms/step - loss: 0.2517 - accuracy: 0.9216\n",
      "Epoch 11/35\n",
      "243/243 [==============================] - 4s 16ms/step - loss: 0.1957 - accuracy: 0.9422\n",
      "Epoch 12/35\n",
      "243/243 [==============================] - 4s 15ms/step - loss: 0.1817 - accuracy: 0.9414\n",
      "Epoch 13/35\n",
      "243/243 [==============================] - 4s 16ms/step - loss: 0.1714 - accuracy: 0.9521\n",
      "Epoch 14/35\n",
      "243/243 [==============================] - 4s 16ms/step - loss: 0.2045 - accuracy: 0.9455\n",
      "Epoch 15/35\n",
      "243/243 [==============================] - 4s 16ms/step - loss: 0.1789 - accuracy: 0.9455\n",
      "Epoch 16/35\n",
      "243/243 [==============================] - 4s 16ms/step - loss: 0.1737 - accuracy: 0.9406\n",
      "Epoch 17/35\n",
      "243/243 [==============================] - 4s 16ms/step - loss: 0.1526 - accuracy: 0.9521\n",
      "Epoch 18/35\n",
      "243/243 [==============================] - 4s 16ms/step - loss: 0.1805 - accuracy: 0.9323\n",
      "Epoch 19/35\n",
      "243/243 [==============================] - 4s 15ms/step - loss: 0.1501 - accuracy: 0.9480\n",
      "Epoch 20/35\n",
      "243/243 [==============================] - 4s 15ms/step - loss: 0.1790 - accuracy: 0.9398\n",
      "Epoch 21/35\n",
      "243/243 [==============================] - 4s 15ms/step - loss: 0.1503 - accuracy: 0.9554\n",
      "Epoch 22/35\n",
      "243/243 [==============================] - 4s 16ms/step - loss: 0.1494 - accuracy: 0.9422\n",
      "Epoch 23/35\n",
      "243/243 [==============================] - 4s 16ms/step - loss: 0.1405 - accuracy: 0.9480\n",
      "Epoch 24/35\n",
      "243/243 [==============================] - 4s 16ms/step - loss: 0.1296 - accuracy: 0.9431\n",
      "Epoch 25/35\n",
      "243/243 [==============================] - 4s 16ms/step - loss: 0.1396 - accuracy: 0.9480\n",
      "Epoch 26/35\n",
      "243/243 [==============================] - 4s 17ms/step - loss: 0.1317 - accuracy: 0.9513\n",
      "Epoch 27/35\n",
      "243/243 [==============================] - 4s 15ms/step - loss: 0.1361 - accuracy: 0.9480\n",
      "Epoch 28/35\n",
      "243/243 [==============================] - 4s 16ms/step - loss: 0.0896 - accuracy: 0.9678\n",
      "Epoch 29/35\n",
      "243/243 [==============================] - 4s 15ms/step - loss: 0.1260 - accuracy: 0.9439\n",
      "Epoch 30/35\n",
      "243/243 [==============================] - 4s 17ms/step - loss: 0.1033 - accuracy: 0.9620\n",
      "Epoch 31/35\n",
      "243/243 [==============================] - 4s 15ms/step - loss: 0.1068 - accuracy: 0.9596\n",
      "Epoch 32/35\n",
      "243/243 [==============================] - 4s 15ms/step - loss: 0.1065 - accuracy: 0.9612\n",
      "Epoch 33/35\n",
      "243/243 [==============================] - 4s 16ms/step - loss: 0.1131 - accuracy: 0.9571\n",
      "Epoch 34/35\n",
      "243/243 [==============================] - 4s 16ms/step - loss: 0.0998 - accuracy: 0.9604\n",
      "Epoch 35/35\n",
      "243/243 [==============================] - 4s 16ms/step - loss: 0.0829 - accuracy: 0.9653\n",
      "Done\n"
     ]
    }
   ],
   "source": [
    "model = tf.keras.Sequential()\n",
    "model.add(tf.keras.layers.Dense(128, input_shape=(len(trainX[0]),), activation = 'relu'))\n",
    "model.add(tf.keras.layers.Dropout(0.5))\n",
    "model.add(tf.keras.layers.Dense(64, activation = 'relu'))\n",
    "model.add(tf.keras.layers.Dropout(0.5))\n",
    "model.add(tf.keras.layers.Dense(len(trainY[0]), activation='softmax'))\n",
    "\n",
    "sgd = tf.keras.optimizers.SGD(learning_rate=0.01, momentum=0.9, nesterov=True)\n",
    "model.compile(loss='categorical_crossentropy', optimizer=sgd, metrics=['accuracy'])\n",
    "\n",
    "model.fit(trainX, trainY, epochs=35, batch_size=5, verbose=1)\n",
    "model.save('email_model_2.h5')\n",
    "\n",
    "print('Done')"
   ]
  },
  {
   "cell_type": "markdown",
   "id": "bb5f63ee",
   "metadata": {},
   "source": [
    "To test the model, I used some of the functions defined by NeuralNine, 2020 to predict the class of each message in the test set. Using these functions, I could feed each email message in as text and create a dataframe with the predicted class and probability. I then compared the results to the original target."
   ]
  },
  {
   "cell_type": "code",
   "execution_count": 75,
   "id": "e340b21c",
   "metadata": {},
   "outputs": [],
   "source": [
    "#Functions taken from NeuralNine, 2020.\n",
    "def clean_up_sentence(sentence):\n",
    "    sentence_words = nltk.word_tokenize(sentence)\n",
    "    sentence_words = [lemmatizer.lemmatize(word) for word in sentence_words]\n",
    "    return sentence_words\n",
    "\n",
    "def bag_of_words(sentence):\n",
    "    sentence_words = clean_up_sentence(sentence)\n",
    "    bag = [0]*len(words)\n",
    "    for w in sentence_words:\n",
    "        for i, word in enumerate(words):\n",
    "            if word == w:\n",
    "                bag[i] = 1\n",
    "    return np.array(bag)"
   ]
  },
  {
   "cell_type": "code",
   "execution_count": 76,
   "id": "5dddb945",
   "metadata": {},
   "outputs": [],
   "source": [
    "#Function taken from NeuralNine, 2020.\n",
    "#'intent' is the equivalent of the predicted class.\n",
    "def predict_class(sentence):\n",
    "    bow = bag_of_words(sentence)\n",
    "    res = model.predict(np.array([bow]))[0]\n",
    "    ERROR_THRESHOLD = 0.25\n",
    "    result = [[i,r] for i, r in enumerate(res) if r> ERROR_THRESHOLD]\n",
    "    \n",
    "    result.sort(key=lambda x:x[1], reverse = True)\n",
    "    return_list = []\n",
    "    return_list.append({'intent':classes[result[0][0]],'probability':str(result[0][1])})\n",
    "    return return_list"
   ]
  },
  {
   "cell_type": "code",
   "execution_count": 77,
   "id": "c22b18e3",
   "metadata": {},
   "outputs": [
    {
     "name": "stdout",
     "output_type": "stream",
     "text": [
      "1/1 [==============================] - 0s 145ms/step\n",
      "1/1 [==============================] - 0s 48ms/step\n",
      "1/1 [==============================] - 0s 44ms/step\n",
      "1/1 [==============================] - 0s 28ms/step\n",
      "1/1 [==============================] - 0s 42ms/step\n",
      "1/1 [==============================] - 0s 26ms/step\n",
      "1/1 [==============================] - 0s 34ms/step\n",
      "1/1 [==============================] - 0s 38ms/step\n",
      "1/1 [==============================] - 0s 37ms/step\n",
      "1/1 [==============================] - 0s 34ms/step\n",
      "1/1 [==============================] - 0s 25ms/step\n",
      "1/1 [==============================] - 0s 41ms/step\n",
      "1/1 [==============================] - 0s 32ms/step\n",
      "1/1 [==============================] - 0s 29ms/step\n",
      "1/1 [==============================] - 0s 42ms/step\n",
      "1/1 [==============================] - 0s 25ms/step\n",
      "1/1 [==============================] - 0s 29ms/step\n",
      "1/1 [==============================] - 0s 34ms/step\n",
      "1/1 [==============================] - 0s 24ms/step\n",
      "1/1 [==============================] - 0s 36ms/step\n",
      "1/1 [==============================] - 0s 31ms/step\n",
      "1/1 [==============================] - 0s 18ms/step\n",
      "1/1 [==============================] - 0s 31ms/step\n",
      "1/1 [==============================] - 0s 16ms/step\n",
      "1/1 [==============================] - 0s 38ms/step\n",
      "1/1 [==============================] - 0s 31ms/step\n",
      "1/1 [==============================] - 0s 34ms/step\n",
      "1/1 [==============================] - 0s 29ms/step\n",
      "1/1 [==============================] - 0s 43ms/step\n",
      "1/1 [==============================] - 0s 44ms/step\n",
      "1/1 [==============================] - 0s 31ms/step\n",
      "1/1 [==============================] - 0s 32ms/step\n",
      "1/1 [==============================] - 0s 33ms/step\n",
      "1/1 [==============================] - 0s 24ms/step\n",
      "1/1 [==============================] - 0s 28ms/step\n",
      "1/1 [==============================] - 0s 24ms/step\n",
      "1/1 [==============================] - 0s 14ms/step\n",
      "1/1 [==============================] - 0s 24ms/step\n",
      "1/1 [==============================] - 0s 17ms/step\n",
      "1/1 [==============================] - 0s 44ms/step\n",
      "1/1 [==============================] - 0s 32ms/step\n",
      "1/1 [==============================] - 0s 26ms/step\n",
      "1/1 [==============================] - 0s 26ms/step\n",
      "1/1 [==============================] - 0s 28ms/step\n",
      "1/1 [==============================] - 0s 28ms/step\n",
      "1/1 [==============================] - 0s 32ms/step\n",
      "1/1 [==============================] - 0s 30ms/step\n",
      "1/1 [==============================] - 0s 27ms/step\n",
      "1/1 [==============================] - 0s 34ms/step\n",
      "1/1 [==============================] - 0s 16ms/step\n",
      "1/1 [==============================] - 0s 38ms/step\n",
      "1/1 [==============================] - 0s 32ms/step\n",
      "1/1 [==============================] - 0s 27ms/step\n",
      "1/1 [==============================] - 0s 33ms/step\n",
      "1/1 [==============================] - 0s 31ms/step\n",
      "1/1 [==============================] - 0s 27ms/step\n",
      "1/1 [==============================] - 0s 29ms/step\n",
      "1/1 [==============================] - 0s 28ms/step\n",
      "1/1 [==============================] - 0s 17ms/step\n",
      "1/1 [==============================] - 0s 18ms/step\n",
      "1/1 [==============================] - 0s 41ms/step\n",
      "1/1 [==============================] - 0s 33ms/step\n",
      "1/1 [==============================] - 0s 33ms/step\n",
      "1/1 [==============================] - 0s 30ms/step\n",
      "1/1 [==============================] - 0s 27ms/step\n",
      "1/1 [==============================] - 0s 31ms/step\n",
      "1/1 [==============================] - 0s 29ms/step\n",
      "1/1 [==============================] - 0s 16ms/step\n",
      "1/1 [==============================] - 0s 39ms/step\n",
      "1/1 [==============================] - 0s 13ms/step\n",
      "1/1 [==============================] - 0s 34ms/step\n",
      "1/1 [==============================] - 0s 35ms/step\n",
      "1/1 [==============================] - 0s 16ms/step\n",
      "1/1 [==============================] - 0s 16ms/step\n",
      "1/1 [==============================] - 0s 22ms/step\n",
      "1/1 [==============================] - 0s 20ms/step\n",
      "1/1 [==============================] - 0s 15ms/step\n",
      "1/1 [==============================] - 0s 16ms/step\n",
      "1/1 [==============================] - 0s 18ms/step\n",
      "1/1 [==============================] - 0s 26ms/step\n",
      "1/1 [==============================] - 0s 33ms/step\n",
      "1/1 [==============================] - 0s 33ms/step\n",
      "1/1 [==============================] - 0s 35ms/step\n",
      "1/1 [==============================] - 0s 32ms/step\n",
      "1/1 [==============================] - 0s 31ms/step\n",
      "1/1 [==============================] - 0s 37ms/step\n",
      "1/1 [==============================] - 0s 33ms/step\n",
      "1/1 [==============================] - 0s 18ms/step\n",
      "1/1 [==============================] - 0s 31ms/step\n",
      "1/1 [==============================] - 0s 16ms/step\n",
      "1/1 [==============================] - 0s 19ms/step\n",
      "1/1 [==============================] - 0s 27ms/step\n",
      "1/1 [==============================] - 0s 37ms/step\n",
      "1/1 [==============================] - 0s 33ms/step\n",
      "1/1 [==============================] - 0s 20ms/step\n",
      "1/1 [==============================] - 0s 20ms/step\n",
      "1/1 [==============================] - 0s 22ms/step\n",
      "1/1 [==============================] - 0s 15ms/step\n",
      "1/1 [==============================] - 0s 20ms/step\n",
      "1/1 [==============================] - 0s 32ms/step\n",
      "1/1 [==============================] - 0s 33ms/step\n",
      "1/1 [==============================] - 0s 30ms/step\n",
      "1/1 [==============================] - 0s 37ms/step\n",
      "1/1 [==============================] - 0s 18ms/step\n",
      "1/1 [==============================] - 0s 18ms/step\n",
      "1/1 [==============================] - 0s 31ms/step\n",
      "1/1 [==============================] - 0s 31ms/step\n",
      "1/1 [==============================] - 0s 28ms/step\n",
      "1/1 [==============================] - 0s 32ms/step\n",
      "1/1 [==============================] - 0s 33ms/step\n",
      "1/1 [==============================] - 0s 33ms/step\n",
      "1/1 [==============================] - 0s 31ms/step\n",
      "1/1 [==============================] - 0s 21ms/step\n",
      "1/1 [==============================] - 0s 16ms/step\n",
      "1/1 [==============================] - 0s 13ms/step\n",
      "1/1 [==============================] - 0s 32ms/step\n",
      "1/1 [==============================] - 0s 24ms/step\n",
      "1/1 [==============================] - 0s 17ms/step\n",
      "1/1 [==============================] - 0s 16ms/step\n",
      "1/1 [==============================] - 0s 33ms/step\n",
      "1/1 [==============================] - 0s 33ms/step\n",
      "1/1 [==============================] - 0s 18ms/step\n",
      "1/1 [==============================] - 0s 35ms/step\n",
      "1/1 [==============================] - 0s 21ms/step\n",
      "1/1 [==============================] - 0s 16ms/step\n",
      "1/1 [==============================] - 0s 32ms/step\n",
      "1/1 [==============================] - 0s 17ms/step\n",
      "1/1 [==============================] - 0s 25ms/step\n",
      "1/1 [==============================] - 0s 39ms/step\n",
      "1/1 [==============================] - 0s 40ms/step\n",
      "1/1 [==============================] - 0s 41ms/step\n",
      "1/1 [==============================] - 0s 42ms/step\n",
      "1/1 [==============================] - 0s 32ms/step\n",
      "1/1 [==============================] - 0s 29ms/step\n",
      "1/1 [==============================] - 0s 29ms/step\n",
      "1/1 [==============================] - 0s 29ms/step\n",
      "1/1 [==============================] - 0s 26ms/step\n",
      "1/1 [==============================] - 0s 28ms/step\n",
      "1/1 [==============================] - 0s 27ms/step\n",
      "1/1 [==============================] - 0s 30ms/step\n",
      "1/1 [==============================] - 0s 17ms/step\n",
      "1/1 [==============================] - 0s 31ms/step\n",
      "1/1 [==============================] - 0s 31ms/step\n",
      "1/1 [==============================] - 0s 19ms/step\n",
      "1/1 [==============================] - 0s 36ms/step\n",
      "1/1 [==============================] - 0s 32ms/step\n",
      "1/1 [==============================] - 0s 31ms/step\n",
      "1/1 [==============================] - 0s 18ms/step\n",
      "1/1 [==============================] - 0s 38ms/step\n",
      "1/1 [==============================] - 0s 18ms/step\n",
      "1/1 [==============================] - 0s 16ms/step\n",
      "1/1 [==============================] - 0s 16ms/step\n",
      "1/1 [==============================] - 0s 35ms/step\n",
      "1/1 [==============================] - 0s 17ms/step\n",
      "1/1 [==============================] - 0s 33ms/step\n",
      "1/1 [==============================] - 0s 41ms/step\n",
      "1/1 [==============================] - 0s 29ms/step\n"
     ]
    },
    {
     "name": "stdout",
     "output_type": "stream",
     "text": [
      "1/1 [==============================] - 0s 16ms/step\n",
      "1/1 [==============================] - 0s 31ms/step\n",
      "1/1 [==============================] - 0s 17ms/step\n",
      "1/1 [==============================] - 0s 31ms/step\n",
      "1/1 [==============================] - 0s 33ms/step\n",
      "1/1 [==============================] - 0s 32ms/step\n",
      "1/1 [==============================] - 0s 17ms/step\n",
      "1/1 [==============================] - 0s 25ms/step\n",
      "1/1 [==============================] - 0s 25ms/step\n",
      "1/1 [==============================] - 0s 25ms/step\n",
      "1/1 [==============================] - 0s 17ms/step\n",
      "1/1 [==============================] - 0s 34ms/step\n",
      "1/1 [==============================] - 0s 27ms/step\n",
      "1/1 [==============================] - 0s 39ms/step\n",
      "1/1 [==============================] - 0s 16ms/step\n",
      "1/1 [==============================] - 0s 33ms/step\n",
      "1/1 [==============================] - 0s 42ms/step\n",
      "1/1 [==============================] - 0s 31ms/step\n",
      "1/1 [==============================] - 0s 16ms/step\n",
      "1/1 [==============================] - 0s 16ms/step\n",
      "1/1 [==============================] - 0s 41ms/step\n",
      "1/1 [==============================] - 0s 35ms/step\n",
      "1/1 [==============================] - 0s 16ms/step\n",
      "1/1 [==============================] - 0s 18ms/step\n",
      "1/1 [==============================] - 0s 16ms/step\n",
      "1/1 [==============================] - 0s 25ms/step\n",
      "1/1 [==============================] - 0s 30ms/step\n",
      "1/1 [==============================] - 0s 27ms/step\n",
      "1/1 [==============================] - 0s 39ms/step\n",
      "1/1 [==============================] - 0s 31ms/step\n",
      "1/1 [==============================] - 0s 29ms/step\n",
      "1/1 [==============================] - 0s 27ms/step\n",
      "1/1 [==============================] - 0s 30ms/step\n",
      "1/1 [==============================] - 0s 19ms/step\n",
      "1/1 [==============================] - 0s 28ms/step\n",
      "1/1 [==============================] - 0s 20ms/step\n",
      "1/1 [==============================] - 0s 18ms/step\n",
      "1/1 [==============================] - 0s 31ms/step\n",
      "1/1 [==============================] - 0s 16ms/step\n",
      "1/1 [==============================] - 0s 18ms/step\n",
      "1/1 [==============================] - 0s 40ms/step\n",
      "1/1 [==============================] - 0s 34ms/step\n",
      "1/1 [==============================] - 0s 22ms/step\n",
      "1/1 [==============================] - 0s 36ms/step\n",
      "1/1 [==============================] - 0s 32ms/step\n",
      "1/1 [==============================] - 0s 16ms/step\n",
      "1/1 [==============================] - 0s 16ms/step\n",
      "1/1 [==============================] - 0s 34ms/step\n",
      "1/1 [==============================] - 0s 16ms/step\n",
      "1/1 [==============================] - 0s 43ms/step\n",
      "1/1 [==============================] - 0s 37ms/step\n",
      "1/1 [==============================] - 0s 36ms/step\n",
      "1/1 [==============================] - 0s 31ms/step\n",
      "1/1 [==============================] - 0s 31ms/step\n",
      "1/1 [==============================] - 0s 36ms/step\n",
      "1/1 [==============================] - 0s 20ms/step\n",
      "1/1 [==============================] - 0s 17ms/step\n",
      "1/1 [==============================] - 0s 22ms/step\n",
      "1/1 [==============================] - 0s 16ms/step\n",
      "1/1 [==============================] - 0s 34ms/step\n",
      "1/1 [==============================] - 0s 31ms/step\n",
      "1/1 [==============================] - 0s 28ms/step\n",
      "1/1 [==============================] - 0s 20ms/step\n",
      "1/1 [==============================] - 0s 17ms/step\n",
      "1/1 [==============================] - 0s 20ms/step\n",
      "1/1 [==============================] - 0s 35ms/step\n",
      "1/1 [==============================] - 0s 23ms/step\n",
      "1/1 [==============================] - 0s 27ms/step\n",
      "1/1 [==============================] - 0s 43ms/step\n",
      "1/1 [==============================] - 0s 16ms/step\n",
      "1/1 [==============================] - 0s 31ms/step\n",
      "1/1 [==============================] - 0s 37ms/step\n",
      "1/1 [==============================] - 0s 30ms/step\n",
      "1/1 [==============================] - 0s 31ms/step\n",
      "1/1 [==============================] - 0s 31ms/step\n",
      "1/1 [==============================] - 0s 16ms/step\n",
      "1/1 [==============================] - 0s 17ms/step\n",
      "1/1 [==============================] - 0s 31ms/step\n",
      "1/1 [==============================] - 0s 32ms/step\n",
      "1/1 [==============================] - 0s 33ms/step\n",
      "1/1 [==============================] - 0s 20ms/step\n",
      "1/1 [==============================] - 0s 31ms/step\n",
      "1/1 [==============================] - 0s 31ms/step\n",
      "1/1 [==============================] - 0s 33ms/step\n",
      "1/1 [==============================] - 0s 44ms/step\n",
      "1/1 [==============================] - 0s 31ms/step\n",
      "1/1 [==============================] - 0s 34ms/step\n",
      "1/1 [==============================] - 0s 31ms/step\n",
      "1/1 [==============================] - 0s 17ms/step\n",
      "1/1 [==============================] - 0s 31ms/step\n",
      "1/1 [==============================] - 0s 28ms/step\n",
      "1/1 [==============================] - 0s 18ms/step\n",
      "1/1 [==============================] - 0s 31ms/step\n",
      "1/1 [==============================] - 0s 31ms/step\n",
      "1/1 [==============================] - 0s 16ms/step\n",
      "1/1 [==============================] - 0s 28ms/step\n",
      "1/1 [==============================] - 0s 28ms/step\n",
      "1/1 [==============================] - 0s 26ms/step\n",
      "1/1 [==============================] - 0s 16ms/step\n",
      "1/1 [==============================] - 0s 22ms/step\n",
      "1/1 [==============================] - 0s 33ms/step\n",
      "1/1 [==============================] - 0s 16ms/step\n",
      "1/1 [==============================] - 0s 18ms/step\n",
      "1/1 [==============================] - 0s 18ms/step\n",
      "1/1 [==============================] - 0s 17ms/step\n",
      "1/1 [==============================] - 0s 34ms/step\n",
      "1/1 [==============================] - 0s 27ms/step\n",
      "1/1 [==============================] - 0s 20ms/step\n",
      "1/1 [==============================] - 0s 23ms/step\n",
      "1/1 [==============================] - 0s 22ms/step\n",
      "1/1 [==============================] - 0s 21ms/step\n",
      "1/1 [==============================] - 0s 26ms/step\n",
      "1/1 [==============================] - 0s 29ms/step\n",
      "1/1 [==============================] - 0s 25ms/step\n",
      "1/1 [==============================] - 0s 32ms/step\n",
      "1/1 [==============================] - 0s 20ms/step\n",
      "1/1 [==============================] - 0s 34ms/step\n",
      "1/1 [==============================] - 0s 18ms/step\n",
      "1/1 [==============================] - 0s 25ms/step\n",
      "1/1 [==============================] - 0s 26ms/step\n",
      "1/1 [==============================] - 0s 26ms/step\n",
      "1/1 [==============================] - 0s 34ms/step\n",
      "1/1 [==============================] - 0s 29ms/step\n",
      "1/1 [==============================] - 0s 27ms/step\n",
      "1/1 [==============================] - 0s 30ms/step\n",
      "1/1 [==============================] - 0s 29ms/step\n",
      "1/1 [==============================] - 0s 25ms/step\n",
      "1/1 [==============================] - 0s 34ms/step\n",
      "1/1 [==============================] - 0s 31ms/step\n",
      "1/1 [==============================] - 0s 30ms/step\n",
      "1/1 [==============================] - 0s 23ms/step\n",
      "1/1 [==============================] - 0s 26ms/step\n",
      "1/1 [==============================] - 0s 26ms/step\n",
      "1/1 [==============================] - 0s 22ms/step\n",
      "1/1 [==============================] - 0s 19ms/step\n",
      "1/1 [==============================] - 0s 34ms/step\n",
      "1/1 [==============================] - 0s 33ms/step\n",
      "1/1 [==============================] - 0s 33ms/step\n",
      "1/1 [==============================] - 0s 16ms/step\n",
      "1/1 [==============================] - 0s 33ms/step\n",
      "1/1 [==============================] - 0s 16ms/step\n",
      "1/1 [==============================] - 0s 18ms/step\n",
      "1/1 [==============================] - 0s 17ms/step\n",
      "1/1 [==============================] - 0s 31ms/step\n",
      "1/1 [==============================] - 0s 24ms/step\n",
      "1/1 [==============================] - 0s 33ms/step\n",
      "1/1 [==============================] - 0s 20ms/step\n"
     ]
    }
   ],
   "source": [
    "#Create a list of predictions and probabilities for each message in the test set\n",
    "pred_list = []\n",
    "for i in range(len((list(X_test['patterns'])))):\n",
    "    pred_list.extend(predict_class(list(X_test['patterns'])[i]))"
   ]
  },
  {
   "cell_type": "code",
   "execution_count": 78,
   "id": "e80ca4fb",
   "metadata": {},
   "outputs": [],
   "source": [
    "#turn predictions and probabilities into a dataframe\n",
    "nn_pred_prob_df = pd.DataFrame(pred_list)"
   ]
  },
  {
   "cell_type": "code",
   "execution_count": 79,
   "id": "79080c52",
   "metadata": {},
   "outputs": [
    {
     "data": {
      "text/html": [
       "<div>\n",
       "<style scoped>\n",
       "    .dataframe tbody tr th:only-of-type {\n",
       "        vertical-align: middle;\n",
       "    }\n",
       "\n",
       "    .dataframe tbody tr th {\n",
       "        vertical-align: top;\n",
       "    }\n",
       "\n",
       "    .dataframe thead th {\n",
       "        text-align: right;\n",
       "    }\n",
       "</style>\n",
       "<table border=\"1\" class=\"dataframe\">\n",
       "  <thead>\n",
       "    <tr style=\"text-align: right;\">\n",
       "      <th></th>\n",
       "      <th>intent</th>\n",
       "      <th>probability</th>\n",
       "    </tr>\n",
       "  </thead>\n",
       "  <tbody>\n",
       "    <tr>\n",
       "      <th>0</th>\n",
       "      <td>0.0</td>\n",
       "      <td>0.9999708</td>\n",
       "    </tr>\n",
       "    <tr>\n",
       "      <th>1</th>\n",
       "      <td>3.0</td>\n",
       "      <td>0.9962412</td>\n",
       "    </tr>\n",
       "  </tbody>\n",
       "</table>\n",
       "</div>"
      ],
      "text/plain": [
       "   intent probability\n",
       "0     0.0   0.9999708\n",
       "1     3.0   0.9962412"
      ]
     },
     "execution_count": 79,
     "metadata": {},
     "output_type": "execute_result"
    }
   ],
   "source": [
    "nn_pred_prob_df.head(2)"
   ]
  },
  {
   "cell_type": "code",
   "execution_count": 80,
   "id": "744bd3ef",
   "metadata": {},
   "outputs": [
    {
     "data": {
      "text/plain": [
       "304"
      ]
     },
     "execution_count": 80,
     "metadata": {},
     "output_type": "execute_result"
    }
   ],
   "source": [
    "len(nn_pred_prob_df)"
   ]
  },
  {
   "cell_type": "code",
   "execution_count": 81,
   "id": "a3c4dc8b",
   "metadata": {},
   "outputs": [
    {
     "data": {
      "text/plain": [
       "304"
      ]
     },
     "execution_count": 81,
     "metadata": {},
     "output_type": "execute_result"
    }
   ],
   "source": [
    "len(y_test)"
   ]
  },
  {
   "cell_type": "code",
   "execution_count": 82,
   "id": "feab27ac",
   "metadata": {},
   "outputs": [],
   "source": [
    "#To compare the two series y_test and predicted values, I had to drop the original index values in y_test\n",
    "y_test = y_test.reset_index().drop(columns = ['index'])"
   ]
  },
  {
   "cell_type": "code",
   "execution_count": 83,
   "id": "a77a6699",
   "metadata": {},
   "outputs": [],
   "source": [
    "#Make a dataframe with the predictions, probabilities and actual target values for the test set\n",
    "y_v_y_hat = pd.concat([y_test,nn_pred_prob_df], axis=1)"
   ]
  },
  {
   "cell_type": "code",
   "execution_count": 84,
   "id": "5dd1d13a",
   "metadata": {},
   "outputs": [
    {
     "data": {
      "text/html": [
       "<div>\n",
       "<style scoped>\n",
       "    .dataframe tbody tr th:only-of-type {\n",
       "        vertical-align: middle;\n",
       "    }\n",
       "\n",
       "    .dataframe tbody tr th {\n",
       "        vertical-align: top;\n",
       "    }\n",
       "\n",
       "    .dataframe thead th {\n",
       "        text-align: right;\n",
       "    }\n",
       "</style>\n",
       "<table border=\"1\" class=\"dataframe\">\n",
       "  <thead>\n",
       "    <tr style=\"text-align: right;\">\n",
       "      <th></th>\n",
       "      <th>Target</th>\n",
       "      <th>intent</th>\n",
       "      <th>probability</th>\n",
       "    </tr>\n",
       "  </thead>\n",
       "  <tbody>\n",
       "    <tr>\n",
       "      <th>0</th>\n",
       "      <td>0.0</td>\n",
       "      <td>0.0</td>\n",
       "      <td>0.9999708</td>\n",
       "    </tr>\n",
       "    <tr>\n",
       "      <th>1</th>\n",
       "      <td>3.0</td>\n",
       "      <td>3.0</td>\n",
       "      <td>0.9962412</td>\n",
       "    </tr>\n",
       "    <tr>\n",
       "      <th>2</th>\n",
       "      <td>4.0</td>\n",
       "      <td>4.0</td>\n",
       "      <td>1.0</td>\n",
       "    </tr>\n",
       "    <tr>\n",
       "      <th>3</th>\n",
       "      <td>0.0</td>\n",
       "      <td>0.0</td>\n",
       "      <td>0.6341276</td>\n",
       "    </tr>\n",
       "    <tr>\n",
       "      <th>4</th>\n",
       "      <td>0.0</td>\n",
       "      <td>0.0</td>\n",
       "      <td>1.0</td>\n",
       "    </tr>\n",
       "  </tbody>\n",
       "</table>\n",
       "</div>"
      ],
      "text/plain": [
       "   Target  intent probability\n",
       "0     0.0     0.0   0.9999708\n",
       "1     3.0     3.0   0.9962412\n",
       "2     4.0     4.0         1.0\n",
       "3     0.0     0.0   0.6341276\n",
       "4     0.0     0.0         1.0"
      ]
     },
     "execution_count": 84,
     "metadata": {},
     "output_type": "execute_result"
    }
   ],
   "source": [
    "y_v_y_hat.head()"
   ]
  },
  {
   "cell_type": "code",
   "execution_count": 85,
   "id": "aa0734b9",
   "metadata": {},
   "outputs": [
    {
     "data": {
      "text/plain": [
       "0.9671052631578947"
      ]
     },
     "execution_count": 85,
     "metadata": {},
     "output_type": "execute_result"
    }
   ],
   "source": [
    "#Compute the accuracy. 'Target' is y actual, 'intent' is predicted values\n",
    "sum(y_v_y_hat['Target'] == y_v_y_hat['intent'])/len(y_v_y_hat)"
   ]
  },
  {
   "cell_type": "code",
   "execution_count": 86,
   "id": "db758d2b",
   "metadata": {},
   "outputs": [],
   "source": [
    "#Save this dataframe, because it will be used to determine the probability threshold in the next notebook\n",
    "y_v_y_hat.to_csv(\"model_predictions_test.csv\")"
   ]
  },
  {
   "cell_type": "markdown",
   "id": "566ca638",
   "metadata": {},
   "source": [
    "<h2> Compare Performance with Simpler Models </h2> "
   ]
  },
  {
   "cell_type": "markdown",
   "id": "98e9d380",
   "metadata": {},
   "source": [
    "The accuracy of the chatbot model on the the test set was pretty good but it was quite complicated, so I wanted to check to see if I could get similar accuracy from some simpler algorithms"
   ]
  },
  {
   "cell_type": "code",
   "execution_count": 87,
   "id": "af0b591a",
   "metadata": {},
   "outputs": [
    {
     "data": {
      "text/plain": [
       "0.9605263157894737"
      ]
     },
     "execution_count": 87,
     "metadata": {},
     "output_type": "execute_result"
    }
   ],
   "source": [
    "#trainX and trainY are the same as were used in the Neural Network Model\n",
    "#testX and testY are the messages and targets from the training set that are turned into arrays of the same shape as trainX and trainY\n",
    "dt = DecisionTreeClassifier()\n",
    "dt.fit(trainX, trainY)\n",
    "dt_pred = dt.predict(testX)\n",
    "accuracy_score(testY, dt_pred)"
   ]
  },
  {
   "cell_type": "code",
   "execution_count": 88,
   "id": "782ba994",
   "metadata": {},
   "outputs": [
    {
     "data": {
      "text/plain": [
       "0.8980263157894737"
      ]
     },
     "execution_count": 88,
     "metadata": {},
     "output_type": "execute_result"
    }
   ],
   "source": [
    "knn = KNeighborsClassifier()\n",
    "knn.fit(trainX,trainY)\n",
    "knn_pred = knn.predict(testX)\n",
    "accuracy_score(testY, knn_pred)"
   ]
  },
  {
   "cell_type": "markdown",
   "id": "d98bc205",
   "metadata": {},
   "source": [
    "The simple Decision Tree model has pretty good performance compared with the neural network model (96% accuracy for dt compared with 97% accuracy for NN)\n",
    "- For my portfolio I would like to do the following:\n",
    "    - Use k-fold cross validation to see the stability of the decision tree model\n",
    "    - See if I can tune the hyperparameters of the decision tree model to reach or exceed the performance of the neural network model.\n",
    "    \n",
    "Even though the accuracy of the neural network model is only slightly higher than the simple decision tree, the benefit is that it gives a probability assigned with each prediction. This is quite important for my problem of auto-forwarding emails because it means I can build my auto-forwarding function to only foward emails with a very high probability of belonging to a certain class."
   ]
  },
  {
   "cell_type": "code",
   "execution_count": null,
   "id": "3035578c",
   "metadata": {},
   "outputs": [],
   "source": []
  },
  {
   "cell_type": "code",
   "execution_count": null,
   "id": "16eb1df9",
   "metadata": {},
   "outputs": [],
   "source": []
  }
 ],
 "metadata": {
  "kernelspec": {
   "display_name": "Python 3 (ipykernel)",
   "language": "python",
   "name": "python3"
  },
  "language_info": {
   "codemirror_mode": {
    "name": "ipython",
    "version": 3
   },
   "file_extension": ".py",
   "mimetype": "text/x-python",
   "name": "python",
   "nbconvert_exporter": "python",
   "pygments_lexer": "ipython3",
   "version": "3.9.12"
  }
 },
 "nbformat": 4,
 "nbformat_minor": 5
}
