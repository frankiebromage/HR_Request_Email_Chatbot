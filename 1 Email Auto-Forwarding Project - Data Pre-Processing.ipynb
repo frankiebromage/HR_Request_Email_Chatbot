{
 "cells": [
  {
   "cell_type": "markdown",
   "id": "078f7ee7",
   "metadata": {},
   "source": [
    "# 1. Email Auto-forwarding Project - Data Pre-Processing \n",
    "\n",
    "Frankie Bromage\n"
   ]
  },
  {
   "cell_type": "markdown",
   "id": "d43e6089",
   "metadata": {},
   "source": [
    "<h2> Introduction </h2>"
   ]
  },
  {
   "cell_type": "markdown",
   "id": "5dff23f7",
   "metadata": {},
   "source": [
    "- In my own experience, spending time re-routing emails to the correct person is not only mindless and time-consuming for the person forwarding the emails, but also increases the time it takes for the correct person to receive the email. It also increases the probability that emails will get missed and requests are over-looked.\n",
    "- In this project I aim to build a program that takes emails as inputs direclty from an outlook application and forwards them to the appropriate person based on past forwarding behaviour.\n",
    "- To do this, I use Natural Language Processing to convert the text into a bag of words and train a neural network model to classify the emails.\n",
    "- To simulate a real-world situation and avoid using personal data, I am using emails forwarded by one employee with the enron email dataset, a public dataset of 500,000 emails.\n",
    "- I use 2019 code from kaggle user DFOLY1 to pre-process the enron email data set. Accessed from: \"https://www.kaggle.com/code/dfoly1/k-means-clustering-from-scratch\".\n",
    "- The model is based on a chat-bot model used in a 2020 video by NeuralNine which can be found here: \"https://www.youtube.com/watch?v=1lwddP0KUEg\"."
   ]
  },
  {
   "cell_type": "markdown",
   "id": "11573815",
   "metadata": {},
   "source": [
    "<h2> This Notebook </h2>"
   ]
  },
  {
   "cell_type": "markdown",
   "id": "233a776c",
   "metadata": {},
   "source": [
    "In this notebook I clean the enron email dataset so that I can use it for the purposes of my project."
   ]
  },
  {
   "cell_type": "markdown",
   "id": "b48b0412",
   "metadata": {},
   "source": [
    "<h2> Library Imports </h2>"
   ]
  },
  {
   "cell_type": "code",
   "execution_count": 1,
   "id": "4a9b2d2c",
   "metadata": {},
   "outputs": [],
   "source": [
    "import csv\n",
    "import string\n",
    "from string import Template\n",
    "import os, sys, email,re\n",
    "import numpy as np \n",
    "import pandas as pd\n",
    "\n",
    "\n",
    "\n"
   ]
  },
  {
   "cell_type": "markdown",
   "id": "4039a246",
   "metadata": {},
   "source": [
    "<h2> Data Pre-Processing </h2>"
   ]
  },
  {
   "cell_type": "markdown",
   "id": "ff4e6f23",
   "metadata": {},
   "source": [
    "In a real situation, an outlook user can directly download their email information in csv format from outlook to access the body and header information of their emails. Instructions can be found here: \"https://support.microsoft.com/en-us/office/back-up-your-email-e5845b0b-1aeb-424f-924c-aa1c33b18833\""
   ]
  },
  {
   "cell_type": "markdown",
   "id": "ff0a6f15",
   "metadata": {},
   "source": [
    "For the purposes of this project, I am using the enron email dataset to simulate a real world situation. This dataset can be found here: 'https://www.kaggle.com/datasets/wcukierski/enron-email-dataset'"
   ]
  },
  {
   "cell_type": "markdown",
   "id": "67a6c3cb",
   "metadata": {},
   "source": [
    "Data Import"
   ]
  },
  {
   "cell_type": "code",
   "execution_count": 2,
   "id": "721ca314",
   "metadata": {},
   "outputs": [],
   "source": [
    "emails_df = pd.read_csv('C:/Users/frankiecheng/Downloads/enron email dataset/emails.csv')"
   ]
  },
  {
   "cell_type": "code",
   "execution_count": 3,
   "id": "ea445fcd",
   "metadata": {
    "scrolled": true
   },
   "outputs": [
    {
     "data": {
      "text/html": [
       "<div>\n",
       "<style scoped>\n",
       "    .dataframe tbody tr th:only-of-type {\n",
       "        vertical-align: middle;\n",
       "    }\n",
       "\n",
       "    .dataframe tbody tr th {\n",
       "        vertical-align: top;\n",
       "    }\n",
       "\n",
       "    .dataframe thead th {\n",
       "        text-align: right;\n",
       "    }\n",
       "</style>\n",
       "<table border=\"1\" class=\"dataframe\">\n",
       "  <thead>\n",
       "    <tr style=\"text-align: right;\">\n",
       "      <th></th>\n",
       "      <th>file</th>\n",
       "      <th>message</th>\n",
       "    </tr>\n",
       "  </thead>\n",
       "  <tbody>\n",
       "    <tr>\n",
       "      <th>0</th>\n",
       "      <td>allen-p/_sent_mail/1.</td>\n",
       "      <td>Message-ID: &lt;18782981.1075855378110.JavaMail.e...</td>\n",
       "    </tr>\n",
       "    <tr>\n",
       "      <th>1</th>\n",
       "      <td>allen-p/_sent_mail/10.</td>\n",
       "      <td>Message-ID: &lt;15464986.1075855378456.JavaMail.e...</td>\n",
       "    </tr>\n",
       "    <tr>\n",
       "      <th>2</th>\n",
       "      <td>allen-p/_sent_mail/100.</td>\n",
       "      <td>Message-ID: &lt;24216240.1075855687451.JavaMail.e...</td>\n",
       "    </tr>\n",
       "    <tr>\n",
       "      <th>3</th>\n",
       "      <td>allen-p/_sent_mail/1000.</td>\n",
       "      <td>Message-ID: &lt;13505866.1075863688222.JavaMail.e...</td>\n",
       "    </tr>\n",
       "    <tr>\n",
       "      <th>4</th>\n",
       "      <td>allen-p/_sent_mail/1001.</td>\n",
       "      <td>Message-ID: &lt;30922949.1075863688243.JavaMail.e...</td>\n",
       "    </tr>\n",
       "  </tbody>\n",
       "</table>\n",
       "</div>"
      ],
      "text/plain": [
       "                       file                                            message\n",
       "0     allen-p/_sent_mail/1.  Message-ID: <18782981.1075855378110.JavaMail.e...\n",
       "1    allen-p/_sent_mail/10.  Message-ID: <15464986.1075855378456.JavaMail.e...\n",
       "2   allen-p/_sent_mail/100.  Message-ID: <24216240.1075855687451.JavaMail.e...\n",
       "3  allen-p/_sent_mail/1000.  Message-ID: <13505866.1075863688222.JavaMail.e...\n",
       "4  allen-p/_sent_mail/1001.  Message-ID: <30922949.1075863688243.JavaMail.e..."
      ]
     },
     "execution_count": 3,
     "metadata": {},
     "output_type": "execute_result"
    }
   ],
   "source": [
    "emails_df.head()"
   ]
  },
  {
   "cell_type": "markdown",
   "id": "3a3a1ec9",
   "metadata": {},
   "source": [
    "The following code is taken from DFOLY1, 2019 to convert the enron email dataset into a dataframe with \"To\", \"From\", \"subject\" and \"body\" columns."
   ]
  },
  {
   "cell_type": "code",
   "execution_count": 4,
   "id": "b4d76565",
   "metadata": {},
   "outputs": [],
   "source": [
    "emails = list(map(email.parser.Parser().parsestr,emails_df['message']))\n",
    "\n",
    "# extract headings such as subject, from, to etc..\n",
    "headings  = emails[0].keys()\n",
    "\n",
    "# Goes through each email and grabs info for each key\n",
    "# doc['From'] grabs who sent email in all emails\n",
    "for key in headings:\n",
    "    emails_df[key] = [doc[key] for doc in emails]"
   ]
  },
  {
   "cell_type": "code",
   "execution_count": 5,
   "id": "640676e6",
   "metadata": {},
   "outputs": [],
   "source": [
    "def get_raw_text(emails):\n",
    "    email_text = []\n",
    "    for email in emails.walk():\n",
    "        if email.get_content_type() == 'text/plain':\n",
    "            email_text.append(email.get_payload())\n",
    "    return ''.join(email_text)\n",
    "\n",
    "emails_df['body'] = list(map(get_raw_text, emails))\n",
    "emails_df.head()\n",
    "emails_df['user'] = emails_df['file'].map(lambda x: x.split('/')[0])"
   ]
  },
  {
   "cell_type": "code",
   "execution_count": 6,
   "id": "04ca1c7e",
   "metadata": {
    "scrolled": true
   },
   "outputs": [
    {
     "data": {
      "text/plain": [
       "file                         object\n",
       "message                      object\n",
       "Message-ID                   object\n",
       "Date                         object\n",
       "From                         object\n",
       "To                           object\n",
       "Subject                      object\n",
       "Mime-Version                 object\n",
       "Content-Type                 object\n",
       "Content-Transfer-Encoding    object\n",
       "X-From                       object\n",
       "X-To                         object\n",
       "X-cc                         object\n",
       "X-bcc                        object\n",
       "X-Folder                     object\n",
       "X-Origin                     object\n",
       "X-FileName                   object\n",
       "body                         object\n",
       "user                         object\n",
       "dtype: object"
      ]
     },
     "execution_count": 6,
     "metadata": {},
     "output_type": "execute_result"
    }
   ],
   "source": [
    "emails_df['Date'] = pd.to_datetime(emails_df['Date'], infer_datetime_format=True)\n",
    "emails_df.head()\n",
    "emails_df.dtypes"
   ]
  },
  {
   "cell_type": "code",
   "execution_count": 7,
   "id": "33962578",
   "metadata": {},
   "outputs": [],
   "source": [
    "emails_df_2 = emails_df[['From','To','Subject','body']]"
   ]
  },
  {
   "cell_type": "code",
   "execution_count": 8,
   "id": "e7abe742",
   "metadata": {},
   "outputs": [],
   "source": [
    "#Save the cleaned up data file\n",
    "emails_df_2.to_csv('enron_clean.csv')"
   ]
  },
  {
   "cell_type": "code",
   "execution_count": null,
   "id": "4abe923c",
   "metadata": {},
   "outputs": [],
   "source": []
  },
  {
   "cell_type": "code",
   "execution_count": null,
   "id": "acd434bd",
   "metadata": {},
   "outputs": [],
   "source": []
  },
  {
   "cell_type": "code",
   "execution_count": null,
   "id": "16a1dde1",
   "metadata": {},
   "outputs": [],
   "source": []
  },
  {
   "cell_type": "code",
   "execution_count": null,
   "id": "ccb85fee",
   "metadata": {},
   "outputs": [],
   "source": []
  },
  {
   "cell_type": "code",
   "execution_count": null,
   "id": "9808b74e",
   "metadata": {},
   "outputs": [],
   "source": []
  }
 ],
 "metadata": {
  "kernelspec": {
   "display_name": "Python 3 (ipykernel)",
   "language": "python",
   "name": "python3"
  },
  "language_info": {
   "codemirror_mode": {
    "name": "ipython",
    "version": 3
   },
   "file_extension": ".py",
   "mimetype": "text/x-python",
   "name": "python",
   "nbconvert_exporter": "python",
   "pygments_lexer": "ipython3",
   "version": "3.9.12"
  }
 },
 "nbformat": 4,
 "nbformat_minor": 5
}
