{
 "cells": [
  {
   "cell_type": "markdown",
   "id": "5bacc799",
   "metadata": {},
   "source": [
    "# 3. Email Auto-forwarding Project - Application\n",
    "\n",
    "Frankie Bromage"
   ]
  },
  {
   "cell_type": "markdown",
   "id": "f7e9378a",
   "metadata": {},
   "source": [
    "<h2> Introduction </h2>"
   ]
  },
  {
   "cell_type": "markdown",
   "id": "714e7ce0",
   "metadata": {},
   "source": [
    "- In my own experience, spending time re-routing emails to the correct person is not only mindless and time-consuming for the person forwarding the emails, but also increases the time it takes for the correct person to receive the email. It also increases the probability that emails will get missed and requests are over-looked.\n",
    "- In this project I aim to build a program that takes emails as inputs direclty from an outlook application and forwards them to the appropriate person based on past forwarding behaviour.\n",
    "- To do this, I use Natural Language Processing to convert the text into a bag of words and train a neural network model to classify the emails.\n",
    "- To simulate a real-world situation and avoid using personal data, I am using emails forwarded by one employee with the enron email dataset, a public dataset of 500,000 emails.\n",
    "- I use 2019 code from kaggle user DFOLY1 to pre-process the enron email data set. Accessed from: \"https://www.kaggle.com/code/dfoly1/k-means-clustering-from-scratch\".\n",
    "- The model is based on a chat-bot model used in a 2020 video by NeuralNine which can be found here: \"https://www.youtube.com/watch?v=1lwddP0KUEg\"."
   ]
  },
  {
   "cell_type": "markdown",
   "id": "150311b8",
   "metadata": {},
   "source": [
    "<h3> This Notebook </h3>"
   ]
  },
  {
   "cell_type": "markdown",
   "id": "6cffa409",
   "metadata": {},
   "source": [
    "In the previous notebook, I created a model (adapted from NeuralNine, 2020) to predict whether the emails forwarded by employee from the enron email dataset would be forwarded to the most common 4 people she forwarded emails to or to someone else."
   ]
  },
  {
   "cell_type": "markdown",
   "id": "232f7959",
   "metadata": {},
   "source": [
    "I now imagine that this employee wants to auto-forward future emails from her outlook inbox to the appropriate person and create a task list with all other emails. The following code will:\n",
    "- read emails from an outlook inbox\n",
    "- classify them using the model created in the previous notebook\n",
    "- use the model predictions to forward the emails to the correct person or assign emails to an outlook task list and put them in a user-defined folder."
   ]
  },
  {
   "cell_type": "markdown",
   "id": "30872c1d",
   "metadata": {},
   "source": [
    "<h2> Library Imports </h2>"
   ]
  },
  {
   "cell_type": "code",
   "execution_count": null,
   "id": "1f5a953e",
   "metadata": {},
   "outputs": [],
   "source": [
    "import pickle\n",
    "import pandas as pd\n",
    "import win32com.client\n",
    "import nltk\n",
    "from nltk.stem import WordNetLemmatizer\n",
    "from tensorflow.keras.models import load_model"
   ]
  },
  {
   "cell_type": "markdown",
   "id": "24b8fc7d",
   "metadata": {},
   "source": [
    "<h2> Load Model and Files </h2>"
   ]
  },
  {
   "cell_type": "code",
   "execution_count": null,
   "id": "1a707cef",
   "metadata": {},
   "outputs": [],
   "source": [
    "#load the possible classifications from the previous notebook\n",
    "classes = pickle.load(open('classes.pkl','rb'))\n",
    "#load the test set target values and predictions from the previous notebook\n",
    "y_v_y_hat = pd.read_csv(\"model_predictions_test.csv\")\n",
    "#load the emails that correspond to the classifications from the previous notebook\n",
    "target_map = pickle.load(open('target_map.pkl','rb'))\n",
    "#load the model created from the previous notebook\n",
    "model = load_model('email_model_2.h5')\n",
    "#load test set\n"
   ]
  },
  {
   "cell_type": "code",
   "execution_count": null,
   "id": "1e35bcdb",
   "metadata": {},
   "outputs": [],
   "source": [
    "#instantiate lemmatizer to lemmatize new emails\n",
    "lemmatizer = WordNetLemmatizer()"
   ]
  },
  {
   "cell_type": "markdown",
   "id": "bd613cd2",
   "metadata": {},
   "source": [
    "<h2> Self-Defined Functions </h2>"
   ]
  },
  {
   "cell_type": "markdown",
   "id": "97b29877",
   "metadata": {},
   "source": [
    "The following functions come from NeuralNine, 2020, who used them to create a chatbot. "
   ]
  },
  {
   "cell_type": "code",
   "execution_count": 395,
   "id": "73fb655e",
   "metadata": {},
   "outputs": [],
   "source": [
    "def clean_up_sentence(sentence):\n",
    "    '''This function takes in a string and tokenizes and lemmatizes the words in the string'''\n",
    "    sentence_words = nltk.word_tokenize(sentence)\n",
    "    sentence_words = [lemmatizer.lemmatize(word) for word in sentence_words]\n",
    "    return sentence_words\n",
    "\n",
    "def bag_of_words(sentence):\n",
    "    '''This function converts the sentence into an an array of 1s and 0s that the model can use'''\n",
    "    sentence_words = clean_up_sentence(sentence)\n",
    "    bag = [0]*len(words)\n",
    "    for w in sentence_words:\n",
    "        for i, word in enumerate(words):\n",
    "            if word == w:\n",
    "                bag[i] = 1\n",
    "    return np.array(bag)"
   ]
  },
  {
   "cell_type": "code",
   "execution_count": 396,
   "id": "4e655def",
   "metadata": {},
   "outputs": [],
   "source": [
    "def predict_class(sentence):\n",
    "    '''This function takes in a sentence and returns the class and probability that the sentence belongs to this class'''\n",
    "    bow = bag_of_words(sentence)\n",
    "    res = model.predict(np.array([bow]))[0]\n",
    "    ERROR_THRESHOLD = 0.25\n",
    "    result = [[i,r] for i, r in enumerate(res) if r> ERROR_THRESHOLD]\n",
    "    \n",
    "    result.sort(key=lambda x:x[1], reverse = True)\n",
    "    return_list = []\n",
    "    return_list.append({'intent':classes[result[0][0]],'probability':str(result[0][1])})\n",
    "    return return_list"
   ]
  },
  {
   "cell_type": "markdown",
   "id": "67eb81e8",
   "metadata": {},
   "source": [
    "The following functions are used in the email forwarding code."
   ]
  },
  {
   "cell_type": "code",
   "execution_count": 397,
   "id": "9b59cee3",
   "metadata": {},
   "outputs": [],
   "source": [
    "#I changed the predict_class function to take in an email as an object instead of a sentence.\n",
    "def predict_email_class(email):\n",
    "    '''This function is adapted from Neural Nine, 2020. It takes in an email object and returns the predicted classification and probability'''\n",
    "    #extract the body as a string from email object\n",
    "    sentence = email.body\n",
    "    #turn string into bag of words\n",
    "    bow = bag_of_words(sentence)\n",
    "    #predict the class of the email by using the loaded model.\n",
    "    res = model.predict(np.array([bow]))[0]\n",
    "    #Turn the float prediction into integer class prediction and probability\n",
    "    ERROR_THRESHOLD = 0.25\n",
    "    result = [[i,r] for i, r in enumerate(res)if r> ERROR_THRESHOLD]\n",
    "    \n",
    "    result.sort(key=lambda x:x[1], reverse = True)\n",
    "    return_list = []\n",
    "    return_list.append({'intent':classes[result[0][0]],'probability':str(result[0][1])})\n",
    "    return return_list"
   ]
  },
  {
   "cell_type": "code",
   "execution_count": 398,
   "id": "18747ec9",
   "metadata": {},
   "outputs": [],
   "source": [
    "def forward_email(message,email_address):\n",
    "    '''This function takes in a message and forwarding email address as input and sends the message to the email address'''\n",
    "    #Create a forward message item\n",
    "    NewMsg = message.Forward()\n",
    "    #Add the email address in the \"To\" box.\n",
    "    NewMsg.To = email_address\n",
    "    #Send the message. For testing I used 'Display' because I don't want to actually send any messages.\n",
    "    #NewMsg.Send()\n",
    "    NewMsg.Display()"
   ]
  },
  {
   "cell_type": "markdown",
   "id": "a82fecb9",
   "metadata": {},
   "source": [
    "<h2> Determine Acceptable Classification Probability Threshold</h2>"
   ]
  },
  {
   "cell_type": "markdown",
   "id": "87f7bfe9",
   "metadata": {},
   "source": [
    "I want to be quite conservative with the implementation of the model because I want to minimize auto-forwarding emails to the wrong person (i.e. only auto-forward the emails where I can be confident that they have been classified correctly). I looked at the misclassified emails from the test set and investigated what probabilities were generally associated with misclassified emails to determine an appropriate probability threshold."
   ]
  },
  {
   "cell_type": "code",
   "execution_count": 399,
   "id": "8490d165",
   "metadata": {},
   "outputs": [
    {
     "data": {
      "text/plain": [
       "25     0.666629\n",
       "65     0.390829\n",
       "101    0.390829\n",
       "117    0.634746\n",
       "144    0.634128\n",
       "148    0.976773\n",
       "168    0.666629\n",
       "211    0.730075\n",
       "245    0.390829\n",
       "291    0.634128\n",
       "Name: probability, dtype: float64"
      ]
     },
     "execution_count": 399,
     "metadata": {},
     "output_type": "execute_result"
    }
   ],
   "source": [
    "#look at values where predictions were not correct to decide probability threshold for the rest of the code.\n",
    "y_v_y_hat.loc[y_v_y_hat['Target'] != y_v_y_hat['intent']]['probability']\n"
   ]
  },
  {
   "cell_type": "code",
   "execution_count": 400,
   "id": "003cec53",
   "metadata": {},
   "outputs": [],
   "source": [
    "#make the probability threshold the maximum probability of missclassified emails.\n",
    "prob_thresh = max(y_v_y_hat.loc[y_v_y_hat['Target'] != y_v_y_hat['intent']]['probability'])"
   ]
  },
  {
   "cell_type": "code",
   "execution_count": 401,
   "id": "3403c0ab",
   "metadata": {},
   "outputs": [
    {
     "data": {
      "text/plain": [
       "0.9767735"
      ]
     },
     "execution_count": 401,
     "metadata": {},
     "output_type": "execute_result"
    }
   ],
   "source": [
    "prob_thresh"
   ]
  },
  {
   "cell_type": "markdown",
   "id": "6398be78",
   "metadata": {},
   "source": [
    "I investigate the proportion of emails that are removed from consideration by setting the probability threshold to 95.5%. If most of the emails are below this threshold, then it is probably not a useful threshold to use."
   ]
  },
  {
   "cell_type": "code",
   "execution_count": 402,
   "id": "31903aad",
   "metadata": {},
   "outputs": [
    {
     "data": {
      "text/plain": [
       "11.18421052631579"
      ]
     },
     "execution_count": 402,
     "metadata": {},
     "output_type": "execute_result"
    }
   ],
   "source": [
    "#Percentage of emails excluded because they do not meet the probability threshold\n",
    "(len(y_v_y_hat.loc[y_v_y_hat['probability'] <= prob_thresh])/len(y_v_y_hat))*100"
   ]
  },
  {
   "cell_type": "code",
   "execution_count": 403,
   "id": "209a3fb1",
   "metadata": {
    "scrolled": true
   },
   "outputs": [
    {
     "data": {
      "text/plain": [
       "270"
      ]
     },
     "execution_count": 403,
     "metadata": {},
     "output_type": "execute_result"
    }
   ],
   "source": [
    "#Number of emails in testing set left after excluding those below the probability threshold\n",
    "len(y_v_y_hat.loc[y_v_y_hat['probability'] > prob_thresh])"
   ]
  },
  {
   "cell_type": "code",
   "execution_count": 404,
   "id": "213bb409",
   "metadata": {},
   "outputs": [
    {
     "data": {
      "text/plain": [
       "304"
      ]
     },
     "execution_count": 404,
     "metadata": {},
     "output_type": "execute_result"
    }
   ],
   "source": [
    "#Total number of emails in testing set\n",
    "len(y_v_y_hat)"
   ]
  },
  {
   "cell_type": "code",
   "execution_count": null,
   "id": "64a8d6d5",
   "metadata": {},
   "outputs": [],
   "source": []
  },
  {
   "cell_type": "code",
   "execution_count": null,
   "id": "3eb486cb",
   "metadata": {},
   "outputs": [],
   "source": []
  }
 ],
 "metadata": {
  "kernelspec": {
   "display_name": "Python 3 (ipykernel)",
   "language": "python",
   "name": "python3"
  },
  "language_info": {
   "codemirror_mode": {
    "name": "ipython",
    "version": 3
   },
   "file_extension": ".py",
   "mimetype": "text/x-python",
   "name": "python",
   "nbconvert_exporter": "python",
   "pygments_lexer": "ipython3",
   "version": "3.9.12"
  }
 },
 "nbformat": 4,
 "nbformat_minor": 5
}
